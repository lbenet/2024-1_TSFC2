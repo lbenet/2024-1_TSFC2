{
 "cells": [
  {
   "cell_type": "markdown",
   "source": [
    "# Tarea 2\n",
    "\n",
    "Fecha **final** de aceptación del PR: 24 de octubre\n",
    "\n",
    "---"
   ],
   "metadata": {}
  },
  {
   "cell_type": "markdown",
   "source": [
    "El objetivo de esta tarea es implementar la integración de EDOs usando el\n",
    "método de Taylor. Nos basaremos en la paquetería `TaylorSeries.jl` para\n",
    "el álgebra de polinomios.\n",
    "Todas las funciones necesarias deberán encontrarse en\n",
    "el archivo `integracion_taylor.jl`.\n",
    "Su implementación deberá pasar los tests que están en\n",
    "`tests/integ_taylor.jl`, de manera similar a como lo hicimos en la Tarea 1."
   ],
   "metadata": {}
  },
  {
   "cell_type": "markdown",
   "source": [
    "El integrador deberá hacer las operaciones necesarias para obtener\n",
    "los coeficientes $x_{[k]}$ de la serie de Taylor de la solución,\n",
    "*en cada paso de integración*, a partir\n",
    "de la condición inicial \"local\", o sea, al tiempo de interés."
   ],
   "metadata": {}
  },
  {
   "cell_type": "markdown",
   "source": [
    "## 0:\n",
    "\n",
    "Familiarícense con la paquetería `TaylorSeries.jl`; para esto, lean\n",
    "su documentación, en particular\n",
    "[la guía del uso para una variable](https://juliadiff.org/TaylorSeries.jl/stable/userguide/#One-independent-variable).\n",
    "Muchos trucos que necesitarán están escondidos ahí."
   ],
   "metadata": {}
  },
  {
   "cell_type": "markdown",
   "source": [
    "## 1:\n",
    "\n",
    "En este ejercicio implementarán dos métodos para calcular los coeficientes\n",
    "de Taylor de la o las variables dependientes en términos de la variable\n",
    "independiente, tales que dichas series de Taylor satisfagan la\n",
    "ecuación diferencial.\n",
    "- Caso escalar: Implementen la función `coefs_taylor(f, t, u, p)`\n",
    "que calculará los coeficientes $u_{[k]}$ de la expansión de Taylor\n",
    "para la variable dependiente en términos de la independiente ($t$),\n",
    "y regresará el desarrollo de Taylor de la solución local (`::Taylor1`).\n",
    "Los argumentos de esta función son la función `f` que define\n",
    "a la ecuación diferencial, la variable independiente `t::Taylor1`, la variable\n",
    "dependiente `u::Taylor1`, y `p` que representa los parámetros necesarios\n",
    "que se requieran en la función `f` (y que pueden ser `nothing`).\n",
    "La convención para la definición de\n",
    "`f` en el *caso escalar* es que tenga la forma `f(u, p, t)`), con `p`\n",
    "los parámetros que sean necesarios.\n",
    "- Caso vectorial: Implementen la función `coefs_taylor!(f!, t, u, du, p)`,\n",
    "que usaremos cuando tenemos un *sistema* de ecuaciones diferenciales.\n",
    "Los argumentos son la función\n",
    "`f!` que define las ecuaciones diferenciales, la variable independiente\n",
    "`t::Taylor1`, el vector (de objetos `Taylor1`) con las variables\n",
    "dependientes `u`, el vector (de objetos `Taylor1`)\n",
    "con el lado izquierdo de las ecuaciones diferenciales `du`, y\n",
    "finalmente los parámetros necesarios representados por `p`.\n",
    "La función `f!`, en el caso vectorial, usará para su definición la\n",
    "convención `f!(du, u, p, t)`, y debe estar definida de tal manera que\n",
    "`du` (a la salida) corresponda al lado izquierdo de\n",
    "las ecuaciones diferenciales. Es decir, la `du` de entrada será modificada\n",
    "por la función de manera apropiada. La función `coefs_taylor!` debe\n",
    "estar implementada de tal\n",
    "manera que `u` y `du` *cambien* (se actualizen) de manera adecuada,\n",
    "es decir, esta función cambiará los valores de essos argumentos.\n",
    "(Es por eso que, en este caso, el nombre de la función incluye `!`.)"
   ],
   "metadata": {}
  },
  {
   "cell_type": "markdown",
   "source": [
    "## 3:\n",
    "Implementen la función `paso_integracion(u, epsilon)` con *dos métodos* (dependiendo si\n",
    "estamos con una ecuación diferencial escalar o vectorial), donde se obtenga el paso\n",
    "de integración $h$ a partir de los *dos últimos coeficientes* $x_{[k]}$ del desarrollo de\n",
    "Taylor para las variables dependientes, multiplicado por 0.5.\n",
    "(Para el caso vectorial, el paso de integración\n",
    "será el menor de los pasos de integración asociados a cada variable dependiente.)\n",
    "Esta función dependerá de la serie de Taylor para la variable dependiente `u`\n",
    "(o del vector correspondiente), y de la tolerancia absoluta `epsilon`."
   ],
   "metadata": {}
  },
  {
   "cell_type": "markdown",
   "source": [
    "## 4:\n",
    "Combinen las funciones anteriores en dos funciones, `paso_taylor` para el caso escalar y\n",
    "`paso_taylor!` para el vectorial, que combine las funciones implementadas en los\n",
    "ejercicios 2 y 3 adecuadamente. Estas funciones dependerán de `f`, `t`, `u`, y\n",
    "`du` sólo para el caso vectorial, la tolerancia absoluta epsilon, y los parámetros `p`. Las\n",
    "funciones devolverán `u` y el paso de integración `h` en el caso escalar, y en el caso vectorial\n",
    "únicamente `h`, ya que el código debe ser escrito de tal manera que `u` y `du` deben\n",
    "ser actualizadas/modificadas por la función (dado que son vectores, y los vectores son mutables).\n",
    "Es decir, esta función deberá devolver la serie de Taylor de la solución y el paso de integración."
   ],
   "metadata": {}
  },
  {
   "cell_type": "markdown",
   "source": [
    "## 5:\n",
    "Escriban la función `integracion_taylor` (con dos métodos al menos) donde,\n",
    "a partir de las condiciones iniciales `x0` se implementen todos los pasos necesarios\n",
    "para integrar desde `t_ini` hasta `t_fin` las ecuaciones diferenciales definidas por `f`.\n",
    "Los argumentos de esta función serán la función `f`, la condición inicial `x0` (escalar o\n",
    "vectorial), `t_ini`, `t_fin`, el orden para los desarrollos de Taylor, la tolerancia\n",
    "absoluta ϵ, y los parámetros `p` necesarios para las ecuaciones diferenciales.\n",
    "Noten que si `t_ini < t_fin` la integración es \"hacia adelante\" en el tiempo, mientras que si\n",
    "`t_ini > t_fin` la integración es \"hacia atrás\"; el integrador debe funcionar en ambos casos.\n",
    "La función deberá devolver un vector con los tiempos calculados a cada paso de integración,\n",
    "y un vector con la variable dependiente obtenida de la integración; noten que si estamos en\n",
    "el caso vectorial, la salida que corresponde a los valores obtenidos de la variable dependiente\n",
    "será un vector de vectores. Esta función debe ser exportada por el módulo `IntegTaylor`.\n",
    "\n",
    "Un punto importante a notar es que el integrador debe evitar situaciones donde se tenga ciclos\n",
    "infinitos, en particular, en el número de pasos de integración. Esto puede ocurrir\n",
    "dado que el paso de integración es demasiado pequeño (y el tiempo final no se alcanza).\n",
    "La manera de evitar esto puede ser imponiendo un número máximo de pasos de integración (que el\n",
    "usuario puede cambiar), o poniendo una cota ínfima para el paso de integración. La implementación\n",
    "concreta se las dejo a su criterio, pero los valores default deben permitir que\n",
    "el integrador pase los tests."
   ],
   "metadata": {}
  },
  {
   "cell_type": "markdown",
   "source": [
    "---\n",
    "\n",
    "*This notebook was generated using [Literate.jl](https://github.com/fredrikekre/Literate.jl).*"
   ],
   "metadata": {}
  }
 ],
 "nbformat_minor": 3,
 "metadata": {
  "language_info": {
   "file_extension": ".jl",
   "mimetype": "application/julia",
   "name": "julia",
   "version": "1.9.2"
  },
  "kernelspec": {
   "name": "julia-1.9",
   "display_name": "Julia 1.9.2",
   "language": "julia"
  }
 },
 "nbformat": 4
}
