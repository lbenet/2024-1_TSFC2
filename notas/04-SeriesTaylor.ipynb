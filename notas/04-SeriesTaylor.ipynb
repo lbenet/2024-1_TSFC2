{
 "cells": [
  {
   "cell_type": "markdown",
   "source": [
    "# Derivadas superiores y series de Taylor"
   ],
   "metadata": {}
  },
  {
   "cell_type": "markdown",
   "source": [
    "## Motivación"
   ],
   "metadata": {}
  },
  {
   "cell_type": "markdown",
   "source": [
    "Hasta ahora hemos visto que, usando las técnicas de diferenciación\n",
    "automática, podemos calcular la derivada de funciones de una variable\n",
    "esencialmente con un error del orden del epsilon de la máquina.\n",
    "La primer pregunta que abordaremos aquí, es qué hacer para poder\n",
    "calcular la segunda derivada."
   ],
   "metadata": {}
  },
  {
   "cell_type": "markdown",
   "source": [
    "Una posibilidad\n",
    "es extender el concepto del dual para incluir el campo que corresponde\n",
    "a la segunda derivada, es decir, definir una\n",
    "*terna* ordenada donde la primer componente es el valor de la\n",
    "función evaluada en $x_0$, i.e., $f(x_0)$, la segunda es el\n",
    "valor de la primer derivada $f'(x_0)$, y la tercer componente\n",
    "contiene el valor de la segunda derivada, $f^{(2)}(x_0) = f''(x_0)$.\n",
    "Denotaremos a esta terna ordenada por $\\vec{f}$."
   ],
   "metadata": {}
  },
  {
   "cell_type": "markdown",
   "source": [
    "Procediendo como antes, las operaciones aritméticas vendrán dadas por:\n",
    "$$\n",
    "\\begin{align*}\n",
    "\\vec{u} + \\vec{v} & = (u + v, \\quad u'+ v', \\quad u''+v''),\\\\\n",
    "\\vec{u} - \\vec{v} & = (u - v, \\quad u'- v', \\quad u''-v''),\\\\\n",
    "\\vec{u} \\times \\vec{v} & = (u v, \\quad u v' + u' v, \\quad u v'' + 2 u' v' + u'' v),\\\\\n",
    "\\frac{\\vec{u}}{\\vec{v}} & = \\Big( \\frac{u}{v}, \\quad \\frac{u'-( u/v) v'}{v}, \\quad \\frac{u'' - 2 (u/v)' v' - (u/v)v'' }{v}\\Big).\\\\\n",
    "\\end{align*}\n",
    "$$"
   ],
   "metadata": {}
  },
  {
   "cell_type": "markdown",
   "source": [
    "La extensión a funciones elementales se hace igual que antes. Por ejemplo,\n",
    "en el caso de la exponencial, tendremos\n",
    "$$\n",
    "\\exp(\\vec{u}) = \\big( \\exp(u_0),\\,\n",
    "\\exp(u_0) u_0',\\, \\exp(u_0) u_0''+\\exp(u_0) {u_0'}^2 \\big).\n",
    "$$"
   ],
   "metadata": {}
  },
  {
   "cell_type": "markdown",
   "source": [
    "Claramente, este proceso es muy ineficiente para calcular las\n",
    "segundas derivadas o las derivadas de orden aún más alto, dado que\n",
    "las expresiones se complican rápidamente, el proceso de extender su\n",
    "uso en funciones elementales se vuelve tedioso y es fácil cometer\n",
    "errores."
   ],
   "metadata": {}
  },
  {
   "cell_type": "markdown",
   "source": [
    "## Series de Taylor"
   ],
   "metadata": {}
  },
  {
   "cell_type": "markdown",
   "source": [
    "La manera de conseguir obtener las segundas derivadas, y de hecho las\n",
    "derivadas de orden superior en general, es usando las series de Taylor\n",
    "dado que las derivadas de orden superior\n",
    "de una función $f(x)$ en un punto $x_0$ están contenidas en el\n",
    "desarrollo de Taylor de la función alrededor de este punto.\n",
    "La suposición importante en esto es que $f(x)$ es suficientemente\n",
    "suave; por simplicidad supondremos que $f(x)$ es ${\\cal C}^\\infty$ y que\n",
    "estamos no tiene singularidades en $x_0$."
   ],
   "metadata": {}
  },
  {
   "cell_type": "markdown",
   "source": [
    "La serie de Taylor de $f(x)$ viene dada por"
   ],
   "metadata": {}
  },
  {
   "cell_type": "markdown",
   "source": [
    "$$\n",
    "\\begin{align*}\n",
    "f(x) & = f(x_0) + f^{(1)}(x_0) (x-x_0) + \\frac{f^{(2)}(x_0)}{2!} (x-x_0)^2 + \\dots\\\\\n",
    "     & \\qquad + \\frac{f^{(k)}(x_0)}{k!} (x-x_0)^k + \\dots,\\\\\n",
    "& = f_{[0]}(x_0) + f_{[1]}(x_0) (x-x_0) + f_{[2]}(x_0) (x-x_0)^2 + \\dots\\\\\n",
    "     & \\qquad + f_{[k]}(x_0) (x-x_0)^k + \\dots,\\\\\n",
    "\\end{align*}\n",
    "$$"
   ],
   "metadata": {}
  },
  {
   "cell_type": "markdown",
   "source": [
    "donde los coeficientes *normalizados* de Taylor $f_{[k]}(x_0)$ que\n",
    "aparecen en la segunda línea de la ecuación anterior se definen como"
   ],
   "metadata": {}
  },
  {
   "cell_type": "markdown",
   "source": [
    "$$\n",
    "f_{[k]}(x_0) = \\frac{f^{(k)}(x_0)}{k!} =\n",
    "\\frac{1}{k!}\\frac{{\\rm d}^k f}{{\\rm d}x^k}(x_0).\n",
    "$$"
   ],
   "metadata": {}
  },
  {
   "cell_type": "markdown",
   "source": [
    "Vale la pena **enfatizar** que la expresión anterior para la serie\n",
    "de Taylor es *exacta* en tanto que la serie **no** ha sido truncada.\n",
    "En el caso de que la serie sea truncada a orden $k$, el\n",
    "[teorema de Taylor](https://en.wikipedia.org/wiki/Taylor%27s_theorem)\n",
    "asegura que el residuo (error del truncamiento) se puede escribir como:\n",
    "$$\n",
    "{\\cal R_{k}} = \\frac{f^{(k+1)}\\,(\\xi)}{(k+1)!} (x-x_0)^{k+1},\n",
    "$$\n",
    "donde $\\xi$ es un punto que está entre $x_0$ y $x$."
   ],
   "metadata": {}
  },
  {
   "cell_type": "markdown",
   "source": [
    "Si la serie se trunca, la aproximación obtenida es un polinomio de orden\n",
    "$k$ (grado máximo es $k$) en $x-x_0$. Dado que los polinomios en una\n",
    "variable están definidos por $k+1$ coeficientes, entonces pueden\n",
    "ser mapeados a vectores en $\\mathbb{R}^{k+1}$."
   ],
   "metadata": {}
  },
  {
   "cell_type": "markdown",
   "source": [
    "Considerando $f$ y $g$ a dos series de Taylor obtenidas al desarrollar\n",
    "las funciones $f(x)$ y $g(x)$ alrededor de $x_0$ respectivamente, o\n",
    "alternativamente, dos polinomios en la misma variable\n",
    "$x-x_0$ (para usar la misma notación de arriba), las operaciones\n",
    "aritméticas, en término de los coeficientes normalizados de orden $k$,\n",
    "vienen dadas por:"
   ],
   "metadata": {}
  },
  {
   "cell_type": "markdown",
   "source": [
    "$$\n",
    "\\begin{align*}\n",
    "(f+g)_{[k]} & = f_{[k]} + g_{[k]} ,\\\\\n",
    "(f-g)_{[k]} & = f_{[k]} - g_{[k]} ,\\\\\n",
    "(f \\cdot g)_{[k]} & = \\sum_{i=0}^k f_{[i]} \\,g_{[k-i]} \\, ,\\\\\n",
    "\\Big(\\frac{f}{g}\\Big)_{[k]} & = \\frac{1}{g_{[0]}}\n",
    "\\Big( f_{[k]} - \\sum_{i=0}^{k-1} \\big(\\frac{f}{g}\\big)_{[i]} \\, g_{[k-i]} \\Big). \\\\\n",
    "\\end{align*}\n",
    "$$"
   ],
   "metadata": {}
  },
  {
   "cell_type": "markdown",
   "source": [
    "Estas expresiones pueden ser demostradas algebraicamente usando\n",
    "las reglas apropiadas para multiplicar dos polinomios. Vale la pena\n",
    "enfatizar que el uso de los coeficientes normalizados de Taylor es\n",
    "fundamental para obtenerlas."
   ],
   "metadata": {}
  },
  {
   "cell_type": "markdown",
   "source": [
    "## Funciones de polinomios"
   ],
   "metadata": {}
  },
  {
   "cell_type": "markdown",
   "source": [
    "Ahora abordaremos la cuestión de cómo definir y calcular funciones\n",
    "(elementales) de polinomios, e.g., $\\exp(p(x))$.\n",
    "Como veremos a continuación\n",
    "(*spoiler alert*), esto se basará en plantear una ecuación diferencial\n",
    "apropiada para cada función, cuya solución es, precisamente, la\n",
    "expresión que estamos buscando.\n",
    "Este punto es de hecho *muy importante*, ya que muestra la\n",
    "conexión fundamental de estos polinomios con la solución de\n",
    "ecuaciones diferenciales."
   ],
   "metadata": {}
  },
  {
   "cell_type": "markdown",
   "source": [
    "### Un ejemplo"
   ],
   "metadata": {}
  },
  {
   "cell_type": "markdown",
   "source": [
    "Como ejemplo consideraremos la función\n",
    "$$\n",
    "E(x) = \\exp\\big(g(x)\\big),\n",
    "$$\n",
    "donde\n",
    "$$\n",
    "g(x) = \\sum_{k=0}^\\infty g_{[k]} (x-x_0)^k\n",
    "$$\n",
    "es una función escrita como su serie de Taylor alrededor\n",
    "del punto $x_0$."
   ],
   "metadata": {}
  },
  {
   "cell_type": "markdown",
   "source": [
    "Empezaremos por escribir a $E(x)$ como una serie de Taylor alrededor\n",
    "de $x_0$, es decir,\n",
    "$$\n",
    "E(x) = \\sum_{k=0}^\\infty E_{[k]} (x-x_0)^k.\n",
    "$$\n",
    "El objetivo es determinar los coeficientes  $E_{[k]}$ para *toda* $k$,\n",
    "que finalmente representan las derivadas de $E(x)$."
   ],
   "metadata": {}
  },
  {
   "cell_type": "markdown",
   "source": [
    "Escribimos la ecuación diferencial apropiada para $E(x)$.\n",
    "En este caso basta con escribir la derivada de $E(x)$ en\n",
    "términos de $g(x)$, y que viene dada por\n",
    "$$\n",
    "\\begin{align*}\n",
    "\\frac{{\\rm d} E(x)}{{\\rm d}x} &= \\exp\\big(g(x)\\big) \\frac{{\\rm d} g(x)}{{\\rm d}x},\\\\\n",
    " &= E(x) \\frac{{\\rm d} g(x)}{{\\rm d}x},\\\\\n",
    "\\end{align*}\n",
    "$$\n",
    "donde en la última igualdad aparece la derivada de $g(x)$ y también\n",
    "hemos usado la definición de $E(x)$."
   ],
   "metadata": {}
  },
  {
   "cell_type": "markdown",
   "source": [
    "La ecuación diferencial anterior requiere *aún* de una condición inicial\n",
    "para que la solución sea única. En este caso, de la definición de\n",
    "$E(x)$, evaluando en $x=x_0$ y usando la expresión de la serie de\n",
    "Taylor tenemos\n",
    "$$\n",
    "E(x_0) = \\exp(g(x_0)) = E_{[0]}.\n",
    "$$"
   ],
   "metadata": {}
  },
  {
   "cell_type": "markdown",
   "source": [
    "Dado que $E(x)$ es un polinomio en $x$, su derivada la podemos escribir\n",
    "explícitamente\n",
    "$$\n",
    "\\frac{{\\rm d} E(x)}{{\\rm d}x} = \\sum_{k=1}^\\infty k E_{[k]}\\, (x-x_0)^{k-1}.\n",
    "$$\n",
    "Esta expresión la utilizaremos en el lado izquierdo de la ecuación\n",
    "diferencial que define a $E(x)$."
   ],
   "metadata": {}
  },
  {
   "cell_type": "markdown",
   "source": [
    "Ya que $g(x)$ *también* está escrita en forma polinomial, su derivada es\n",
    "$$\n",
    "\\frac{{\\rm d} g(x)}{{\\rm d}x} = \\sum_{k=1}^\\infty k g_{[k]}\\, (x-x_0)^{k-1} .\n",
    "$$"
   ],
   "metadata": {}
  },
  {
   "cell_type": "markdown",
   "source": [
    "Con estas ecuaciones tenemos todo lo que requerimos para\n",
    "escribir el lado derecho de la ecuación diferencial, donde explotamos\n",
    "en particular el producto de polinomios. Paso a paso, tenemos\n",
    "$$\n",
    "\\begin{align*}\n",
    "E(x) \\frac{{\\rm d} g(x)}{{\\rm d}x} & =\n",
    "\\Big[ \\sum_{k=0}^\\infty E_{[k]} (x-x_0)^k \\Big]\n",
    "\\Big[ \\sum_{j=1}^\\infty j g_{[j]} (x-x_0)^{j-1}\\Big] \\\\\n",
    " & = \\sum_{k=1}^\\infty \\Big[ \\sum_{j=0}^k j\n",
    "g_{[j]} E_{[k-j]} \\; \\Big] (x-x_0)^{k-1} .\\\\\n",
    "\\end{align*}\n",
    "$$"
   ],
   "metadata": {}
  },
  {
   "cell_type": "markdown",
   "source": [
    "La segunda igualdad se obtiene reordenando los términos al fijar\n",
    "la potencia de $(x-x_0)$, esto es, $k+j$ se toma como un nuevo\n",
    "índice ($k$), y el nuevo índice $j$ describe el índice del\n",
    "producto de los polinomios. (La potencia se deja de la forma $k-1$\n",
    "ya que el lado izquierdo de la ecuación aparece así.)"
   ],
   "metadata": {}
  },
  {
   "cell_type": "markdown",
   "source": [
    "Igualando con el lado izquierdo de la ecuación diferencial, que\n",
    "sólo involucra a la derivada de $E(x)$, tenemos que se debe cumplir\n",
    "$$\n",
    "E_{[k]} = \\frac{1}{k} \\sum_{j=0}^k j g_{[j]} \\, E_{[k-j]} =\n",
    "\\frac{1}{k} \\sum_{j=0}^{k} (k-j) g_{[k-j]} \\, E_{[j]},\n",
    "$$\n",
    "válida para $k=1,2,\\dots$, con *la condición inicial*\n",
    "$$\n",
    "E_{[0]} = \\exp\\big(g(x_0)\\big).\n",
    "$$\n",
    "Estas relaciones *de recurrencia* permiten calcular\n",
    "$\\exp\\big(g(x)\\big)$, para *cualquier* polinomio (o serie de Taylor)\n",
    "$g(x)$."
   ],
   "metadata": {}
  },
  {
   "cell_type": "markdown",
   "source": [
    "Como ejemplo sencillo, consideraremos el caso concreto $g(x) = x$\n",
    "alrededor de $x_0=0$. En este caso tenemos $g_{[j]} = \\delta_{j,1}$.\n",
    "Usando la expresión para la recurrencia obtenida arriba obtenemos\n",
    "$$\n",
    "\\begin{align*}\n",
    "E_{[0]} & = 1,\\\\\n",
    "E_{[k]} & = \\frac{1}{k} E_{[k-1]} = \\frac{1}{k(k-1)} E_{[k-2]} =\n",
    "\\dots = \\frac{1}{k!} E_{[0]} = \\frac{1}{k!}\\ .\n",
    "\\end{align*}\n",
    "$$\n",
    "En cada igualdad hemos usado que todos los coeficientes de $g(x)$ son\n",
    "cero, excepto $g_{[1]}=1$. El resultado obtenido es bien conocido."
   ],
   "metadata": {}
  },
  {
   "cell_type": "markdown",
   "source": [
    "### Reglas de recusión"
   ],
   "metadata": {}
  },
  {
   "cell_type": "markdown",
   "source": [
    "De la misma manera que en el ejemplo con la exponencial, se pueden\n",
    "obtener las reglas de recursión para otras funciones elementales.\n",
    "La siguiente tabla (tomada de Haro et al,\n",
    "[The parameterization method for invariant manifolds](https://link.springer.com/book/10.1007/978-3-319-29662-3), 2016, p 60)\n",
    "incluye las reglas de recursión más importantes:"
   ],
   "metadata": {}
  },
  {
   "cell_type": "markdown",
   "source": [
    "| Función elemental | Regla de recursión |\n",
    "|:-----------------:|:--------------:|\n",
    "| $p(x) = f(x) g(x)$ | $p_{[k]} = \\sum_{j=0}^k f_{[j]} g_{[k-j]}$ |\n",
    "| $d(x) = f(x) / g(x)$ | $d_{[k]} = \\frac{1}{g_{[0]}}\\Big( f_{[k]} - \\sum_{j=0}^{k-1} d_{[j]} g_{[k-j]}\\Big)$ |\n",
    "| $P(x) = f(x)^\\alpha$ | $P_{[k]} = \\frac{1}{k f_{[0]}} \\sum_{j=0}^{k-1} (\\alpha(k-j)-j)f_{[k-j]}P_{[j]}$ |\n",
    "| $P(x) = f(x)^2$ | $P_{[k]} = \\begin{cases} 2 \\sum\\limits_{j=0}^{(k-1)/2} f_{[j]}f_{[k-j]}, & \\textrm{k impar}\\\\ (f_{[k/2]})^2+ 2 \\sum\\limits_{j=0}^{(k-2)/2} f_{[j]}f_{[k-j]}, & \\textrm{k par}\\end{cases}$ |\n",
    "| $P(x) = f(x)^{1/2}$ | $P_{[k]} = \\begin{cases} \\frac{1}{2 P_{[0]}} \\Big( f_{[k]} - 2 \\sum\\limits_{j=0}^{(k-1)/2} P_{[j]}P_{[k-j]}\\Big), & \\textrm{k impar}\\\\ \\frac{1}{2 P_{[0]}} \\Big( f_{[k]} - (P_{[k/2]})^2 - 2 \\sum\\limits_{j=0}^{(k-2)/2} P_{[j]}P_{[k-j]}\\Big), & \\textrm{k par}\\end{cases}$ |\n",
    "| $E(x) = \\exp(f(x))$ | $E_{[k]} = \\frac{1}{k} \\sum_{j=0}^{k-1} (k-j) f_{[k-j]} E_{[j]}$ |\n",
    "| $L(x) = \\log(f(x))$ | $L_{[k]} = \\frac{1}{f_{[0]}} \\Big( f_{[k]} - \\frac{1}{k}\\sum_{j=1}^{k-1} j f_{[k-j]} L_{[j]} \\Big)$ |\n",
    "| $$ \\begin{align*}S(x) &= \\sin(f(x))\\\\ \\\\ \\\\ C(x) &= \\cos(f(x)) \\end{align*} $$ | $$ \\begin{align*} S_{[k]} &= \\frac{1}{k} \\sum_{j=0}^{k-1} (k-j) f_{[k-j]} C_{[j]}\\\\ C_{[k]} &= -\\frac{1}{k} \\sum_{j=0}^{k-1} (k-j) f_{[k-j]} S_{[j]}\\end{align*} $$ |\n",
    "| $$ \\begin{align*}T(x) &= \\tan(f(x))\\\\ P(x) &= {T(x)}^2 \\end{align*} $$ | $ T_{[k]} = f_{[k]} + \\frac{1}{k} \\sum_{j=0}^{k-1} (k-j) f_{[k-j]} P_{[j]}$ |\n",
    "| $$ \\begin{align*}A(x) &= \\arcsin(f(x))\\\\ R(x) &= \\sqrt{1-{f(x)}^2}\\end{align*} $$ | $ A_{[k]} = \\frac{1}{\\sqrt{1-{f_{[0]}}^2}} \\Big( f_{[k]} - \\sum_{j=0}^{k-1} j R_{[k-j]} A_{[j]} \\Big)$ |\n",
    "| $$ \\begin{align*}A(x) &= \\arctan(f(x))\\\\ R(x) &= 1+f(x)^2\\end{align*} $$ | $ A_{[k]} = \\frac{1}{1+{f_{[0]}}^2} \\Big( f_{[k]} - \\sum_{j=0}^{k-1} j R_{[k-j]} A_{[j]} \\Big)$ |"
   ],
   "metadata": {}
  },
  {
   "cell_type": "markdown",
   "source": [
    "---\n",
    "\n",
    "*This notebook was generated using [Literate.jl](https://github.com/fredrikekre/Literate.jl).*"
   ],
   "metadata": {}
  }
 ],
 "nbformat_minor": 3,
 "metadata": {
  "language_info": {
   "file_extension": ".jl",
   "mimetype": "application/julia",
   "name": "julia",
   "version": "1.9.3"
  },
  "kernelspec": {
   "name": "julia-1.9",
   "display_name": "Julia 1.9.3",
   "language": "julia"
  }
 },
 "nbformat": 4
}
