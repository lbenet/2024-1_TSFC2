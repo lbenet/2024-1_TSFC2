{
 "cells": [
  {
   "cell_type": "markdown",
   "source": [
    "# Diferenciación automática (o algorítmica)"
   ],
   "metadata": {}
  },
  {
   "cell_type": "markdown",
   "source": [
    "## Motivación"
   ],
   "metadata": {}
  },
  {
   "cell_type": "markdown",
   "source": [
    "En la clase anterior, vimos diferentes formas de implementar\n",
    "numéricamente la derivada de una función $f(x)$ en un punto $x_0$, y\n",
    "que el error depende de un parámetro $h$, que es la separación entre\n",
    "puntos cercanos.\n",
    "Obtuvimos que el error absoluto en términos de $h$ (cuando\n",
    "$h\\to 0$) tiene un comportamiento distinto según la definición\n",
    "que uno utiliza, y que de hecho éste puede ser *contaminado* por errores\n",
    "numéricos de precisión finita (cancelación catastrófica)."
   ],
   "metadata": {}
  },
  {
   "cell_type": "markdown",
   "source": [
    "Concretamente, obtuvimos que:\n",
    "- El error absoluto de la \"derivada derecha\" es lineal respecto a $h$. Sin embargo,\n",
    "para valores suficientemente pequeños de $h$, el valor obtenido de la derivada\n",
    "deja de tener sentido ya que se pierde exactitud.\n",
    "- El error absoluto de la \"derivada simétrica\" es cuadrático respecto a $h$. Al igual\n",
    "que la derivada derecha, para $h$ suficientemente pequeña los\n",
    "[*errores de cancelación*](https://en.wikipedia.org/wiki/Loss_of_significance)\n",
    "debidos a las diferencias que hay en la definición, hacen que el resultado pierda sentido.\n",
    "- Finalmente, vimos que el error absoluto de la \"derivada de paso complejo\"\n",
    "también es cuadrático en $h$. A diferencia de las dos definiciones anteriores,\n",
    "la derivada de paso complejo no\n",
    "exhibe problemas al considerar valores de $h$ muy pequeños. Esto se\n",
    "debe a que no involucra restas de números muy cercanos, que darían\n",
    "lugar a errores de cancelación."
   ],
   "metadata": {}
  },
  {
   "cell_type": "markdown",
   "source": [
    "Los puntos anteriores muestran que al implementar un algoritmo\n",
    "numéricamente (usando números de punto flotante u otros con\n",
    "*precisión finita*) es importante la manera en que se hace la implementación,\n",
    "por cuestiones de convergencia y manejo de errores\n",
    "numéricos. En este sentido, la \"derivada compleja\" da el resultado\n",
    "que (numéricamente) más se acerca al exacto, incluso para valores\n",
    "muy pequeños de $h$."
   ],
   "metadata": {}
  },
  {
   "cell_type": "markdown",
   "source": [
    "La pregunta es si podemos obtener el valor exacto,\n",
    "en un sentido numérico, usando números de punto flotante,\n",
    "y en la medida de lo posible hacer esto de forma independiente de $h$.\n",
    "Esto es, obtener como resultado el valor que más se acerca al valor\n",
    "que se obtendría usando números reales, excepto quizás por cuestiones\n",
    "inevitables de redondeo. Las técnicas que introduciremos se conocen como\n",
    "*diferenciación automática* o *algorítmica*."
   ],
   "metadata": {}
  },
  {
   "cell_type": "markdown",
   "source": [
    "Citando a [wikipedia](https://en.wikipedia.org/wiki/Automatic_differentiation):\n",
    "> Automatic differentiation (AD), also called algorithmic\n",
    "> differentiation or computational differentiation [...], is a set of\n",
    "> techniques to numerically evaluate the derivative of a function\n",
    "> specified by a computer program.\n",
    "\n",
    "Diferenciación automática **no es** diferenciación numérica. Está\n",
    "basada en cálculos numéricos (evaluación de funciones en la computadora\n",
    "con números de precisión finita),\n",
    "pero **no** usa ninguna de las definiciones basadas en diferencias\n",
    "finitas, como las que vimos la clase anterior. Tampoco es diferenciación\n",
    "simbólica. La implementación que describiremos se basa en definir estructuras\n",
    "adecuadas que permiten obtener los resultados que buscamos."
   ],
   "metadata": {}
  },
  {
   "cell_type": "markdown",
   "source": [
    "## Una analogía: los números complejos"
   ],
   "metadata": {}
  },
  {
   "cell_type": "markdown",
   "source": [
    "Para ilustrar cómo funcionan los *números duales*, que introduciremos más adelante,\n",
    "empezaremos usando\n",
    "el ejemplo de los números complejos: $z = a + \\mathrm{i} b$, donde $a$\n",
    "representa la parte real de $z$ y $b$ es su parte imaginaria.\n",
    "\n",
    "Uno puede definir todas las operaciones aritméticas de *manera\n",
    "natural* (a partir de los números reales), manteniendo las expresiones\n",
    "con $\\mathrm{i}$ factorizada. En el caso de la multiplicación (y la\n",
    "división) debemos explotar el hecho que $\\mathrm{i}^2=-1$, que es la propiedad que *define*\n",
    "al número imaginario $\\mathrm{i}$; este punto será clave más adelante cuando extendamos este\n",
    "tipo de análisis a los números duales."
   ],
   "metadata": {}
  },
  {
   "cell_type": "markdown",
   "source": [
    "De esta manera, para $z = a + \\mathrm{i} b$ y $w = c + \\mathrm{i} d$,\n",
    "tenemos que,\n",
    "\n",
    "$$\n",
    "\\begin{align*}\n",
    "z + w & = (a + \\mathrm{i} b) + (c + \\mathrm{i} d) = (a + c) + \\mathrm{i}(b + d),\\\\\n",
    "z \\cdot w & = (a + \\mathrm{i} b)\\cdot (c + \\mathrm{i} d)\n",
    "  = ac + \\mathrm{i} (ad+bc) + \\mathrm{i}^2 b d\\\\\n",
    " & = (ac - b d) + \\mathrm{i} (ad+bc).\\\\\n",
    "\\end{align*}\n",
    "$$"
   ],
   "metadata": {}
  },
  {
   "cell_type": "markdown",
   "source": [
    "Por último, vale la pena recordar que $\\mathbb{C}$ es\n",
    "*isomorfo* a $\\mathbb{R}^2$, esto es, uno puede asociar un punto\n",
    "en $\\mathbb{C}$ con uno en $\\mathbb{R}^2$ de manera unívoca, y\n",
    "visceversa."
   ],
   "metadata": {}
  },
  {
   "cell_type": "markdown",
   "source": [
    "## Números duales"
   ],
   "metadata": {}
  },
  {
   "cell_type": "markdown",
   "source": [
    "De manera análoga a los números complejos, introduciremos un par\n",
    "ordenado que llamaremos *números duales*, donde la primer componente\n",
    "es el valor de una función $f(x)$ evaluada en $x_0$, y la segunda es\n",
    "el valor de su derivada evaluada en el mismo punto. Esto es, definimos\n",
    "a los *duales* como:\n",
    "\n",
    "$$\n",
    "\\mathbb{D}_{x_0}f = \\big( f(x_0), f'(x_0) \\big) = \\big( f_0, f'_0 \\big) =\n",
    "f_0 + \\epsilon\\, f'_0.\n",
    "$$\n",
    "\n",
    "Aquí $f_0 = f(x_0)$ y $f'_0=\\frac{d f}{d x}(x_0)$ y, en la última\n",
    "igualdad, $\\epsilon$ sirve para indicar la segunda componente del\n",
    "par ordenado. En un sentido que se precisará más adelante, $\\epsilon$\n",
    "se comporta de una manera análoga a $\\mathrm{i}$ para los números\n",
    "complejos, con diferencias en el resultado."
   ],
   "metadata": {}
  },
  {
   "cell_type": "markdown",
   "source": [
    "En particular, para la función constante $f(x)=c$ se debe cumplir\n",
    "que el dual asociado sea\n",
    "$$\n",
    "\\mathbb{D}_{x_0}c = (c, 0) = c,\n",
    "$$\n",
    "y para la función\n",
    "identidad $f(x)=x$ tendremos\n",
    "$$\n",
    "\\mathbb{D}_{x_0} x =(x_0,1) = x_0 + \\epsilon.\n",
    "$$\n",
    "Vale la pena notar que la variable independiente respecto a la que estamos\n",
    "derivando es la que define a la función identidad."
   ],
   "metadata": {}
  },
  {
   "cell_type": "markdown",
   "source": [
    "### Aritmética de duales"
   ],
   "metadata": {}
  },
  {
   "cell_type": "markdown",
   "source": [
    "De la definición anterior para $\\mathbb{D}_{x_0} u = (u_0, u^\\prime_0)$ y\n",
    "$\\mathbb{D}_{x_0} w = (w_0, w^\\prime_0)$, y *definiendo* $\\epsilon^2=0$, tenemos que\n",
    "las operaciones aritméticas quedan definidas por:\n",
    "\n",
    "$$\n",
    "\\begin{align*}\n",
    "   \\pm \\mathbb{D}_{x_0} u & = \\big(\\pm u_0, \\pm u'_0 \\big), \\\\\n",
    "\\mathbb{D}_{x_0} (u\\pm w) & = \\mathbb{D}_{x_0} u \\pm \\mathbb{D}_{x_0} w =\n",
    "    \\big( u_0 \\pm w_0, \\, u'_0\\pm w'_0 \\big),\\\\\n",
    "\\mathbb{D}_{x_0} (u \\cdot w) & = \\mathbb{D}_{x_0} u \\cdot \\mathbb{D}_{x_0} w =\n",
    "    \\big( u_0 w_0,\\, u_0 w'_0 +  w_0 u'_0 \\big),\\\\\n",
    "\\mathbb{D}_{x_0} \\frac{u}{w} & = \\frac{\\mathbb{D}_{x_0} u}{\\mathbb{D}_{x_0} w} =\n",
    "    \\big( \\frac{u_0}{w_0},\\, \\frac{ u'_0 - (u_0/w_0)w'_0}{w_0}\\big),\\\\\n",
    "{\\mathbb{D}_{x_0} u}^\\alpha & = \\big( u_0^\\alpha,\\, \\alpha u_0^{\\alpha-1} u'_0 \\big).\\\\\n",
    "\\end{align*}\n",
    "$$"
   ],
   "metadata": {}
  },
  {
   "cell_type": "markdown",
   "source": [
    "Claramente, en las expresiones anteriores la segunda componente corresponde a la derivada\n",
    "de la operación aritmética involucrada. Finalmente, vale la pena también notar que, en las operaciones\n",
    "aritméticas todos los duales están definidos en el mismo punto $x_0$."
   ],
   "metadata": {}
  },
  {
   "cell_type": "markdown",
   "source": [
    "### Un ejemplo de cálculo con duales"
   ],
   "metadata": {}
  },
  {
   "cell_type": "markdown",
   "source": [
    "A fin de desarrollar un ejemplo que utiliza las operaciones que hemos definido entre duales,\n",
    "evaluaremos la función $f(x) = (3x^2-8x+5)/(7x^3-1)$ en el dual $u = 2 + \\epsilon$. Notemos\n",
    "que este dual corresponde a la variable *independiente* $x$ evaluada en 2, es decir, la función identidad\n",
    "evaluada en 2, $u = {\\mathbb{D}_{2} x}$, resaltando que se trata de la variable independiente\n",
    "ya que su derivada (en cualquier punto) es 1. Si todo lo que hemos hecho es consistente,\n",
    "la primer componente del resultado deberá corresponder a evaluar\n",
    "[$f(2)=1/55$](https://www.wolframalpha.com/input?i=evaluate+%283x%5E2-8x%2B5%29%2F%287x%5E3-1%29+at+x+%3D+2),\n",
    "y la segunda componente corresponderá a la derivada\n",
    "[$f^\\prime(2)=136/3025$](https://www.wolframalpha.com/input?i=derivative%28%283x%5E2-8x%2B5%29%2F%287x%5E3-1%29%2C+x%2C+2%29)."
   ],
   "metadata": {}
  },
  {
   "cell_type": "markdown",
   "source": [
    "$$\n",
    "\\begin{align*}\n",
    "f(u) = & \\frac{3u^2-8u+5}{7u^3-1} =\n",
    "            \\frac{3*2^2-8*2^1+5 +\\epsilon(2*3*2^1-8)}{7*2^3-1 + \\epsilon(3*7*2^2)} \\\\\n",
    "        = & \\frac{1+4\\epsilon}{55+84\\epsilon} =\n",
    "            \\frac{1}{55} + \\epsilon \\frac{4-\\frac{1}{55}(84)}{55}\n",
    "            = \\frac{1}{55} + \\epsilon \\frac{4*55-84}{3025}\n",
    "            = \\frac{1}{55} + \\epsilon \\frac{136}{3025}.\\\\\n",
    "\\end{align*}\n",
    "$$"
   ],
   "metadata": {}
  },
  {
   "cell_type": "markdown",
   "source": [
    "Los resultados claramente corresponden con la interpretación que queremos."
   ],
   "metadata": {}
  },
  {
   "cell_type": "markdown",
   "source": [
    "### Funciones definidas sobre los duales"
   ],
   "metadata": {}
  },
  {
   "cell_type": "markdown",
   "source": [
    "La regla de la cadena es fundamental para el cálculo de las derivadas, y por lo mismo,\n",
    "se aplicará para definir funciones sobre duales. Definiremos la aplicación de funciones en\n",
    "duales, buscando que la interpretación del dual sea preservada: la primer componente del par\n",
    "ordenado debe corresponder a la composición de las funciones, y la segunda a su derivada.\n",
    "Es decir, si el dual es de la forma $u = {\\mathbb{D}_{x_0} x}$, $u$ corresponde a la\n",
    "variable independiente evaluada en $x_0$, entonces\n",
    "$f(u)$, que es un dual, tiene como primer componente $f(x_0)$ y como segunda a\n",
    "$f^\\prime(x_0)$."
   ],
   "metadata": {}
  },
  {
   "cell_type": "markdown",
   "source": [
    "Entonces, dado que\n",
    "$$\n",
    "\\frac{\\textrm{d}\\exp(f(x))}{\\textrm{d}x}(x_0) = \\exp(f(x_0)) f^\\prime(x_0),\n",
    "$$\n",
    "para ${\\mathbb{D}_{x_0} u}=u_0+\\epsilon u_0^\\prime$ podemos escribir\n",
    "$$\n",
    "\\exp({\\mathbb{D}_{x_0} u}) = \\exp(u) = \\exp(u_0+\\epsilon u_0^\\prime)\n",
    "    = \\exp(u_0)+ \\epsilon \\exp(u_0) u_0^\\prime.\n",
    "$$"
   ],
   "metadata": {}
  },
  {
   "cell_type": "markdown",
   "source": [
    "De manera similar podemos obtener\n",
    "$$\n",
    "\\begin{align*}\n",
    "\\exp({\\mathbb{D}_{x_0} u}) & = \\exp(u_0) + \\epsilon \\exp(u_0) u_0^\\prime,\\\\\n",
    "\\log({\\mathbb{D}_{x_0} u}) & = \\log(u_0) + \\epsilon \\frac{u_0^\\prime}{u_0},\\\\\n",
    "\\sin({\\mathbb{D}_{x_0} u}) & = \\sin(u_0) + \\epsilon \\cos(u_0) u_0^\\prime,\\\\\n",
    "\\cos({\\mathbb{D}_{x_0} u}) & = \\cos(u_0) - \\epsilon \\sin(u_0) u_0^\\prime,\\\\\n",
    "\\tan({\\mathbb{D}_{x_0} u}) & = \\tan(u_0) + \\epsilon \\sec^2(u_0) u_0^\\prime,\\\\\n",
    "\\sinh({\\mathbb{D}_{x_0} u}) & = \\sinh(u_0) + \\epsilon \\cosh(u_0) u_0^\\prime,\\\\\n",
    "\\dots\n",
    "\\end{align*}\n",
    "$$"
   ],
   "metadata": {}
  },
  {
   "cell_type": "markdown",
   "source": [
    "Al igual que antes, lo importante de estas expresiones es que si $u = {\\mathbb{D}_{x_0} x}$\n",
    "es la variable independiente evaluada en $x_0$, por lo que la derivada de $u$ es 1, entonces\n",
    "la segunda componente de $f(u)$ corresponderá a $f^\\prime(x_0)$. Las reglas anteriores\n",
    "garantizan que la composición de funciones se puede usar con duales de manera más o menos\n",
    "sencilla."
   ],
   "metadata": {}
  },
  {
   "cell_type": "markdown",
   "source": [
    "---\n",
    "\n",
    "*This notebook was generated using [Literate.jl](https://github.com/fredrikekre/Literate.jl).*"
   ],
   "metadata": {}
  }
 ],
 "nbformat_minor": 3,
 "metadata": {
  "language_info": {
   "file_extension": ".jl",
   "mimetype": "application/julia",
   "name": "julia",
   "version": "1.9.3"
  },
  "kernelspec": {
   "name": "julia-1.9",
   "display_name": "Julia 1.9.3",
   "language": "julia"
  }
 },
 "nbformat": 4
}
