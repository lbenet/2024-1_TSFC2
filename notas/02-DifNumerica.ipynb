{
 "cells": [
  {
   "cell_type": "markdown",
   "source": [
    "# Derivación numérica"
   ],
   "metadata": {}
  },
  {
   "outputs": [
    {
     "name": "stdout",
     "output_type": "stream",
     "text": [
      "  Activating project at `~/Escritorio/TSFCII`\n"
     ]
    }
   ],
   "cell_type": "code",
   "source": [
    "#Las siguientes líneas asumen que este archivo se ejecute\n",
    "#desde la carpeta `clases` del curso\n",
    "using Pkg\n",
    "Pkg.activate(\"../\")"
   ],
   "metadata": {},
   "execution_count": 1
  },
  {
   "cell_type": "markdown",
   "source": [
    "## Motivación: el método de Newton\n",
    "\n",
    "Un problema usual es el de encontrar los ceros de una función. Una situación\n",
    "concreta donde esto ocurre es cuando buscamos los máximos o mínimos de una\n",
    "función $f(x)$. Aplicaciones de esto se encuentran en redes neuronales, en\n",
    "las que uno *entrena* la red buscando el mínimo de una función de costo.\n",
    "\n",
    "Un método común para obtener los ceros de una función es el\n",
    "[método de Newton](https://en.wikipedia.org/wiki/Newton%27s_method),\n",
    "que requiere evaluar sucesivamente tanto la función $f(x)$ como su derivada\n",
    "$f^\\prime(x)$. Si bien uno puede escribir la función $f^\\prime(x)$ en el\n",
    "programa, uno quisiera tener formas de evaluar la derivada a partir de la\n",
    "propia función $f(x)$, esto puede ser complicado y da la posibilidad de cometer\n",
    "errores. Esto ocurre a menudo en redes neuronales  uno quiere\n",
    "introducir nuevas funciones para el entrenamiento de la red."
   ],
   "metadata": {}
  },
  {
   "cell_type": "markdown",
   "source": [
    "En este apartado estudiaremos algunos algoritmos para obtener *aproximaciones*\n",
    "de las derivadas de una función $f(x)$ numéricamente."
   ],
   "metadata": {}
  },
  {
   "cell_type": "markdown",
   "source": [
    "## Derivadas numéricas\n",
    "\n",
    "### Derivada *derecha*\n",
    "\n",
    "Como bien sabemos del curso de cálculo, la derivada se define como:\n",
    "\n",
    "$$\n",
    "f^\\prime(x_0) = \\frac{{\\rm d}f}{{\\rm d}x}(x_0) \\equiv \\lim_{h\\to 0}\n",
    "\\frac{f(x_0+h)-f(x_0)}{h}.\n",
    "$$\n",
    "\n",
    "Numéricamente, es difícil implementar el concepto *límite*. Olvidándolo por el momento,\n",
    "el lado derecho de la definición es relativamente sencillo de implementar\n",
    "numéricamente. Esencialmente requerimos evaluar $f(x)$ en $x_0$ y en $x_0+h$,\n",
    "donde $h$ es un número (de punto flotante) pequeño. La sutileza está entonces\n",
    "en implementar por el límite $h\\to 0$. Esto, por su parte, lo haremos numéricamente\n",
    "considerando valores de $h$ cada vez más pequeños, por lo que esperamos obtener valores\n",
    "cada vez más precisos de la derivada."
   ],
   "metadata": {}
  },
  {
   "cell_type": "markdown",
   "source": [
    "Para ilustrar lo anterior, empezaremos definiendo la función `derivada_derecha`,\n",
    "que aproximará *numéricamente* la derivada de la función $f(x)$, de una variable\n",
    "(a priori arbitaria), en un punto $x_0$. Para esto, utilizaremos la aproximación de\n",
    "la derivada que se basa en la definición, y eventualmente simularemos el *límite*\n",
    "como se describió antes.\n",
    "Esta función entonces dependerá de `f`, la función que queremos derivar, `x0` el punto\n",
    "donde queremos derivar a la función, y `h`, que es el incremento *finito* respecto a $x_0$\n",
    "que aparece en la definición arriba. Es decir, calcularemos la derivada usando la\n",
    "aproximación\n",
    "$$\n",
    "f'(x_0) \\approx \\frac{\\Delta f_+}{\\Delta x} \\equiv \\frac{f(x_0+h)-f(x_0)}{h},\n",
    "$$\n",
    "Este método se conoce por el nombre de *diferencias finitas*."
   ],
   "metadata": {}
  },
  {
   "outputs": [
    {
     "output_type": "execute_result",
     "data": {
      "text/plain": "Main.var\"##292\".derivada_derecha"
     },
     "metadata": {},
     "execution_count": 2
    }
   ],
   "cell_type": "code",
   "source": [
    "\"\"\"\n",
    "    derivada_derecha(f, x0,h)\n",
    "\n",
    "Evalúa la derivada de `f` en `x0` usando diferencias finitas con el\n",
    "incremento por la derecha.\n",
    "\"\"\"\n",
    "derivada_derecha(f, x0, h) = (f(x0 + h) - f(x0)) / h"
   ],
   "metadata": {},
   "execution_count": 2
  },
  {
   "cell_type": "markdown",
   "source": [
    "A fin de *simular* el $\\lim_{h\\to 0}$, consideraremos distintos valores de $h$\n",
    "cada vez más próximos a cero. Para cada valor de $h$ calcularemos el error\n",
    "absoluto del cálculo numérico, es decir, la diferencia del valor calculado\n",
    "respecto al valor *exacto* de la derivada, usando $f(x) = 3x^3-2$ en $x_0=1$."
   ],
   "metadata": {}
  },
  {
   "outputs": [
    {
     "output_type": "execute_result",
     "data": {
      "text/plain": "f′ (generic function with 1 method)"
     },
     "metadata": {},
     "execution_count": 3
    }
   ],
   "cell_type": "code",
   "source": [
    "f(x) = 3x^3-2\n",
    "\n",
    "f′(x) = 9x^2"
   ],
   "metadata": {},
   "execution_count": 3
  },
  {
   "outputs": [
    {
     "output_type": "execute_result",
     "data": {
      "text/plain": "errorabs_dd (generic function with 1 method)"
     },
     "metadata": {},
     "execution_count": 4
    }
   ],
   "cell_type": "code",
   "source": [
    "errorabs_dd(f, f′, x0, h) = abs(f′(x0) - derivada_derecha(f, x0, h))"
   ],
   "metadata": {},
   "execution_count": 4
  },
  {
   "outputs": [
    {
     "output_type": "execute_result",
     "data": {
      "text/plain": "9.0"
     },
     "metadata": {},
     "execution_count": 5
    }
   ],
   "cell_type": "code",
   "source": [
    "f′(1.0)"
   ],
   "metadata": {},
   "execution_count": 5
  },
  {
   "outputs": [
    {
     "output_type": "execute_result",
     "data": {
      "text/plain": "9.930000000000012"
     },
     "metadata": {},
     "execution_count": 6
    }
   ],
   "cell_type": "code",
   "source": [
    "derivada_derecha(f, 1.0, 0.1)"
   ],
   "metadata": {},
   "execution_count": 6
  },
  {
   "outputs": [
    {
     "output_type": "execute_result",
     "data": {
      "text/plain": "0.9300000000000122"
     },
     "metadata": {},
     "execution_count": 7
    }
   ],
   "cell_type": "code",
   "source": [
    "errorabs_dd(f, f′, 1.0, 0.1)"
   ],
   "metadata": {},
   "execution_count": 7
  },
  {
   "outputs": [
    {
     "output_type": "execute_result",
     "data": {
      "text/plain": "15-element Vector{Float64}:\n 0.9300000000000122\n 0.0902999999999956\n 0.00900299999829457\n 0.0009000299939856404\n 9.000033286099551e-5\n 8.999393571684777e-6\n 9.045354545378359e-7\n 3.4120603231713176e-8\n 7.446633389918134e-7\n 7.446633389918134e-7\n 7.446633389918134e-7\n 0.0008001052410691045\n 0.007193500536232023\n 0.029397961028735153\n 0.7699626167013776"
     },
     "metadata": {},
     "execution_count": 8
    }
   ],
   "cell_type": "code",
   "source": [
    "errs_dd = [ errorabs_dd(f, f′, 1.0, 1/10^i) for i=1:15 ]"
   ],
   "metadata": {},
   "execution_count": 8
  },
  {
   "outputs": [
    {
     "output_type": "execute_result",
     "data": {
      "text/plain": "(3.4120603231713176e-8, 8)"
     },
     "metadata": {},
     "execution_count": 9
    }
   ],
   "cell_type": "code",
   "source": [
    "findmin(errs_dd)"
   ],
   "metadata": {},
   "execution_count": 9
  },
  {
   "outputs": [
    {
     "output_type": "execute_result",
     "data": {
      "text/plain": "9.000000034120603"
     },
     "metadata": {},
     "execution_count": 10
    }
   ],
   "cell_type": "code",
   "source": [
    "derivada_derecha(f, 1.0, 1.0e-8)"
   ],
   "metadata": {},
   "execution_count": 10
  },
  {
   "cell_type": "markdown",
   "source": [
    "El resultado anterior muestra que el mínimo del error absoluto lo encontramos\n",
    "usando `h=1.0e-8` (con el muestreo que usamos), y el error absoluto es del orden de\n",
    "`3.4e-8`. Esto indica que, en algún sentido, la noción de límite no la logramos\n",
    "*simular* correctamente."
   ],
   "metadata": {}
  },
  {
   "cell_type": "markdown",
   "source": [
    "### Derivada *simétrica*\n",
    "\n",
    "Una definición alternativa a la dada anteriormente para la derivada, consiste en *simetrizar*\n",
    "la ocurrencia de $h$ en la definición. Podemos entonces definir a la derivada\n",
    "usando la definición\n",
    "$$\n",
    "f^\\prime(x_0) \\equiv \\lim_{h\\to 0} \\frac{f(x_0+h)-f(x_0-h)}{2h}.\n",
    "$$\n",
    "Repetiremos el ejercicio anterior, usando ahora la aproximación de la derivada simétrica\n",
    "$$\n",
    "f'(x_0) \\approx \\frac{\\Delta f_\\textrm{sym}}{\\Delta x} \\equiv \\frac{f(x_0+h)-f(x_0-h)}{2h}.\n",
    "$$"
   ],
   "metadata": {}
  },
  {
   "outputs": [
    {
     "output_type": "execute_result",
     "data": {
      "text/plain": "Main.var\"##292\".derivada_simétrica"
     },
     "metadata": {},
     "execution_count": 11
    }
   ],
   "cell_type": "code",
   "source": [
    "\"\"\"\n",
    "    derivada_simétrica(f, x0,h)\n",
    "\n",
    "Evalúa la derivada de `f` en `x0` usando diferencias finitas con el\n",
    "incremento simétrico.\n",
    "\"\"\"\n",
    "derivada_simétrica(f, x0, h) = (f(x0 + h) - f(x0 - h)) / (2h)"
   ],
   "metadata": {},
   "execution_count": 11
  },
  {
   "outputs": [
    {
     "output_type": "execute_result",
     "data": {
      "text/plain": "errorabs_ds (generic function with 1 method)"
     },
     "metadata": {},
     "execution_count": 12
    }
   ],
   "cell_type": "code",
   "source": [
    "errorabs_ds(f, f′, x0, h) = abs(f′(x0) - derivada_simétrica(f, x0, h))"
   ],
   "metadata": {},
   "execution_count": 12
  },
  {
   "outputs": [
    {
     "output_type": "execute_result",
     "data": {
      "text/plain": "15-element Vector{Float64}:\n 0.03000000000000469\n 0.0003000000000046299\n 2.9999992570139966e-6\n 2.9995014472206094e-8\n 3.0320990163090755e-10\n 7.426592674164567e-11\n 8.139124929584796e-10\n 1.0288317753293086e-8\n 3.0057412914175075e-7\n 7.446633389918134e-7\n 7.446633389918134e-7\n 0.0003560160312190419\n 0.0027526084377313964\n 0.029397961028735153\n 0.32587340685131494"
     },
     "metadata": {},
     "execution_count": 13
    }
   ],
   "cell_type": "code",
   "source": [
    "errs_ds = [errorabs_ds(f, f′, 1.0, 1/10^i) for i=1:15]"
   ],
   "metadata": {},
   "execution_count": 13
  },
  {
   "outputs": [
    {
     "output_type": "execute_result",
     "data": {
      "text/plain": "(7.426592674164567e-11, 6)"
     },
     "metadata": {},
     "execution_count": 14
    }
   ],
   "cell_type": "code",
   "source": [
    "findmin(errs_ds)"
   ],
   "metadata": {},
   "execution_count": 14
  },
  {
   "outputs": [
    {
     "output_type": "execute_result",
     "data": {
      "text/plain": "8.999999999925734"
     },
     "metadata": {},
     "execution_count": 15
    }
   ],
   "cell_type": "code",
   "source": [
    "derivada_simétrica(f, 1.0, 1.0e-6)"
   ],
   "metadata": {},
   "execution_count": 15
  },
  {
   "cell_type": "markdown",
   "source": [
    "Al igual que en el caso de la derivada derecha, la derivada simétrica no permite simular el\n",
    "límite como podríamos haberlo inicialmente pensado, sin embargo, la aproximación es mejor,\n",
    "en el sentido de que el error absoluto es menor (en 3 órdenes de magnitud)."
   ],
   "metadata": {}
  },
  {
   "cell_type": "markdown",
   "source": [
    "Grafiquemos para ambas implementaciones de la derivada el error (absoluto) usando escala\n",
    "logarítmica (en base 10, que hace las cosas más sencillas) en ambos ejes."
   ],
   "metadata": {}
  },
  {
   "outputs": [
    {
     "name": "stdout",
     "output_type": "stream",
     "text": [
      "[ Info: Precompiling Plots [91a5bcdd-55d7-5caf-9e0b-520d859cae80]\n"
     ]
    },
    {
     "output_type": "execute_result",
     "data": {
      "text/plain": "Plot{Plots.GRBackend() n=2}",
      "image/png": "[encoded data removed]",
      "text/html": [
       "<?xml version=\"1.0\" encoding=\"utf-8\"?>\n",
       "<svg xmlns=\"http://www.w3.org/2000/svg\" xmlns:xlink=\"http://www.w3.org/1999/xlink\" width=\"600\" height=\"400\" viewBox=\"0 0 2400 1600\">\n",
       "<defs>\n",
       "  <clipPath id=\"clip850\">\n",
       "    <rect x=\"0\" y=\"0\" width=\"2400\" height=\"1600\"/>\n",
       "  </clipPath>\n",
       "</defs>\n",
       "<path clip-path=\"url(#clip850)\" d=\"M0 1600 L2400 1600 L2400 0 L0 0  Z\" fill=\"#ffffff\" fill-rule=\"evenodd\" fill-opacity=\"1\"/>\n",
       "<defs>\n",
       "  <clipPath id=\"clip851\">\n",
       "    <rect x=\"480\" y=\"0\" width=\"1681\" height=\"1600\"/>\n",
       "  </clipPath>\n",
       "</defs>\n",
       "<path clip-path=\"url(#clip850)\" d=\"M287.366 1423.18 L2352.76 1423.18 L2352.76 47.2441 L287.366 47.2441  Z\" fill=\"#ffffff\" fill-rule=\"evenodd\" fill-opacity=\"1\"/>\n",
       "<defs>\n",
       "  <clipPath id=\"clip852\">\n",
       "    <rect x=\"287\" y=\"47\" width=\"2066\" height=\"1377\"/>\n",
       "  </clipPath>\n",
       "</defs>\n",
       "<polyline clip-path=\"url(#clip852)\" style=\"stroke:#000000; stroke-linecap:round; stroke-linejoin:round; stroke-width:2; stroke-opacity:0.1; fill:none\" points=\"484.998,1423.18 484.998,47.2441 \"/>\n",
       "<polyline clip-path=\"url(#clip852)\" style=\"stroke:#000000; stroke-linecap:round; stroke-linejoin:round; stroke-width:2; stroke-opacity:0.1; fill:none\" points=\"763.352,1423.18 763.352,47.2441 \"/>\n",
       "<polyline clip-path=\"url(#clip852)\" style=\"stroke:#000000; stroke-linecap:round; stroke-linejoin:round; stroke-width:2; stroke-opacity:0.1; fill:none\" points=\"1041.71,1423.18 1041.71,47.2441 \"/>\n",
       "<polyline clip-path=\"url(#clip852)\" style=\"stroke:#000000; stroke-linecap:round; stroke-linejoin:round; stroke-width:2; stroke-opacity:0.1; fill:none\" points=\"1320.06,1423.18 1320.06,47.2441 \"/>\n",
       "<polyline clip-path=\"url(#clip852)\" style=\"stroke:#000000; stroke-linecap:round; stroke-linejoin:round; stroke-width:2; stroke-opacity:0.1; fill:none\" points=\"1598.42,1423.18 1598.42,47.2441 \"/>\n",
       "<polyline clip-path=\"url(#clip852)\" style=\"stroke:#000000; stroke-linecap:round; stroke-linejoin:round; stroke-width:2; stroke-opacity:0.1; fill:none\" points=\"1876.77,1423.18 1876.77,47.2441 \"/>\n",
       "<polyline clip-path=\"url(#clip852)\" style=\"stroke:#000000; stroke-linecap:round; stroke-linejoin:round; stroke-width:2; stroke-opacity:0.1; fill:none\" points=\"2155.12,1423.18 2155.12,47.2441 \"/>\n",
       "<polyline clip-path=\"url(#clip850)\" style=\"stroke:#000000; stroke-linecap:round; stroke-linejoin:round; stroke-width:4; stroke-opacity:1; fill:none\" points=\"287.366,1423.18 2352.76,1423.18 \"/>\n",
       "<polyline clip-path=\"url(#clip850)\" style=\"stroke:#000000; stroke-linecap:round; stroke-linejoin:round; stroke-width:4; stroke-opacity:1; fill:none\" points=\"484.998,1423.18 484.998,1404.28 \"/>\n",
       "<polyline clip-path=\"url(#clip850)\" style=\"stroke:#000000; stroke-linecap:round; stroke-linejoin:round; stroke-width:4; stroke-opacity:1; fill:none\" points=\"763.352,1423.18 763.352,1404.28 \"/>\n",
       "<polyline clip-path=\"url(#clip850)\" style=\"stroke:#000000; stroke-linecap:round; stroke-linejoin:round; stroke-width:4; stroke-opacity:1; fill:none\" points=\"1041.71,1423.18 1041.71,1404.28 \"/>\n",
       "<polyline clip-path=\"url(#clip850)\" style=\"stroke:#000000; stroke-linecap:round; stroke-linejoin:round; stroke-width:4; stroke-opacity:1; fill:none\" points=\"1320.06,1423.18 1320.06,1404.28 \"/>\n",
       "<polyline clip-path=\"url(#clip850)\" style=\"stroke:#000000; stroke-linecap:round; stroke-linejoin:round; stroke-width:4; stroke-opacity:1; fill:none\" points=\"1598.42,1423.18 1598.42,1404.28 \"/>\n",
       "<polyline clip-path=\"url(#clip850)\" style=\"stroke:#000000; stroke-linecap:round; stroke-linejoin:round; stroke-width:4; stroke-opacity:1; fill:none\" points=\"1876.77,1423.18 1876.77,1404.28 \"/>\n",
       "<polyline clip-path=\"url(#clip850)\" style=\"stroke:#000000; stroke-linecap:round; stroke-linejoin:round; stroke-width:4; stroke-opacity:1; fill:none\" points=\"2155.12,1423.18 2155.12,1404.28 \"/>\n",
       "<path clip-path=\"url(#clip850)\" d=\"M438.817 1468.75 L468.493 1468.75 L468.493 1472.69 L438.817 1472.69 L438.817 1468.75 Z\" fill=\"#000000\" fill-rule=\"nonzero\" fill-opacity=\"1\" /><path clip-path=\"url(#clip850)\" d=\"M479.396 1481.64 L487.035 1481.64 L487.035 1455.28 L478.724 1456.95 L478.724 1452.69 L486.988 1451.02 L491.664 1451.02 L491.664 1481.64 L499.303 1481.64 L499.303 1485.58 L479.396 1485.58 L479.396 1481.64 Z\" fill=\"#000000\" fill-rule=\"nonzero\" fill-opacity=\"1\" /><path clip-path=\"url(#clip850)\" d=\"M521.595 1455.09 L509.789 1473.54 L521.595 1473.54 L521.595 1455.09 M520.368 1451.02 L526.247 1451.02 L526.247 1473.54 L531.178 1473.54 L531.178 1477.43 L526.247 1477.43 L526.247 1485.58 L521.595 1485.58 L521.595 1477.43 L505.993 1477.43 L505.993 1472.92 L520.368 1451.02 Z\" fill=\"#000000\" fill-rule=\"nonzero\" fill-opacity=\"1\" /><path clip-path=\"url(#clip850)\" d=\"M718.213 1468.75 L747.889 1468.75 L747.889 1472.69 L718.213 1472.69 L718.213 1468.75 Z\" fill=\"#000000\" fill-rule=\"nonzero\" fill-opacity=\"1\" /><path clip-path=\"url(#clip850)\" d=\"M758.792 1481.64 L766.431 1481.64 L766.431 1455.28 L758.121 1456.95 L758.121 1452.69 L766.384 1451.02 L771.06 1451.02 L771.06 1481.64 L778.699 1481.64 L778.699 1485.58 L758.792 1485.58 L758.792 1481.64 Z\" fill=\"#000000\" fill-rule=\"nonzero\" fill-opacity=\"1\" /><path clip-path=\"url(#clip850)\" d=\"M792.171 1481.64 L808.491 1481.64 L808.491 1485.58 L786.546 1485.58 L786.546 1481.64 Q789.208 1478.89 793.792 1474.26 Q798.398 1469.61 799.579 1468.27 Q801.824 1465.74 802.704 1464.01 Q803.606 1462.25 803.606 1460.56 Q803.606 1457.8 801.662 1456.07 Q799.741 1454.33 796.639 1454.33 Q794.44 1454.33 791.986 1455.09 Q789.556 1455.86 786.778 1457.41 L786.778 1452.69 Q789.602 1451.55 792.056 1450.97 Q794.509 1450.39 796.546 1450.39 Q801.917 1450.39 805.111 1453.08 Q808.305 1455.77 808.305 1460.26 Q808.305 1462.39 807.495 1464.31 Q806.708 1466.2 804.602 1468.8 Q804.023 1469.47 800.921 1472.69 Q797.819 1475.88 792.171 1481.64 Z\" fill=\"#000000\" fill-rule=\"nonzero\" fill-opacity=\"1\" /><path clip-path=\"url(#clip850)\" d=\"M995.769 1468.75 L1025.44 1468.75 L1025.44 1472.69 L995.769 1472.69 L995.769 1468.75 Z\" fill=\"#000000\" fill-rule=\"nonzero\" fill-opacity=\"1\" /><path clip-path=\"url(#clip850)\" d=\"M1036.35 1481.64 L1043.99 1481.64 L1043.99 1455.28 L1035.68 1456.95 L1035.68 1452.69 L1043.94 1451.02 L1048.62 1451.02 L1048.62 1481.64 L1056.25 1481.64 L1056.25 1485.58 L1036.35 1485.58 L1036.35 1481.64 Z\" fill=\"#000000\" fill-rule=\"nonzero\" fill-opacity=\"1\" /><path clip-path=\"url(#clip850)\" d=\"M1075.7 1454.1 Q1072.09 1454.1 1070.26 1457.66 Q1068.45 1461.2 1068.45 1468.33 Q1068.45 1475.44 1070.26 1479.01 Q1072.09 1482.55 1075.7 1482.55 Q1079.33 1482.55 1081.14 1479.01 Q1082.97 1475.44 1082.97 1468.33 Q1082.97 1461.2 1081.14 1457.66 Q1079.33 1454.1 1075.7 1454.1 M1075.7 1450.39 Q1081.51 1450.39 1084.57 1455 Q1087.64 1459.58 1087.64 1468.33 Q1087.64 1477.06 1084.57 1481.67 Q1081.51 1486.25 1075.7 1486.25 Q1069.89 1486.25 1066.81 1481.67 Q1063.75 1477.06 1063.75 1468.33 Q1063.75 1459.58 1066.81 1455 Q1069.89 1450.39 1075.7 1450.39 Z\" fill=\"#000000\" fill-rule=\"nonzero\" fill-opacity=\"1\" /><path clip-path=\"url(#clip850)\" d=\"M1289.25 1468.75 L1318.93 1468.75 L1318.93 1472.69 L1289.25 1472.69 L1289.25 1468.75 Z\" fill=\"#000000\" fill-rule=\"nonzero\" fill-opacity=\"1\" /><path clip-path=\"url(#clip850)\" d=\"M1339.02 1469.17 Q1335.69 1469.17 1333.76 1470.95 Q1331.87 1472.73 1331.87 1475.86 Q1331.87 1478.98 1333.76 1480.77 Q1335.69 1482.55 1339.02 1482.55 Q1342.35 1482.55 1344.27 1480.77 Q1346.2 1478.96 1346.2 1475.86 Q1346.2 1472.73 1344.27 1470.95 Q1342.38 1469.17 1339.02 1469.17 M1334.34 1467.18 Q1331.33 1466.44 1329.64 1464.38 Q1327.98 1462.32 1327.98 1459.35 Q1327.98 1455.21 1330.92 1452.8 Q1333.88 1450.39 1339.02 1450.39 Q1344.18 1450.39 1347.12 1452.8 Q1350.06 1455.21 1350.06 1459.35 Q1350.06 1462.32 1348.37 1464.38 Q1346.7 1466.44 1343.72 1467.18 Q1347.1 1467.96 1348.97 1470.26 Q1350.87 1472.55 1350.87 1475.86 Q1350.87 1480.88 1347.79 1483.57 Q1344.74 1486.25 1339.02 1486.25 Q1333.3 1486.25 1330.22 1483.57 Q1327.17 1480.88 1327.17 1475.86 Q1327.17 1472.55 1329.07 1470.26 Q1330.96 1467.96 1334.34 1467.18 M1332.63 1459.79 Q1332.63 1462.48 1334.3 1463.98 Q1335.99 1465.49 1339.02 1465.49 Q1342.03 1465.49 1343.72 1463.98 Q1345.43 1462.48 1345.43 1459.79 Q1345.43 1457.11 1343.72 1455.6 Q1342.03 1454.1 1339.02 1454.1 Q1335.99 1454.1 1334.3 1455.6 Q1332.63 1457.11 1332.63 1459.79 Z\" fill=\"#000000\" fill-rule=\"nonzero\" fill-opacity=\"1\" /><path clip-path=\"url(#clip850)\" d=\"M1567.48 1468.75 L1597.15 1468.75 L1597.15 1472.69 L1567.48 1472.69 L1567.48 1468.75 Z\" fill=\"#000000\" fill-rule=\"nonzero\" fill-opacity=\"1\" /><path clip-path=\"url(#clip850)\" d=\"M1617.82 1466.44 Q1614.68 1466.44 1612.82 1468.59 Q1611 1470.74 1611 1474.49 Q1611 1478.22 1612.82 1480.39 Q1614.68 1482.55 1617.82 1482.55 Q1620.97 1482.55 1622.8 1480.39 Q1624.65 1478.22 1624.65 1474.49 Q1624.65 1470.74 1622.8 1468.59 Q1620.97 1466.44 1617.82 1466.44 M1627.11 1451.78 L1627.11 1456.04 Q1625.35 1455.21 1623.54 1454.77 Q1621.76 1454.33 1620 1454.33 Q1615.37 1454.33 1612.92 1457.45 Q1610.49 1460.58 1610.14 1466.9 Q1611.51 1464.89 1613.57 1463.82 Q1615.63 1462.73 1618.1 1462.73 Q1623.31 1462.73 1626.32 1465.9 Q1629.35 1469.05 1629.35 1474.49 Q1629.35 1479.82 1626.2 1483.03 Q1623.06 1486.25 1617.82 1486.25 Q1611.83 1486.25 1608.66 1481.67 Q1605.49 1477.06 1605.49 1468.33 Q1605.49 1460.14 1609.38 1455.28 Q1613.26 1450.39 1619.82 1450.39 Q1621.57 1450.39 1623.36 1450.74 Q1625.16 1451.09 1627.11 1451.78 Z\" fill=\"#000000\" fill-rule=\"nonzero\" fill-opacity=\"1\" /><path clip-path=\"url(#clip850)\" d=\"M1845.67 1468.75 L1875.35 1468.75 L1875.35 1472.69 L1845.67 1472.69 L1845.67 1468.75 Z\" fill=\"#000000\" fill-rule=\"nonzero\" fill-opacity=\"1\" /><path clip-path=\"url(#clip850)\" d=\"M1898.29 1455.09 L1886.48 1473.54 L1898.29 1473.54 L1898.29 1455.09 M1897.06 1451.02 L1902.94 1451.02 L1902.94 1473.54 L1907.87 1473.54 L1907.87 1477.43 L1902.94 1477.43 L1902.94 1485.58 L1898.29 1485.58 L1898.29 1477.43 L1882.68 1477.43 L1882.68 1472.92 L1897.06 1451.02 Z\" fill=\"#000000\" fill-rule=\"nonzero\" fill-opacity=\"1\" /><path clip-path=\"url(#clip850)\" d=\"M2125.07 1468.75 L2154.74 1468.75 L2154.74 1472.69 L2125.07 1472.69 L2125.07 1468.75 Z\" fill=\"#000000\" fill-rule=\"nonzero\" fill-opacity=\"1\" /><path clip-path=\"url(#clip850)\" d=\"M2168.86 1481.64 L2185.18 1481.64 L2185.18 1485.58 L2163.24 1485.58 L2163.24 1481.64 Q2165.9 1478.89 2170.48 1474.26 Q2175.09 1469.61 2176.27 1468.27 Q2178.52 1465.74 2179.39 1464.01 Q2180.3 1462.25 2180.3 1460.56 Q2180.3 1457.8 2178.35 1456.07 Q2176.43 1454.33 2173.33 1454.33 Q2171.13 1454.33 2168.68 1455.09 Q2166.25 1455.86 2163.47 1457.41 L2163.47 1452.69 Q2166.29 1451.55 2168.75 1450.97 Q2171.2 1450.39 2173.24 1450.39 Q2178.61 1450.39 2181.8 1453.08 Q2185 1455.77 2185 1460.26 Q2185 1462.39 2184.19 1464.31 Q2183.4 1466.2 2181.29 1468.8 Q2180.71 1469.47 2177.61 1472.69 Q2174.51 1475.88 2168.86 1481.64 Z\" fill=\"#000000\" fill-rule=\"nonzero\" fill-opacity=\"1\" /><path clip-path=\"url(#clip850)\" d=\"M1130.92 1518.52 L1136.78 1518.52 L1136.78 1568.04 L1130.92 1568.04 L1130.92 1518.52 Z\" fill=\"#000000\" fill-rule=\"nonzero\" fill-opacity=\"1\" /><path clip-path=\"url(#clip850)\" d=\"M1162.84 1536.5 Q1158.13 1536.5 1155.4 1540.19 Q1152.66 1543.85 1152.66 1550.25 Q1152.66 1556.65 1155.36 1560.34 Q1158.1 1564 1162.84 1564 Q1167.52 1564 1170.26 1560.31 Q1173 1556.62 1173 1550.25 Q1173 1543.92 1170.26 1540.23 Q1167.52 1536.5 1162.84 1536.5 M1162.84 1531.54 Q1170.48 1531.54 1174.84 1536.5 Q1179.2 1541.47 1179.2 1550.25 Q1179.2 1559 1174.84 1564 Q1170.48 1568.97 1162.84 1568.97 Q1155.17 1568.97 1150.81 1564 Q1146.48 1559 1146.48 1550.25 Q1146.48 1541.47 1150.81 1536.5 Q1155.17 1531.54 1162.84 1531.54 Z\" fill=\"#000000\" fill-rule=\"nonzero\" fill-opacity=\"1\" /><path clip-path=\"url(#clip850)\" d=\"M1212.37 1549.81 Q1212.37 1543.44 1209.73 1539.94 Q1207.12 1536.44 1202.37 1536.44 Q1197.66 1536.44 1195.02 1539.94 Q1192.41 1543.44 1192.41 1549.81 Q1192.41 1556.14 1195.02 1559.64 Q1197.66 1563.14 1202.37 1563.14 Q1207.12 1563.14 1209.73 1559.64 Q1212.37 1556.14 1212.37 1549.81 M1218.23 1563.62 Q1218.23 1572.72 1214.18 1577.15 Q1210.14 1581.6 1201.8 1581.6 Q1198.71 1581.6 1195.98 1581.13 Q1193.24 1580.68 1190.66 1579.72 L1190.66 1574.03 Q1193.24 1575.43 1195.75 1576.1 Q1198.27 1576.76 1200.88 1576.76 Q1206.64 1576.76 1209.5 1573.74 Q1212.37 1570.75 1212.37 1564.67 L1212.37 1561.77 Q1210.55 1564.92 1207.72 1566.48 Q1204.89 1568.04 1200.94 1568.04 Q1194.39 1568.04 1190.38 1563.05 Q1186.37 1558.05 1186.37 1549.81 Q1186.37 1541.53 1190.38 1536.53 Q1194.39 1531.54 1200.94 1531.54 Q1204.89 1531.54 1207.72 1533.1 Q1210.55 1534.66 1212.37 1537.81 L1212.37 1532.4 L1218.23 1532.4 L1218.23 1563.62 Z\" fill=\"#000000\" fill-rule=\"nonzero\" fill-opacity=\"1\" /><path clip-path=\"url(#clip850)\" d=\"M1257.37 1578.87 L1257.37 1583.42 L1223.51 1583.42 L1223.51 1578.87 L1257.37 1578.87 Z\" fill=\"#000000\" fill-rule=\"nonzero\" fill-opacity=\"1\" /><path clip-path=\"url(#clip850)\" d=\"M1290.06 1574.09 L1290.06 1578.67 L1288.09 1578.67 Q1280.16 1578.67 1277.46 1576.32 Q1274.78 1573.96 1274.78 1566.93 L1274.78 1559.32 Q1274.78 1554.52 1273.07 1552.67 Q1271.35 1550.82 1266.83 1550.82 L1264.89 1550.82 L1264.89 1546.27 L1266.83 1546.27 Q1271.38 1546.27 1273.07 1544.46 Q1274.78 1542.61 1274.78 1537.87 L1274.78 1530.23 Q1274.78 1523.2 1277.46 1520.87 Q1280.16 1518.52 1288.09 1518.52 L1290.06 1518.52 L1290.06 1523.07 L1287.9 1523.07 Q1283.41 1523.07 1282.04 1524.47 Q1280.67 1525.87 1280.67 1530.36 L1280.67 1538.25 Q1280.67 1543.25 1279.21 1545.51 Q1277.78 1547.77 1274.28 1548.56 Q1277.81 1549.42 1279.24 1551.68 Q1280.67 1553.94 1280.67 1558.91 L1280.67 1566.8 Q1280.67 1571.29 1282.04 1572.69 Q1283.41 1574.09 1287.9 1574.09 L1290.06 1574.09 Z\" fill=\"#000000\" fill-rule=\"nonzero\" fill-opacity=\"1\" /><path clip-path=\"url(#clip850)\" d=\"M1306.3 1562.63 L1316.8 1562.63 L1316.8 1526.38 L1305.37 1528.67 L1305.37 1522.82 L1316.73 1520.52 L1323.16 1520.52 L1323.16 1562.63 L1333.67 1562.63 L1333.67 1568.04 L1306.3 1568.04 L1306.3 1562.63 Z\" fill=\"#000000\" fill-rule=\"nonzero\" fill-opacity=\"1\" /><path clip-path=\"url(#clip850)\" d=\"M1360.4 1524.76 Q1355.44 1524.76 1352.92 1529.66 Q1350.44 1534.53 1350.44 1544.33 Q1350.44 1554.1 1352.92 1559 Q1355.44 1563.87 1360.4 1563.87 Q1365.4 1563.87 1367.88 1559 Q1370.4 1554.1 1370.4 1544.33 Q1370.4 1534.53 1367.88 1529.66 Q1365.4 1524.76 1360.4 1524.76 M1360.4 1519.66 Q1368.39 1519.66 1372.59 1526 Q1376.83 1532.3 1376.83 1544.33 Q1376.83 1556.33 1372.59 1562.66 Q1368.39 1568.97 1360.4 1568.97 Q1352.41 1568.97 1348.18 1562.66 Q1343.98 1556.33 1343.98 1544.33 Q1343.98 1532.3 1348.18 1526 Q1352.41 1519.66 1360.4 1519.66 Z\" fill=\"#000000\" fill-rule=\"nonzero\" fill-opacity=\"1\" /><path clip-path=\"url(#clip850)\" d=\"M1389.3 1574.09 L1391.53 1574.09 Q1395.99 1574.09 1397.32 1572.72 Q1398.69 1571.35 1398.69 1566.8 L1398.69 1558.91 Q1398.69 1553.94 1400.13 1551.68 Q1401.56 1549.42 1405.09 1548.56 Q1401.56 1547.77 1400.13 1545.51 Q1398.69 1543.25 1398.69 1538.25 L1398.69 1530.36 Q1398.69 1525.84 1397.32 1524.47 Q1395.99 1523.07 1391.53 1523.07 L1389.3 1523.07 L1389.3 1518.52 L1391.31 1518.52 Q1399.23 1518.52 1401.88 1520.87 Q1404.55 1523.2 1404.55 1530.23 L1404.55 1537.87 Q1404.55 1542.61 1406.27 1544.46 Q1407.99 1546.27 1412.51 1546.27 L1414.48 1546.27 L1414.48 1550.82 L1412.51 1550.82 Q1407.99 1550.82 1406.27 1552.67 Q1404.55 1554.52 1404.55 1559.32 L1404.55 1566.93 Q1404.55 1573.96 1401.88 1576.32 Q1399.23 1578.67 1391.31 1578.67 L1389.3 1578.67 L1389.3 1574.09 Z\" fill=\"#000000\" fill-rule=\"nonzero\" fill-opacity=\"1\" /><path clip-path=\"url(#clip850)\" d=\"M1442.84 1518.58 Q1438.57 1525.9 1436.51 1533.06 Q1434.44 1540.23 1434.44 1547.58 Q1434.44 1554.93 1436.51 1562.16 Q1438.61 1569.35 1442.84 1576.64 L1437.75 1576.64 Q1432.97 1569.16 1430.59 1561.93 Q1428.23 1554.71 1428.23 1547.58 Q1428.23 1540.48 1430.59 1533.29 Q1432.94 1526.09 1437.75 1518.58 L1442.84 1518.58 Z\" fill=\"#000000\" fill-rule=\"nonzero\" fill-opacity=\"1\" /><path clip-path=\"url(#clip850)\" d=\"M1483.83 1546.53 L1483.83 1568.04 L1477.98 1568.04 L1477.98 1546.72 Q1477.98 1541.66 1476 1539.14 Q1474.03 1536.63 1470.08 1536.63 Q1465.34 1536.63 1462.6 1539.65 Q1459.87 1542.68 1459.87 1547.9 L1459.87 1568.04 L1453.98 1568.04 L1453.98 1518.52 L1459.87 1518.52 L1459.87 1537.93 Q1461.97 1534.72 1464.8 1533.13 Q1467.67 1531.54 1471.39 1531.54 Q1477.53 1531.54 1480.68 1535.36 Q1483.83 1539.14 1483.83 1546.53 Z\" fill=\"#000000\" fill-rule=\"nonzero\" fill-opacity=\"1\" /><path clip-path=\"url(#clip850)\" d=\"M1494.59 1518.58 L1499.69 1518.58 Q1504.46 1526.09 1506.81 1533.29 Q1509.2 1540.48 1509.2 1547.58 Q1509.2 1554.71 1506.81 1561.93 Q1504.46 1569.16 1499.69 1576.64 L1494.59 1576.64 Q1498.83 1569.35 1500.89 1562.16 Q1503 1554.93 1503 1547.58 Q1503 1540.23 1500.89 1533.06 Q1498.83 1525.9 1494.59 1518.58 Z\" fill=\"#000000\" fill-rule=\"nonzero\" fill-opacity=\"1\" /><polyline clip-path=\"url(#clip852)\" style=\"stroke:#000000; stroke-linecap:round; stroke-linejoin:round; stroke-width:2; stroke-opacity:0.1; fill:none\" points=\"287.366,1367.63 2352.76,1367.63 \"/>\n",
       "<polyline clip-path=\"url(#clip852)\" style=\"stroke:#000000; stroke-linecap:round; stroke-linejoin:round; stroke-width:2; stroke-opacity:0.1; fill:none\" points=\"287.366,1046.25 2352.76,1046.25 \"/>\n",
       "<polyline clip-path=\"url(#clip852)\" style=\"stroke:#000000; stroke-linecap:round; stroke-linejoin:round; stroke-width:2; stroke-opacity:0.1; fill:none\" points=\"287.366,724.881 2352.76,724.881 \"/>\n",
       "<polyline clip-path=\"url(#clip852)\" style=\"stroke:#000000; stroke-linecap:round; stroke-linejoin:round; stroke-width:2; stroke-opacity:0.1; fill:none\" points=\"287.366,403.508 2352.76,403.508 \"/>\n",
       "<polyline clip-path=\"url(#clip852)\" style=\"stroke:#000000; stroke-linecap:round; stroke-linejoin:round; stroke-width:2; stroke-opacity:0.1; fill:none\" points=\"287.366,82.1342 2352.76,82.1342 \"/>\n",
       "<polyline clip-path=\"url(#clip850)\" style=\"stroke:#000000; stroke-linecap:round; stroke-linejoin:round; stroke-width:4; stroke-opacity:1; fill:none\" points=\"287.366,1423.18 287.366,47.2441 \"/>\n",
       "<polyline clip-path=\"url(#clip850)\" style=\"stroke:#000000; stroke-linecap:round; stroke-linejoin:round; stroke-width:4; stroke-opacity:1; fill:none\" points=\"287.366,1367.63 306.264,1367.63 \"/>\n",
       "<polyline clip-path=\"url(#clip850)\" style=\"stroke:#000000; stroke-linecap:round; stroke-linejoin:round; stroke-width:4; stroke-opacity:1; fill:none\" points=\"287.366,1046.25 306.264,1046.25 \"/>\n",
       "<polyline clip-path=\"url(#clip850)\" style=\"stroke:#000000; stroke-linecap:round; stroke-linejoin:round; stroke-width:4; stroke-opacity:1; fill:none\" points=\"287.366,724.881 306.264,724.881 \"/>\n",
       "<polyline clip-path=\"url(#clip850)\" style=\"stroke:#000000; stroke-linecap:round; stroke-linejoin:round; stroke-width:4; stroke-opacity:1; fill:none\" points=\"287.366,403.508 306.264,403.508 \"/>\n",
       "<polyline clip-path=\"url(#clip850)\" style=\"stroke:#000000; stroke-linecap:round; stroke-linejoin:round; stroke-width:4; stroke-opacity:1; fill:none\" points=\"287.366,82.1342 306.264,82.1342 \"/>\n",
       "<path clip-path=\"url(#clip850)\" d=\"M114.26 1368.08 L143.936 1368.08 L143.936 1372.01 L114.26 1372.01 L114.26 1368.08 Z\" fill=\"#000000\" fill-rule=\"nonzero\" fill-opacity=\"1\" /><path clip-path=\"url(#clip850)\" d=\"M154.839 1380.97 L162.477 1380.97 L162.477 1354.61 L154.167 1356.27 L154.167 1352.02 L162.431 1350.35 L167.107 1350.35 L167.107 1380.97 L174.746 1380.97 L174.746 1384.91 L154.839 1384.91 L154.839 1380.97 Z\" fill=\"#000000\" fill-rule=\"nonzero\" fill-opacity=\"1\" /><path clip-path=\"url(#clip850)\" d=\"M194.19 1353.43 Q190.579 1353.43 188.75 1356.99 Q186.945 1360.53 186.945 1367.66 Q186.945 1374.77 188.75 1378.33 Q190.579 1381.88 194.19 1381.88 Q197.825 1381.88 199.63 1378.33 Q201.459 1374.77 201.459 1367.66 Q201.459 1360.53 199.63 1356.99 Q197.825 1353.43 194.19 1353.43 M194.19 1349.72 Q200 1349.72 203.056 1354.33 Q206.135 1358.91 206.135 1367.66 Q206.135 1376.39 203.056 1381 Q200 1385.58 194.19 1385.58 Q188.38 1385.58 185.301 1381 Q182.246 1376.39 182.246 1367.66 Q182.246 1358.91 185.301 1354.33 Q188.38 1349.72 194.19 1349.72 Z\" fill=\"#000000\" fill-rule=\"nonzero\" fill-opacity=\"1\" /><path clip-path=\"url(#clip850)\" d=\"M214.352 1379.03 L219.236 1379.03 L219.236 1384.91 L214.352 1384.91 L214.352 1379.03 Z\" fill=\"#000000\" fill-rule=\"nonzero\" fill-opacity=\"1\" /><path clip-path=\"url(#clip850)\" d=\"M239.422 1353.43 Q235.81 1353.43 233.982 1356.99 Q232.176 1360.53 232.176 1367.66 Q232.176 1374.77 233.982 1378.33 Q235.81 1381.88 239.422 1381.88 Q243.056 1381.88 244.861 1378.33 Q246.69 1374.77 246.69 1367.66 Q246.69 1360.53 244.861 1356.99 Q243.056 1353.43 239.422 1353.43 M239.422 1349.72 Q245.232 1349.72 248.287 1354.33 Q251.366 1358.91 251.366 1367.66 Q251.366 1376.39 248.287 1381 Q245.232 1385.58 239.422 1385.58 Q233.611 1385.58 230.533 1381 Q227.477 1376.39 227.477 1367.66 Q227.477 1358.91 230.533 1354.33 Q233.611 1349.72 239.422 1349.72 Z\" fill=\"#000000\" fill-rule=\"nonzero\" fill-opacity=\"1\" /><path clip-path=\"url(#clip850)\" d=\"M145.417 1046.71 L175.093 1046.71 L175.093 1050.64 L145.417 1050.64 L145.417 1046.71 Z\" fill=\"#000000\" fill-rule=\"nonzero\" fill-opacity=\"1\" /><path clip-path=\"url(#clip850)\" d=\"M184.005 1028.97 L206.227 1028.97 L206.227 1030.97 L193.681 1063.53 L188.797 1063.53 L200.602 1032.91 L184.005 1032.91 L184.005 1028.97 Z\" fill=\"#000000\" fill-rule=\"nonzero\" fill-opacity=\"1\" /><path clip-path=\"url(#clip850)\" d=\"M215.348 1057.66 L220.232 1057.66 L220.232 1063.53 L215.348 1063.53 L215.348 1057.66 Z\" fill=\"#000000\" fill-rule=\"nonzero\" fill-opacity=\"1\" /><path clip-path=\"url(#clip850)\" d=\"M230.463 1028.97 L248.82 1028.97 L248.82 1032.91 L234.746 1032.91 L234.746 1041.38 Q235.764 1041.03 236.783 1040.87 Q237.801 1040.69 238.82 1040.69 Q244.607 1040.69 247.986 1043.86 Q251.366 1047.03 251.366 1052.45 Q251.366 1058.03 247.894 1061.13 Q244.421 1064.21 238.102 1064.21 Q235.926 1064.21 233.658 1063.84 Q231.412 1063.47 229.005 1062.72 L229.005 1058.03 Q231.088 1059.16 233.31 1059.72 Q235.533 1060.27 238.009 1060.27 Q242.014 1060.27 244.352 1058.16 Q246.69 1056.06 246.69 1052.45 Q246.69 1048.84 244.352 1046.73 Q242.014 1044.62 238.009 1044.62 Q236.135 1044.62 234.26 1045.04 Q232.408 1045.46 230.463 1046.34 L230.463 1028.97 Z\" fill=\"#000000\" fill-rule=\"nonzero\" fill-opacity=\"1\" /><path clip-path=\"url(#clip850)\" d=\"M144.422 725.333 L174.098 725.333 L174.098 729.268 L144.422 729.268 L144.422 725.333 Z\" fill=\"#000000\" fill-rule=\"nonzero\" fill-opacity=\"1\" /><path clip-path=\"url(#clip850)\" d=\"M184.237 707.601 L202.593 707.601 L202.593 711.536 L188.519 711.536 L188.519 720.009 Q189.538 719.661 190.556 719.499 Q191.575 719.314 192.593 719.314 Q198.38 719.314 201.76 722.485 Q205.139 725.657 205.139 731.073 Q205.139 736.652 201.667 739.754 Q198.195 742.833 191.875 742.833 Q189.7 742.833 187.431 742.462 Q185.186 742.092 182.778 741.351 L182.778 736.652 Q184.862 737.786 187.084 738.342 Q189.306 738.897 191.783 738.897 Q195.787 738.897 198.125 736.791 Q200.463 734.684 200.463 731.073 Q200.463 727.462 198.125 725.356 Q195.787 723.249 191.783 723.249 Q189.908 723.249 188.033 723.666 Q186.181 724.083 184.237 724.962 L184.237 707.601 Z\" fill=\"#000000\" fill-rule=\"nonzero\" fill-opacity=\"1\" /><path clip-path=\"url(#clip850)\" d=\"M214.352 736.282 L219.236 736.282 L219.236 742.161 L214.352 742.161 L214.352 736.282 Z\" fill=\"#000000\" fill-rule=\"nonzero\" fill-opacity=\"1\" /><path clip-path=\"url(#clip850)\" d=\"M239.422 710.68 Q235.81 710.68 233.982 714.245 Q232.176 717.786 232.176 724.916 Q232.176 732.022 233.982 735.587 Q235.81 739.129 239.422 739.129 Q243.056 739.129 244.861 735.587 Q246.69 732.022 246.69 724.916 Q246.69 717.786 244.861 714.245 Q243.056 710.68 239.422 710.68 M239.422 706.976 Q245.232 706.976 248.287 711.583 Q251.366 716.166 251.366 724.916 Q251.366 733.643 248.287 738.249 Q245.232 742.833 239.422 742.833 Q233.611 742.833 230.533 738.249 Q227.477 733.643 227.477 724.916 Q227.477 716.166 230.533 711.583 Q233.611 706.976 239.422 706.976 Z\" fill=\"#000000\" fill-rule=\"nonzero\" fill-opacity=\"1\" /><path clip-path=\"url(#clip850)\" d=\"M145.417 403.959 L175.093 403.959 L175.093 407.894 L145.417 407.894 L145.417 403.959 Z\" fill=\"#000000\" fill-rule=\"nonzero\" fill-opacity=\"1\" /><path clip-path=\"url(#clip850)\" d=\"M189.213 416.853 L205.533 416.853 L205.533 420.788 L183.588 420.788 L183.588 416.853 Q186.251 414.098 190.834 409.468 Q195.44 404.816 196.621 403.473 Q198.866 400.95 199.746 399.214 Q200.649 397.455 200.649 395.765 Q200.649 393.01 198.704 391.274 Q196.783 389.538 193.681 389.538 Q191.482 389.538 189.028 390.302 Q186.598 391.066 183.82 392.617 L183.82 387.894 Q186.644 386.76 189.098 386.181 Q191.551 385.603 193.588 385.603 Q198.959 385.603 202.153 388.288 Q205.348 390.973 205.348 395.464 Q205.348 397.593 204.537 399.515 Q203.75 401.413 201.644 404.005 Q201.065 404.677 197.963 407.894 Q194.862 411.089 189.213 416.853 Z\" fill=\"#000000\" fill-rule=\"nonzero\" fill-opacity=\"1\" /><path clip-path=\"url(#clip850)\" d=\"M215.348 414.908 L220.232 414.908 L220.232 420.788 L215.348 420.788 L215.348 414.908 Z\" fill=\"#000000\" fill-rule=\"nonzero\" fill-opacity=\"1\" /><path clip-path=\"url(#clip850)\" d=\"M230.463 386.228 L248.82 386.228 L248.82 390.163 L234.746 390.163 L234.746 398.635 Q235.764 398.288 236.783 398.126 Q237.801 397.941 238.82 397.941 Q244.607 397.941 247.986 401.112 Q251.366 404.283 251.366 409.7 Q251.366 415.278 247.894 418.38 Q244.421 421.459 238.102 421.459 Q235.926 421.459 233.658 421.089 Q231.412 420.718 229.005 419.978 L229.005 415.278 Q231.088 416.413 233.31 416.968 Q235.533 417.524 238.009 417.524 Q242.014 417.524 244.352 415.417 Q246.69 413.311 246.69 409.7 Q246.69 406.089 244.352 403.982 Q242.014 401.876 238.009 401.876 Q236.135 401.876 234.26 402.292 Q232.408 402.709 230.463 403.589 L230.463 386.228 Z\" fill=\"#000000\" fill-rule=\"nonzero\" fill-opacity=\"1\" /><path clip-path=\"url(#clip850)\" d=\"M194.19 67.9329 Q190.579 67.9329 188.75 71.4977 Q186.945 75.0393 186.945 82.1689 Q186.945 89.2753 188.75 92.8401 Q190.579 96.3818 194.19 96.3818 Q197.825 96.3818 199.63 92.8401 Q201.459 89.2753 201.459 82.1689 Q201.459 75.0393 199.63 71.4977 Q197.825 67.9329 194.19 67.9329 M194.19 64.2292 Q200 64.2292 203.056 68.8356 Q206.135 73.4189 206.135 82.1689 Q206.135 90.8957 203.056 95.5022 Q200 100.085 194.19 100.085 Q188.38 100.085 185.301 95.5022 Q182.246 90.8957 182.246 82.1689 Q182.246 73.4189 185.301 68.8356 Q188.38 64.2292 194.19 64.2292 Z\" fill=\"#000000\" fill-rule=\"nonzero\" fill-opacity=\"1\" /><path clip-path=\"url(#clip850)\" d=\"M214.352 93.5346 L219.236 93.5346 L219.236 99.4142 L214.352 99.4142 L214.352 93.5346 Z\" fill=\"#000000\" fill-rule=\"nonzero\" fill-opacity=\"1\" /><path clip-path=\"url(#clip850)\" d=\"M239.422 67.9329 Q235.81 67.9329 233.982 71.4977 Q232.176 75.0393 232.176 82.1689 Q232.176 89.2753 233.982 92.8401 Q235.81 96.3818 239.422 96.3818 Q243.056 96.3818 244.861 92.8401 Q246.69 89.2753 246.69 82.1689 Q246.69 75.0393 244.861 71.4977 Q243.056 67.9329 239.422 67.9329 M239.422 64.2292 Q245.232 64.2292 248.287 68.8356 Q251.366 73.4189 251.366 82.1689 Q251.366 90.8957 248.287 95.5022 Q245.232 100.085 239.422 100.085 Q233.611 100.085 230.533 95.5022 Q227.477 90.8957 227.477 82.1689 Q227.477 73.4189 230.533 68.8356 Q233.611 64.2292 239.422 64.2292 Z\" fill=\"#000000\" fill-rule=\"nonzero\" fill-opacity=\"1\" /><path clip-path=\"url(#clip850)\" d=\"M14.479 1263.65 L14.479 1257.79 L64.0042 1257.79 L64.0042 1263.65 L14.479 1263.65 Z\" fill=\"#000000\" fill-rule=\"nonzero\" fill-opacity=\"1\" /><path clip-path=\"url(#clip850)\" d=\"M32.4621 1231.72 Q32.4621 1236.43 36.1542 1239.17 Q39.8145 1241.91 46.212 1241.91 Q52.6095 1241.91 56.3017 1239.2 Q59.9619 1236.46 59.9619 1231.72 Q59.9619 1227.04 56.2698 1224.31 Q52.5777 1221.57 46.212 1221.57 Q39.8781 1221.57 36.186 1224.31 Q32.4621 1227.04 32.4621 1231.72 M27.4968 1231.72 Q27.4968 1224.08 32.4621 1219.72 Q37.4273 1215.36 46.212 1215.36 Q54.9649 1215.36 59.9619 1219.72 Q64.9272 1224.08 64.9272 1231.72 Q64.9272 1239.39 59.9619 1243.75 Q54.9649 1248.08 46.212 1248.08 Q37.4273 1248.08 32.4621 1243.75 Q27.4968 1239.39 27.4968 1231.72 Z\" fill=\"#000000\" fill-rule=\"nonzero\" fill-opacity=\"1\" /><path clip-path=\"url(#clip850)\" d=\"M45.7664 1182.2 Q39.4007 1182.2 35.8996 1184.84 Q32.3984 1187.45 32.3984 1192.19 Q32.3984 1196.9 35.8996 1199.54 Q39.4007 1202.15 45.7664 1202.15 Q52.1003 1202.15 55.6014 1199.54 Q59.1026 1196.9 59.1026 1192.19 Q59.1026 1187.45 55.6014 1184.84 Q52.1003 1182.2 45.7664 1182.2 M59.58 1176.34 Q68.683 1176.34 73.1071 1180.38 Q77.5631 1184.42 77.5631 1192.76 Q77.5631 1195.85 77.0857 1198.59 Q76.6401 1201.32 75.6852 1203.9 L69.9879 1203.9 Q71.3884 1201.32 72.0568 1198.81 Q72.7252 1196.3 72.7252 1193.69 Q72.7252 1187.93 69.7015 1185.06 Q66.7096 1182.2 60.6303 1182.2 L57.7339 1182.2 Q60.885 1184.01 62.4446 1186.84 Q64.0042 1189.68 64.0042 1193.62 Q64.0042 1200.18 59.0071 1204.19 Q54.01 1208.2 45.7664 1208.2 Q37.491 1208.2 32.4939 1204.19 Q27.4968 1200.18 27.4968 1193.62 Q27.4968 1189.68 29.0564 1186.84 Q30.616 1184.01 33.7671 1182.2 L28.3562 1182.2 L28.3562 1176.34 L59.58 1176.34 Z\" fill=\"#000000\" fill-rule=\"nonzero\" fill-opacity=\"1\" /><path clip-path=\"url(#clip850)\" d=\"M74.8259 1137.19 L79.3773 1137.19 L79.3773 1171.06 L74.8259 1171.06 L74.8259 1137.19 Z\" fill=\"#000000\" fill-rule=\"nonzero\" fill-opacity=\"1\" /><path clip-path=\"url(#clip850)\" d=\"M70.0516 1104.5 L74.6349 1104.5 L74.6349 1106.48 Q74.6349 1114.4 72.2796 1117.11 Q69.9243 1119.78 62.8902 1119.78 L55.2831 1119.78 Q50.477 1119.78 48.631 1121.5 Q46.7849 1123.22 46.7849 1127.74 L46.7849 1129.68 L42.2334 1129.68 L42.2334 1127.74 Q42.2334 1123.19 40.4192 1121.5 Q38.5732 1119.78 33.8307 1119.78 L26.1919 1119.78 Q19.1578 1119.78 16.8343 1117.11 Q14.479 1114.4 14.479 1106.48 L14.479 1104.5 L19.0304 1104.5 L19.0304 1106.67 Q19.0304 1111.15 20.4309 1112.52 Q21.8314 1113.89 26.3192 1113.89 L34.2127 1113.89 Q39.2097 1113.89 41.4696 1115.36 Q43.7294 1116.79 44.5251 1120.29 Q45.3845 1116.76 47.6443 1115.32 Q49.9041 1113.89 54.8694 1113.89 L62.7628 1113.89 Q67.2507 1113.89 68.6511 1112.52 Q70.0516 1111.15 70.0516 1106.67 L70.0516 1104.5 Z\" fill=\"#000000\" fill-rule=\"nonzero\" fill-opacity=\"1\" /><path clip-path=\"url(#clip850)\" d=\"M58.5933 1088.27 L58.5933 1077.77 L22.3406 1077.77 L24.6323 1089.19 L18.7758 1089.19 L16.4842 1077.83 L16.4842 1071.4 L58.5933 1071.4 L58.5933 1060.9 L64.0042 1060.9 L64.0042 1088.27 L58.5933 1088.27 Z\" fill=\"#000000\" fill-rule=\"nonzero\" fill-opacity=\"1\" /><path clip-path=\"url(#clip850)\" d=\"M20.7174 1034.16 Q20.7174 1039.13 25.6189 1041.64 Q30.4887 1044.12 40.2919 1044.12 Q50.0633 1044.12 54.9649 1041.64 Q59.8346 1039.13 59.8346 1034.16 Q59.8346 1029.16 54.9649 1026.68 Q50.0633 1024.17 40.2919 1024.17 Q30.4887 1024.17 25.6189 1026.68 Q20.7174 1029.16 20.7174 1034.16 M15.6248 1034.16 Q15.6248 1026.17 21.9587 1021.97 Q28.2607 1017.74 40.2919 1017.74 Q52.2913 1017.74 58.6251 1021.97 Q64.9272 1026.17 64.9272 1034.16 Q64.9272 1042.15 58.6251 1046.38 Q52.2913 1050.58 40.2919 1050.58 Q28.2607 1050.58 21.9587 1046.38 Q15.6248 1042.15 15.6248 1034.16 Z\" fill=\"#000000\" fill-rule=\"nonzero\" fill-opacity=\"1\" /><path clip-path=\"url(#clip850)\" d=\"M70.0516 1005.26 L70.0516 1003.03 Q70.0516 998.577 68.683 997.24 Q67.3143 995.872 62.7628 995.872 L54.8694 995.872 Q49.9041 995.872 47.6443 994.439 Q45.3845 993.007 44.5251 989.474 Q43.7294 993.007 41.4696 994.439 Q39.2097 995.872 34.2127 995.872 L26.3192 995.872 Q21.7995 995.872 20.4309 997.24 Q19.0304 998.577 19.0304 1003.03 L19.0304 1005.26 L14.479 1005.26 L14.479 1003.26 Q14.479 995.331 16.8343 992.689 Q19.1578 990.015 26.1919 990.015 L33.8307 990.015 Q38.5732 990.015 40.4192 988.297 Q42.2334 986.578 42.2334 982.058 L42.2334 980.085 L46.7849 980.085 L46.7849 982.058 Q46.7849 986.578 48.631 988.297 Q50.477 990.015 55.2831 990.015 L62.8902 990.015 Q69.9243 990.015 72.2796 992.689 Q74.6349 995.331 74.6349 1003.26 L74.6349 1005.26 L70.0516 1005.26 Z\" fill=\"#000000\" fill-rule=\"nonzero\" fill-opacity=\"1\" /><path clip-path=\"url(#clip850)\" d=\"M14.5426 951.726 Q21.8632 955.991 29.0246 958.059 Q36.186 960.128 43.5384 960.128 Q50.8908 960.128 58.1159 958.059 Q65.3091 955.959 72.5979 951.726 L72.5979 956.818 Q65.1182 961.592 57.8931 963.98 Q50.668 966.335 43.5384 966.335 Q36.4406 966.335 29.2474 963.98 Q22.0542 961.624 14.5426 956.818 L14.5426 951.726 Z\" fill=\"#000000\" fill-rule=\"nonzero\" fill-opacity=\"1\" /><path clip-path=\"url(#clip850)\" d=\"M14.1925 932.819 L79.3773 932.819 L79.3773 938.23 L14.1925 938.23 L14.1925 932.819 Z\" fill=\"#000000\" fill-rule=\"nonzero\" fill-opacity=\"1\" /><path clip-path=\"url(#clip850)\" d=\"M14.479 900.354 L19.3487 900.354 L19.3487 905.956 Q19.3487 909.107 20.6219 910.348 Q21.895 911.558 25.2052 911.558 L28.3562 911.558 L28.3562 901.914 L32.9077 901.914 L32.9077 911.558 L64.0042 911.558 L64.0042 917.446 L32.9077 917.446 L32.9077 923.048 L28.3562 923.048 L28.3562 917.446 L25.8736 917.446 Q19.9216 917.446 17.2162 914.677 Q14.479 911.908 14.479 905.892 L14.479 900.354 Z\" fill=\"#000000\" fill-rule=\"nonzero\" fill-opacity=\"1\" /><path clip-path=\"url(#clip850)\" d=\"M16.4842 889.915 L34.149 889.915 L34.149 895.325 L16.4842 895.325 L16.4842 889.915 Z\" fill=\"#000000\" fill-rule=\"nonzero\" fill-opacity=\"1\" /><path clip-path=\"url(#clip850)\" d=\"M14.5426 863.465 Q21.8632 867.73 29.0246 869.799 Q36.186 871.868 43.5384 871.868 Q50.8908 871.868 58.1159 869.799 Q65.3091 867.698 72.5979 863.465 L72.5979 868.558 Q65.1182 873.332 57.8931 875.719 Q50.668 878.074 43.5384 878.074 Q36.4406 878.074 29.2474 875.719 Q22.0542 873.364 14.5426 868.558 L14.5426 863.465 Z\" fill=\"#000000\" fill-rule=\"nonzero\" fill-opacity=\"1\" /><path clip-path=\"url(#clip850)\" d=\"M58.5933 850.161 L58.5933 839.657 L22.3406 839.657 L24.6323 851.084 L18.7758 851.084 L16.4842 839.721 L16.4842 833.292 L58.5933 833.292 L58.5933 822.788 L64.0042 822.788 L64.0042 850.161 L58.5933 850.161 Z\" fill=\"#000000\" fill-rule=\"nonzero\" fill-opacity=\"1\" /><path clip-path=\"url(#clip850)\" d=\"M55.9197 809.802 L55.9197 803.086 L64.0042 803.086 L64.0042 809.802 L55.9197 809.802 Z\" fill=\"#000000\" fill-rule=\"nonzero\" fill-opacity=\"1\" /><path clip-path=\"url(#clip850)\" d=\"M20.7174 775.332 Q20.7174 780.297 25.6189 782.812 Q30.4887 785.294 40.2919 785.294 Q50.0633 785.294 54.9649 782.812 Q59.8346 780.297 59.8346 775.332 Q59.8346 770.335 54.9649 767.852 Q50.0633 765.338 40.2919 765.338 Q30.4887 765.338 25.6189 767.852 Q20.7174 770.335 20.7174 775.332 M15.6248 775.332 Q15.6248 767.343 21.9587 763.142 Q28.2607 758.908 40.2919 758.908 Q52.2913 758.908 58.6251 763.142 Q64.9272 767.343 64.9272 775.332 Q64.9272 783.321 58.6251 787.554 Q52.2913 791.755 40.2919 791.755 Q28.2607 791.755 21.9587 787.554 Q15.6248 783.321 15.6248 775.332 Z\" fill=\"#000000\" fill-rule=\"nonzero\" fill-opacity=\"1\" /><path clip-path=\"url(#clip850)\" d=\"M14.5426 749.36 L14.5426 744.267 Q22.0542 739.493 29.2474 737.138 Q36.4406 734.75 43.5384 734.75 Q50.668 734.75 57.8931 737.138 Q65.1182 739.493 72.5979 744.267 L72.5979 749.36 Q65.3091 745.127 58.1159 743.058 Q50.8908 740.957 43.5384 740.957 Q36.186 740.957 29.0246 743.058 Q21.8632 745.127 14.5426 749.36 Z\" fill=\"#000000\" fill-rule=\"nonzero\" fill-opacity=\"1\" /><path clip-path=\"url(#clip850)\" d=\"M43.5384 725.966 L43.5384 708.81 L48.7583 708.81 L48.7583 725.966 L43.5384 725.966 Z\" fill=\"#000000\" fill-rule=\"nonzero\" fill-opacity=\"1\" /><path clip-path=\"url(#clip850)\" d=\"M14.479 681.438 L19.3487 681.438 L19.3487 687.039 Q19.3487 690.191 20.6219 691.432 Q21.895 692.641 25.2052 692.641 L28.3562 692.641 L28.3562 682.997 L32.9077 682.997 L32.9077 692.641 L64.0042 692.641 L64.0042 698.53 L32.9077 698.53 L32.9077 704.131 L28.3562 704.131 L28.3562 698.53 L25.8736 698.53 Q19.9216 698.53 17.2162 695.761 Q14.479 692.991 14.479 686.976 L14.479 681.438 Z\" fill=\"#000000\" fill-rule=\"nonzero\" fill-opacity=\"1\" /><path clip-path=\"url(#clip850)\" d=\"M16.4842 670.998 L34.149 670.998 L34.149 676.409 L16.4842 676.409 L16.4842 670.998 Z\" fill=\"#000000\" fill-rule=\"nonzero\" fill-opacity=\"1\" /><path clip-path=\"url(#clip850)\" d=\"M74.8259 631.531 L79.3773 631.531 L79.3773 665.396 L74.8259 665.396 L74.8259 631.531 Z\" fill=\"#000000\" fill-rule=\"nonzero\" fill-opacity=\"1\" /><path clip-path=\"url(#clip850)\" d=\"M70.0516 598.843 L74.6349 598.843 L74.6349 600.816 Q74.6349 608.741 72.2796 611.447 Q69.9243 614.12 62.8902 614.12 L55.2831 614.12 Q50.477 614.12 48.631 615.839 Q46.7849 617.558 46.7849 622.077 L46.7849 624.019 L42.2334 624.019 L42.2334 622.077 Q42.2334 617.526 40.4192 615.839 Q38.5732 614.12 33.8307 614.12 L26.1919 614.12 Q19.1578 614.12 16.8343 611.447 Q14.479 608.741 14.479 600.816 L14.479 598.843 L19.0304 598.843 L19.0304 601.007 Q19.0304 605.495 20.4309 606.863 Q21.8314 608.232 26.3192 608.232 L34.2127 608.232 Q39.2097 608.232 41.4696 609.696 Q43.7294 611.128 44.5251 614.63 Q45.3845 611.097 47.6443 609.664 Q49.9041 608.232 54.8694 608.232 L62.7628 608.232 Q67.2507 608.232 68.6511 606.863 Q70.0516 605.495 70.0516 601.007 L70.0516 598.843 Z\" fill=\"#000000\" fill-rule=\"nonzero\" fill-opacity=\"1\" /><path clip-path=\"url(#clip850)\" d=\"M42.4881 554.919 L64.0042 554.919 L64.0042 560.776 L42.679 560.776 Q37.6183 560.776 35.1038 562.749 Q32.5894 564.722 32.5894 568.669 Q32.5894 573.412 35.6131 576.149 Q38.6368 578.886 43.8567 578.886 L64.0042 578.886 L64.0042 584.774 L28.3562 584.774 L28.3562 578.886 L33.8944 578.886 Q30.6797 576.785 29.0883 573.953 Q27.4968 571.088 27.4968 567.364 Q27.4968 561.221 31.3163 558.07 Q35.1038 554.919 42.4881 554.919 Z\" fill=\"#000000\" fill-rule=\"nonzero\" fill-opacity=\"1\" /><path clip-path=\"url(#clip850)\" d=\"M49.9359 543.843 L28.3562 543.843 L28.3562 537.986 L49.7131 537.986 Q54.7739 537.986 57.3202 536.013 Q59.8346 534.04 59.8346 530.093 Q59.8346 525.351 56.8109 522.613 Q53.7872 519.844 48.5673 519.844 L28.3562 519.844 L28.3562 513.988 L64.0042 513.988 L64.0042 519.844 L58.5296 519.844 Q61.7762 521.977 63.3676 524.809 Q64.9272 527.61 64.9272 531.334 Q64.9272 537.477 61.1078 540.66 Q57.2883 543.843 49.9359 543.843 M27.4968 529.106 L27.4968 529.106 Z\" fill=\"#000000\" fill-rule=\"nonzero\" fill-opacity=\"1\" /><path clip-path=\"url(#clip850)\" d=\"M35.1993 474.17 Q31.2526 471.974 29.3747 468.919 Q27.4968 465.863 27.4968 461.725 Q27.4968 456.155 31.4117 453.132 Q35.2948 450.108 42.4881 450.108 L64.0042 450.108 L64.0042 455.996 L42.679 455.996 Q37.5546 455.996 35.072 457.81 Q32.5894 459.625 32.5894 463.349 Q32.5894 467.9 35.6131 470.542 Q38.6368 473.184 43.8567 473.184 L64.0042 473.184 L64.0042 479.072 L42.679 479.072 Q37.5228 479.072 35.072 480.886 Q32.5894 482.7 32.5894 486.488 Q32.5894 490.976 35.6449 493.617 Q38.6686 496.259 43.8567 496.259 L64.0042 496.259 L64.0042 502.148 L28.3562 502.148 L28.3562 496.259 L33.8944 496.259 Q30.616 494.254 29.0564 491.453 Q27.4968 488.652 27.4968 484.801 Q27.4968 480.918 29.4702 478.212 Q31.4436 475.475 35.1993 474.17 Z\" fill=\"#000000\" fill-rule=\"nonzero\" fill-opacity=\"1\" /><path clip-path=\"url(#clip850)\" d=\"M70.0516 436.422 L70.0516 434.194 Q70.0516 429.738 68.683 428.401 Q67.3143 427.032 62.7628 427.032 L54.8694 427.032 Q49.9041 427.032 47.6443 425.6 Q45.3845 424.168 44.5251 420.635 Q43.7294 424.168 41.4696 425.6 Q39.2097 427.032 34.2127 427.032 L26.3192 427.032 Q21.7995 427.032 20.4309 428.401 Q19.0304 429.738 19.0304 434.194 L19.0304 436.422 L14.479 436.422 L14.479 434.416 Q14.479 426.491 16.8343 423.849 Q19.1578 421.176 26.1919 421.176 L33.8307 421.176 Q38.5732 421.176 40.4192 419.457 Q42.2334 417.738 42.2334 413.219 L42.2334 411.245 L46.7849 411.245 L46.7849 413.219 Q46.7849 417.738 48.631 419.457 Q50.477 421.176 55.2831 421.176 L62.8902 421.176 Q69.9243 421.176 72.2796 423.849 Q74.6349 426.491 74.6349 434.416 L74.6349 436.422 L70.0516 436.422 Z\" fill=\"#000000\" fill-rule=\"nonzero\" fill-opacity=\"1\" /><path clip-path=\"url(#clip850)\" d=\"M14.5426 382.886 Q21.8632 387.151 29.0246 389.22 Q36.186 391.289 43.5384 391.289 Q50.8908 391.289 58.1159 389.22 Q65.3091 387.119 72.5979 382.886 L72.5979 387.979 Q65.1182 392.753 57.8931 395.14 Q50.668 397.495 43.5384 397.495 Q36.4406 397.495 29.2474 395.14 Q22.0542 392.785 14.5426 387.979 L14.5426 382.886 Z\" fill=\"#000000\" fill-rule=\"nonzero\" fill-opacity=\"1\" /><path clip-path=\"url(#clip850)\" d=\"M58.5933 369.582 L58.5933 359.078 L22.3406 359.078 L24.6323 370.505 L18.7758 370.505 L16.4842 359.142 L16.4842 352.713 L58.5933 352.713 L58.5933 342.209 L64.0042 342.209 L64.0042 369.582 L58.5933 369.582 Z\" fill=\"#000000\" fill-rule=\"nonzero\" fill-opacity=\"1\" /><path clip-path=\"url(#clip850)\" d=\"M55.9197 329.223 L55.9197 322.507 L64.0042 322.507 L64.0042 329.223 L55.9197 329.223 Z\" fill=\"#000000\" fill-rule=\"nonzero\" fill-opacity=\"1\" /><path clip-path=\"url(#clip850)\" d=\"M20.7174 294.753 Q20.7174 299.718 25.6189 302.233 Q30.4887 304.715 40.2919 304.715 Q50.0633 304.715 54.9649 302.233 Q59.8346 299.718 59.8346 294.753 Q59.8346 289.756 54.9649 287.273 Q50.0633 284.759 40.2919 284.759 Q30.4887 284.759 25.6189 287.273 Q20.7174 289.756 20.7174 294.753 M15.6248 294.753 Q15.6248 286.764 21.9587 282.562 Q28.2607 278.329 40.2919 278.329 Q52.2913 278.329 58.6251 282.562 Q64.9272 286.764 64.9272 294.753 Q64.9272 302.742 58.6251 306.975 Q52.2913 311.176 40.2919 311.176 Q28.2607 311.176 21.9587 306.975 Q15.6248 302.742 15.6248 294.753 Z\" fill=\"#000000\" fill-rule=\"nonzero\" fill-opacity=\"1\" /><path clip-path=\"url(#clip850)\" d=\"M14.5426 268.781 L14.5426 263.688 Q22.0542 258.914 29.2474 256.559 Q36.4406 254.171 43.5384 254.171 Q50.668 254.171 57.8931 256.559 Q65.1182 258.914 72.5979 263.688 L72.5979 268.781 Q65.3091 264.548 58.1159 262.479 Q50.8908 260.378 43.5384 260.378 Q36.186 260.378 29.0246 262.479 Q21.8632 264.548 14.5426 268.781 Z\" fill=\"#000000\" fill-rule=\"nonzero\" fill-opacity=\"1\" /><path clip-path=\"url(#clip850)\" d=\"M14.1925 234.883 L79.3773 234.883 L79.3773 240.294 L14.1925 240.294 L14.1925 234.883 Z\" fill=\"#000000\" fill-rule=\"nonzero\" fill-opacity=\"1\" /><path clip-path=\"url(#clip850)\" d=\"M14.5426 221.388 L14.5426 216.295 Q22.0542 211.521 29.2474 209.166 Q36.4406 206.779 43.5384 206.779 Q50.668 206.779 57.8931 209.166 Q65.1182 211.521 72.5979 216.295 L72.5979 221.388 Q65.3091 217.155 58.1159 215.086 Q50.8908 212.985 43.5384 212.985 Q36.186 212.985 29.0246 215.086 Q21.8632 217.155 14.5426 221.388 Z\" fill=\"#000000\" fill-rule=\"nonzero\" fill-opacity=\"1\" /><polyline clip-path=\"url(#clip852)\" style=\"stroke:#009af9; stroke-linecap:round; stroke-linejoin:round; stroke-width:4; stroke-opacity:1; fill:none\" points=\"2294.3,86.1857 2155.12,216.38 2015.95,345.097 1876.77,473.663 1737.59,602.214 1598.42,730.767 1459.24,859.032 1320.06,1042.01 1180.88,869.89 1041.71,869.89 902.529,869.89 763.352,480.233 624.175,357.623 484.998,279.031 345.82,96.7284 \"/>\n",
       "<polyline clip-path=\"url(#clip852)\" style=\"stroke:#e26f46; stroke-linecap:round; stroke-linejoin:round; stroke-width:4; stroke-opacity:1; fill:none\" points=\"2294.3,277.899 2155.12,534.998 2015.95,792.097 1876.77,1049.21 1737.59,1305.7 1598.42,1384.24 1459.24,1250.57 1320.06,1108.94 1180.88,920.54 1041.71,869.89 902.529,869.89 763.352,525.441 624.175,411.254 484.998,279.031 345.82,144.731 \"/>\n",
       "<path clip-path=\"url(#clip850)\" d=\"M2024.94 1377.32 L2283.91 1377.32 L2283.91 1221.8 L2024.94 1221.8  Z\" fill=\"#ffffff\" fill-rule=\"evenodd\" fill-opacity=\"1\"/>\n",
       "<polyline clip-path=\"url(#clip850)\" style=\"stroke:#000000; stroke-linecap:round; stroke-linejoin:round; stroke-width:4; stroke-opacity:1; fill:none\" points=\"2024.94,1377.32 2283.91,1377.32 2283.91,1221.8 2024.94,1221.8 2024.94,1377.32 \"/>\n",
       "<polyline clip-path=\"url(#clip850)\" style=\"stroke:#009af9; stroke-linecap:round; stroke-linejoin:round; stroke-width:4; stroke-opacity:1; fill:none\" points=\"2047.89,1273.64 2185.58,1273.64 \"/>\n",
       "<path clip-path=\"url(#clip850)\" d=\"M2222.37 1293.32 Q2220.57 1297.95 2218.85 1299.36 Q2217.14 1300.78 2214.27 1300.78 L2210.87 1300.78 L2210.87 1297.21 L2213.37 1297.21 Q2215.13 1297.21 2216.1 1296.38 Q2217.07 1295.54 2218.25 1292.44 L2219.02 1290.5 L2208.53 1264.99 L2213.04 1264.99 L2221.15 1285.27 L2229.25 1264.99 L2233.76 1264.99 L2222.37 1293.32 Z\" fill=\"#000000\" fill-rule=\"nonzero\" fill-opacity=\"1\" /><path clip-path=\"url(#clip850)\" d=\"M2241.05 1286.98 L2248.69 1286.98 L2248.69 1260.61 L2240.38 1262.28 L2240.38 1258.02 L2248.65 1256.36 L2253.32 1256.36 L2253.32 1286.98 L2260.96 1286.98 L2260.96 1290.92 L2241.05 1290.92 L2241.05 1286.98 Z\" fill=\"#000000\" fill-rule=\"nonzero\" fill-opacity=\"1\" /><polyline clip-path=\"url(#clip850)\" style=\"stroke:#e26f46; stroke-linecap:round; stroke-linejoin:round; stroke-width:4; stroke-opacity:1; fill:none\" points=\"2047.89,1325.48 2185.58,1325.48 \"/>\n",
       "<path clip-path=\"url(#clip850)\" d=\"M2222.37 1345.16 Q2220.57 1349.79 2218.85 1351.2 Q2217.14 1352.62 2214.27 1352.62 L2210.87 1352.62 L2210.87 1349.05 L2213.37 1349.05 Q2215.13 1349.05 2216.1 1348.22 Q2217.07 1347.38 2218.25 1344.28 L2219.02 1342.34 L2208.53 1316.83 L2213.04 1316.83 L2221.15 1337.11 L2229.25 1316.83 L2233.76 1316.83 L2222.37 1345.16 Z\" fill=\"#000000\" fill-rule=\"nonzero\" fill-opacity=\"1\" /><path clip-path=\"url(#clip850)\" d=\"M2244.27 1338.82 L2260.59 1338.82 L2260.59 1342.76 L2238.65 1342.76 L2238.65 1338.82 Q2241.31 1336.07 2245.89 1331.44 Q2250.5 1326.78 2251.68 1325.44 Q2253.92 1322.92 2254.8 1321.18 Q2255.71 1319.42 2255.71 1317.73 Q2255.71 1314.98 2253.76 1313.24 Q2251.84 1311.51 2248.74 1311.51 Q2246.54 1311.51 2244.09 1312.27 Q2241.66 1313.03 2238.88 1314.58 L2238.88 1309.86 Q2241.7 1308.73 2244.16 1308.15 Q2246.61 1307.57 2248.65 1307.57 Q2254.02 1307.57 2257.21 1310.26 Q2260.41 1312.94 2260.41 1317.43 Q2260.41 1319.56 2259.6 1321.48 Q2258.81 1323.38 2256.7 1325.97 Q2256.12 1326.64 2253.02 1329.86 Q2249.92 1333.06 2244.27 1338.82 Z\" fill=\"#000000\" fill-rule=\"nonzero\" fill-opacity=\"1\" /></svg>\n"
      ],
      "image/svg+xml": [
       "<?xml version=\"1.0\" encoding=\"utf-8\"?>\n",
       "<svg xmlns=\"http://www.w3.org/2000/svg\" xmlns:xlink=\"http://www.w3.org/1999/xlink\" width=\"600\" height=\"400\" viewBox=\"0 0 2400 1600\">\n",
       "<defs>\n",
       "  <clipPath id=\"clip820\">\n",
       "    <rect x=\"0\" y=\"0\" width=\"2400\" height=\"1600\"/>\n",
       "  </clipPath>\n",
       "</defs>\n",
       "<path clip-path=\"url(#clip820)\" d=\"M0 1600 L2400 1600 L2400 0 L0 0  Z\" fill=\"#ffffff\" fill-rule=\"evenodd\" fill-opacity=\"1\"/>\n",
       "<defs>\n",
       "  <clipPath id=\"clip821\">\n",
       "    <rect x=\"480\" y=\"0\" width=\"1681\" height=\"1600\"/>\n",
       "  </clipPath>\n",
       "</defs>\n",
       "<path clip-path=\"url(#clip820)\" d=\"M287.366 1423.18 L2352.76 1423.18 L2352.76 47.2441 L287.366 47.2441  Z\" fill=\"#ffffff\" fill-rule=\"evenodd\" fill-opacity=\"1\"/>\n",
       "<defs>\n",
       "  <clipPath id=\"clip822\">\n",
       "    <rect x=\"287\" y=\"47\" width=\"2066\" height=\"1377\"/>\n",
       "  </clipPath>\n",
       "</defs>\n",
       "<polyline clip-path=\"url(#clip822)\" style=\"stroke:#000000; stroke-linecap:round; stroke-linejoin:round; stroke-width:2; stroke-opacity:0.1; fill:none\" points=\"484.998,1423.18 484.998,47.2441 \"/>\n",
       "<polyline clip-path=\"url(#clip822)\" style=\"stroke:#000000; stroke-linecap:round; stroke-linejoin:round; stroke-width:2; stroke-opacity:0.1; fill:none\" points=\"763.352,1423.18 763.352,47.2441 \"/>\n",
       "<polyline clip-path=\"url(#clip822)\" style=\"stroke:#000000; stroke-linecap:round; stroke-linejoin:round; stroke-width:2; stroke-opacity:0.1; fill:none\" points=\"1041.71,1423.18 1041.71,47.2441 \"/>\n",
       "<polyline clip-path=\"url(#clip822)\" style=\"stroke:#000000; stroke-linecap:round; stroke-linejoin:round; stroke-width:2; stroke-opacity:0.1; fill:none\" points=\"1320.06,1423.18 1320.06,47.2441 \"/>\n",
       "<polyline clip-path=\"url(#clip822)\" style=\"stroke:#000000; stroke-linecap:round; stroke-linejoin:round; stroke-width:2; stroke-opacity:0.1; fill:none\" points=\"1598.42,1423.18 1598.42,47.2441 \"/>\n",
       "<polyline clip-path=\"url(#clip822)\" style=\"stroke:#000000; stroke-linecap:round; stroke-linejoin:round; stroke-width:2; stroke-opacity:0.1; fill:none\" points=\"1876.77,1423.18 1876.77,47.2441 \"/>\n",
       "<polyline clip-path=\"url(#clip822)\" style=\"stroke:#000000; stroke-linecap:round; stroke-linejoin:round; stroke-width:2; stroke-opacity:0.1; fill:none\" points=\"2155.12,1423.18 2155.12,47.2441 \"/>\n",
       "<polyline clip-path=\"url(#clip820)\" style=\"stroke:#000000; stroke-linecap:round; stroke-linejoin:round; stroke-width:4; stroke-opacity:1; fill:none\" points=\"287.366,1423.18 2352.76,1423.18 \"/>\n",
       "<polyline clip-path=\"url(#clip820)\" style=\"stroke:#000000; stroke-linecap:round; stroke-linejoin:round; stroke-width:4; stroke-opacity:1; fill:none\" points=\"484.998,1423.18 484.998,1404.28 \"/>\n",
       "<polyline clip-path=\"url(#clip820)\" style=\"stroke:#000000; stroke-linecap:round; stroke-linejoin:round; stroke-width:4; stroke-opacity:1; fill:none\" points=\"763.352,1423.18 763.352,1404.28 \"/>\n",
       "<polyline clip-path=\"url(#clip820)\" style=\"stroke:#000000; stroke-linecap:round; stroke-linejoin:round; stroke-width:4; stroke-opacity:1; fill:none\" points=\"1041.71,1423.18 1041.71,1404.28 \"/>\n",
       "<polyline clip-path=\"url(#clip820)\" style=\"stroke:#000000; stroke-linecap:round; stroke-linejoin:round; stroke-width:4; stroke-opacity:1; fill:none\" points=\"1320.06,1423.18 1320.06,1404.28 \"/>\n",
       "<polyline clip-path=\"url(#clip820)\" style=\"stroke:#000000; stroke-linecap:round; stroke-linejoin:round; stroke-width:4; stroke-opacity:1; fill:none\" points=\"1598.42,1423.18 1598.42,1404.28 \"/>\n",
       "<polyline clip-path=\"url(#clip820)\" style=\"stroke:#000000; stroke-linecap:round; stroke-linejoin:round; stroke-width:4; stroke-opacity:1; fill:none\" points=\"1876.77,1423.18 1876.77,1404.28 \"/>\n",
       "<polyline clip-path=\"url(#clip820)\" style=\"stroke:#000000; stroke-linecap:round; stroke-linejoin:round; stroke-width:4; stroke-opacity:1; fill:none\" points=\"2155.12,1423.18 2155.12,1404.28 \"/>\n",
       "<path clip-path=\"url(#clip820)\" d=\"M438.817 1468.75 L468.493 1468.75 L468.493 1472.69 L438.817 1472.69 L438.817 1468.75 Z\" fill=\"#000000\" fill-rule=\"nonzero\" fill-opacity=\"1\" /><path clip-path=\"url(#clip820)\" d=\"M479.396 1481.64 L487.035 1481.64 L487.035 1455.28 L478.724 1456.95 L478.724 1452.69 L486.988 1451.02 L491.664 1451.02 L491.664 1481.64 L499.303 1481.64 L499.303 1485.58 L479.396 1485.58 L479.396 1481.64 Z\" fill=\"#000000\" fill-rule=\"nonzero\" fill-opacity=\"1\" /><path clip-path=\"url(#clip820)\" d=\"M521.595 1455.09 L509.789 1473.54 L521.595 1473.54 L521.595 1455.09 M520.368 1451.02 L526.247 1451.02 L526.247 1473.54 L531.178 1473.54 L531.178 1477.43 L526.247 1477.43 L526.247 1485.58 L521.595 1485.58 L521.595 1477.43 L505.993 1477.43 L505.993 1472.92 L520.368 1451.02 Z\" fill=\"#000000\" fill-rule=\"nonzero\" fill-opacity=\"1\" /><path clip-path=\"url(#clip820)\" d=\"M718.213 1468.75 L747.889 1468.75 L747.889 1472.69 L718.213 1472.69 L718.213 1468.75 Z\" fill=\"#000000\" fill-rule=\"nonzero\" fill-opacity=\"1\" /><path clip-path=\"url(#clip820)\" d=\"M758.792 1481.64 L766.431 1481.64 L766.431 1455.28 L758.121 1456.95 L758.121 1452.69 L766.384 1451.02 L771.06 1451.02 L771.06 1481.64 L778.699 1481.64 L778.699 1485.58 L758.792 1485.58 L758.792 1481.64 Z\" fill=\"#000000\" fill-rule=\"nonzero\" fill-opacity=\"1\" /><path clip-path=\"url(#clip820)\" d=\"M792.171 1481.64 L808.491 1481.64 L808.491 1485.58 L786.546 1485.58 L786.546 1481.64 Q789.208 1478.89 793.792 1474.26 Q798.398 1469.61 799.579 1468.27 Q801.824 1465.74 802.704 1464.01 Q803.606 1462.25 803.606 1460.56 Q803.606 1457.8 801.662 1456.07 Q799.741 1454.33 796.639 1454.33 Q794.44 1454.33 791.986 1455.09 Q789.556 1455.86 786.778 1457.41 L786.778 1452.69 Q789.602 1451.55 792.056 1450.97 Q794.509 1450.39 796.546 1450.39 Q801.917 1450.39 805.111 1453.08 Q808.305 1455.77 808.305 1460.26 Q808.305 1462.39 807.495 1464.31 Q806.708 1466.2 804.602 1468.8 Q804.023 1469.47 800.921 1472.69 Q797.819 1475.88 792.171 1481.64 Z\" fill=\"#000000\" fill-rule=\"nonzero\" fill-opacity=\"1\" /><path clip-path=\"url(#clip820)\" d=\"M995.769 1468.75 L1025.44 1468.75 L1025.44 1472.69 L995.769 1472.69 L995.769 1468.75 Z\" fill=\"#000000\" fill-rule=\"nonzero\" fill-opacity=\"1\" /><path clip-path=\"url(#clip820)\" d=\"M1036.35 1481.64 L1043.99 1481.64 L1043.99 1455.28 L1035.68 1456.95 L1035.68 1452.69 L1043.94 1451.02 L1048.62 1451.02 L1048.62 1481.64 L1056.25 1481.64 L1056.25 1485.58 L1036.35 1485.58 L1036.35 1481.64 Z\" fill=\"#000000\" fill-rule=\"nonzero\" fill-opacity=\"1\" /><path clip-path=\"url(#clip820)\" d=\"M1075.7 1454.1 Q1072.09 1454.1 1070.26 1457.66 Q1068.45 1461.2 1068.45 1468.33 Q1068.45 1475.44 1070.26 1479.01 Q1072.09 1482.55 1075.7 1482.55 Q1079.33 1482.55 1081.14 1479.01 Q1082.97 1475.44 1082.97 1468.33 Q1082.97 1461.2 1081.14 1457.66 Q1079.33 1454.1 1075.7 1454.1 M1075.7 1450.39 Q1081.51 1450.39 1084.57 1455 Q1087.64 1459.58 1087.64 1468.33 Q1087.64 1477.06 1084.57 1481.67 Q1081.51 1486.25 1075.7 1486.25 Q1069.89 1486.25 1066.81 1481.67 Q1063.75 1477.06 1063.75 1468.33 Q1063.75 1459.58 1066.81 1455 Q1069.89 1450.39 1075.7 1450.39 Z\" fill=\"#000000\" fill-rule=\"nonzero\" fill-opacity=\"1\" /><path clip-path=\"url(#clip820)\" d=\"M1289.25 1468.75 L1318.93 1468.75 L1318.93 1472.69 L1289.25 1472.69 L1289.25 1468.75 Z\" fill=\"#000000\" fill-rule=\"nonzero\" fill-opacity=\"1\" /><path clip-path=\"url(#clip820)\" d=\"M1339.02 1469.17 Q1335.69 1469.17 1333.76 1470.95 Q1331.87 1472.73 1331.87 1475.86 Q1331.87 1478.98 1333.76 1480.77 Q1335.69 1482.55 1339.02 1482.55 Q1342.35 1482.55 1344.27 1480.77 Q1346.2 1478.96 1346.2 1475.86 Q1346.2 1472.73 1344.27 1470.95 Q1342.38 1469.17 1339.02 1469.17 M1334.34 1467.18 Q1331.33 1466.44 1329.64 1464.38 Q1327.98 1462.32 1327.98 1459.35 Q1327.98 1455.21 1330.92 1452.8 Q1333.88 1450.39 1339.02 1450.39 Q1344.18 1450.39 1347.12 1452.8 Q1350.06 1455.21 1350.06 1459.35 Q1350.06 1462.32 1348.37 1464.38 Q1346.7 1466.44 1343.72 1467.18 Q1347.1 1467.96 1348.97 1470.26 Q1350.87 1472.55 1350.87 1475.86 Q1350.87 1480.88 1347.79 1483.57 Q1344.74 1486.25 1339.02 1486.25 Q1333.3 1486.25 1330.22 1483.57 Q1327.17 1480.88 1327.17 1475.86 Q1327.17 1472.55 1329.07 1470.26 Q1330.96 1467.96 1334.34 1467.18 M1332.63 1459.79 Q1332.63 1462.48 1334.3 1463.98 Q1335.99 1465.49 1339.02 1465.49 Q1342.03 1465.49 1343.72 1463.98 Q1345.43 1462.48 1345.43 1459.79 Q1345.43 1457.11 1343.72 1455.6 Q1342.03 1454.1 1339.02 1454.1 Q1335.99 1454.1 1334.3 1455.6 Q1332.63 1457.11 1332.63 1459.79 Z\" fill=\"#000000\" fill-rule=\"nonzero\" fill-opacity=\"1\" /><path clip-path=\"url(#clip820)\" d=\"M1567.48 1468.75 L1597.15 1468.75 L1597.15 1472.69 L1567.48 1472.69 L1567.48 1468.75 Z\" fill=\"#000000\" fill-rule=\"nonzero\" fill-opacity=\"1\" /><path clip-path=\"url(#clip820)\" d=\"M1617.82 1466.44 Q1614.68 1466.44 1612.82 1468.59 Q1611 1470.74 1611 1474.49 Q1611 1478.22 1612.82 1480.39 Q1614.68 1482.55 1617.82 1482.55 Q1620.97 1482.55 1622.8 1480.39 Q1624.65 1478.22 1624.65 1474.49 Q1624.65 1470.74 1622.8 1468.59 Q1620.97 1466.44 1617.82 1466.44 M1627.11 1451.78 L1627.11 1456.04 Q1625.35 1455.21 1623.54 1454.77 Q1621.76 1454.33 1620 1454.33 Q1615.37 1454.33 1612.92 1457.45 Q1610.49 1460.58 1610.14 1466.9 Q1611.51 1464.89 1613.57 1463.82 Q1615.63 1462.73 1618.1 1462.73 Q1623.31 1462.73 1626.32 1465.9 Q1629.35 1469.05 1629.35 1474.49 Q1629.35 1479.82 1626.2 1483.03 Q1623.06 1486.25 1617.82 1486.25 Q1611.83 1486.25 1608.66 1481.67 Q1605.49 1477.06 1605.49 1468.33 Q1605.49 1460.14 1609.38 1455.28 Q1613.26 1450.39 1619.82 1450.39 Q1621.57 1450.39 1623.36 1450.74 Q1625.16 1451.09 1627.11 1451.78 Z\" fill=\"#000000\" fill-rule=\"nonzero\" fill-opacity=\"1\" /><path clip-path=\"url(#clip820)\" d=\"M1845.67 1468.75 L1875.35 1468.75 L1875.35 1472.69 L1845.67 1472.69 L1845.67 1468.75 Z\" fill=\"#000000\" fill-rule=\"nonzero\" fill-opacity=\"1\" /><path clip-path=\"url(#clip820)\" d=\"M1898.29 1455.09 L1886.48 1473.54 L1898.29 1473.54 L1898.29 1455.09 M1897.06 1451.02 L1902.94 1451.02 L1902.94 1473.54 L1907.87 1473.54 L1907.87 1477.43 L1902.94 1477.43 L1902.94 1485.58 L1898.29 1485.58 L1898.29 1477.43 L1882.68 1477.43 L1882.68 1472.92 L1897.06 1451.02 Z\" fill=\"#000000\" fill-rule=\"nonzero\" fill-opacity=\"1\" /><path clip-path=\"url(#clip820)\" d=\"M2125.07 1468.75 L2154.74 1468.75 L2154.74 1472.69 L2125.07 1472.69 L2125.07 1468.75 Z\" fill=\"#000000\" fill-rule=\"nonzero\" fill-opacity=\"1\" /><path clip-path=\"url(#clip820)\" d=\"M2168.86 1481.64 L2185.18 1481.64 L2185.18 1485.58 L2163.24 1485.58 L2163.24 1481.64 Q2165.9 1478.89 2170.48 1474.26 Q2175.09 1469.61 2176.27 1468.27 Q2178.52 1465.74 2179.39 1464.01 Q2180.3 1462.25 2180.3 1460.56 Q2180.3 1457.8 2178.35 1456.07 Q2176.43 1454.33 2173.33 1454.33 Q2171.13 1454.33 2168.68 1455.09 Q2166.25 1455.86 2163.47 1457.41 L2163.47 1452.69 Q2166.29 1451.55 2168.75 1450.97 Q2171.2 1450.39 2173.24 1450.39 Q2178.61 1450.39 2181.8 1453.08 Q2185 1455.77 2185 1460.26 Q2185 1462.39 2184.19 1464.31 Q2183.4 1466.2 2181.29 1468.8 Q2180.71 1469.47 2177.61 1472.69 Q2174.51 1475.88 2168.86 1481.64 Z\" fill=\"#000000\" fill-rule=\"nonzero\" fill-opacity=\"1\" /><path clip-path=\"url(#clip820)\" d=\"M1130.92 1518.52 L1136.78 1518.52 L1136.78 1568.04 L1130.92 1568.04 L1130.92 1518.52 Z\" fill=\"#000000\" fill-rule=\"nonzero\" fill-opacity=\"1\" /><path clip-path=\"url(#clip820)\" d=\"M1162.84 1536.5 Q1158.13 1536.5 1155.4 1540.19 Q1152.66 1543.85 1152.66 1550.25 Q1152.66 1556.65 1155.36 1560.34 Q1158.1 1564 1162.84 1564 Q1167.52 1564 1170.26 1560.31 Q1173 1556.62 1173 1550.25 Q1173 1543.92 1170.26 1540.23 Q1167.52 1536.5 1162.84 1536.5 M1162.84 1531.54 Q1170.48 1531.54 1174.84 1536.5 Q1179.2 1541.47 1179.2 1550.25 Q1179.2 1559 1174.84 1564 Q1170.48 1568.97 1162.84 1568.97 Q1155.17 1568.97 1150.81 1564 Q1146.48 1559 1146.48 1550.25 Q1146.48 1541.47 1150.81 1536.5 Q1155.17 1531.54 1162.84 1531.54 Z\" fill=\"#000000\" fill-rule=\"nonzero\" fill-opacity=\"1\" /><path clip-path=\"url(#clip820)\" d=\"M1212.37 1549.81 Q1212.37 1543.44 1209.73 1539.94 Q1207.12 1536.44 1202.37 1536.44 Q1197.66 1536.44 1195.02 1539.94 Q1192.41 1543.44 1192.41 1549.81 Q1192.41 1556.14 1195.02 1559.64 Q1197.66 1563.14 1202.37 1563.14 Q1207.12 1563.14 1209.73 1559.64 Q1212.37 1556.14 1212.37 1549.81 M1218.23 1563.62 Q1218.23 1572.72 1214.18 1577.15 Q1210.14 1581.6 1201.8 1581.6 Q1198.71 1581.6 1195.98 1581.13 Q1193.24 1580.68 1190.66 1579.72 L1190.66 1574.03 Q1193.24 1575.43 1195.75 1576.1 Q1198.27 1576.76 1200.88 1576.76 Q1206.64 1576.76 1209.5 1573.74 Q1212.37 1570.75 1212.37 1564.67 L1212.37 1561.77 Q1210.55 1564.92 1207.72 1566.48 Q1204.89 1568.04 1200.94 1568.04 Q1194.39 1568.04 1190.38 1563.05 Q1186.37 1558.05 1186.37 1549.81 Q1186.37 1541.53 1190.38 1536.53 Q1194.39 1531.54 1200.94 1531.54 Q1204.89 1531.54 1207.72 1533.1 Q1210.55 1534.66 1212.37 1537.81 L1212.37 1532.4 L1218.23 1532.4 L1218.23 1563.62 Z\" fill=\"#000000\" fill-rule=\"nonzero\" fill-opacity=\"1\" /><path clip-path=\"url(#clip820)\" d=\"M1257.37 1578.87 L1257.37 1583.42 L1223.51 1583.42 L1223.51 1578.87 L1257.37 1578.87 Z\" fill=\"#000000\" fill-rule=\"nonzero\" fill-opacity=\"1\" /><path clip-path=\"url(#clip820)\" d=\"M1290.06 1574.09 L1290.06 1578.67 L1288.09 1578.67 Q1280.16 1578.67 1277.46 1576.32 Q1274.78 1573.96 1274.78 1566.93 L1274.78 1559.32 Q1274.78 1554.52 1273.07 1552.67 Q1271.35 1550.82 1266.83 1550.82 L1264.89 1550.82 L1264.89 1546.27 L1266.83 1546.27 Q1271.38 1546.27 1273.07 1544.46 Q1274.78 1542.61 1274.78 1537.87 L1274.78 1530.23 Q1274.78 1523.2 1277.46 1520.87 Q1280.16 1518.52 1288.09 1518.52 L1290.06 1518.52 L1290.06 1523.07 L1287.9 1523.07 Q1283.41 1523.07 1282.04 1524.47 Q1280.67 1525.87 1280.67 1530.36 L1280.67 1538.25 Q1280.67 1543.25 1279.21 1545.51 Q1277.78 1547.77 1274.28 1548.56 Q1277.81 1549.42 1279.24 1551.68 Q1280.67 1553.94 1280.67 1558.91 L1280.67 1566.8 Q1280.67 1571.29 1282.04 1572.69 Q1283.41 1574.09 1287.9 1574.09 L1290.06 1574.09 Z\" fill=\"#000000\" fill-rule=\"nonzero\" fill-opacity=\"1\" /><path clip-path=\"url(#clip820)\" d=\"M1306.3 1562.63 L1316.8 1562.63 L1316.8 1526.38 L1305.37 1528.67 L1305.37 1522.82 L1316.73 1520.52 L1323.16 1520.52 L1323.16 1562.63 L1333.67 1562.63 L1333.67 1568.04 L1306.3 1568.04 L1306.3 1562.63 Z\" fill=\"#000000\" fill-rule=\"nonzero\" fill-opacity=\"1\" /><path clip-path=\"url(#clip820)\" d=\"M1360.4 1524.76 Q1355.44 1524.76 1352.92 1529.66 Q1350.44 1534.53 1350.44 1544.33 Q1350.44 1554.1 1352.92 1559 Q1355.44 1563.87 1360.4 1563.87 Q1365.4 1563.87 1367.88 1559 Q1370.4 1554.1 1370.4 1544.33 Q1370.4 1534.53 1367.88 1529.66 Q1365.4 1524.76 1360.4 1524.76 M1360.4 1519.66 Q1368.39 1519.66 1372.59 1526 Q1376.83 1532.3 1376.83 1544.33 Q1376.83 1556.33 1372.59 1562.66 Q1368.39 1568.97 1360.4 1568.97 Q1352.41 1568.97 1348.18 1562.66 Q1343.98 1556.33 1343.98 1544.33 Q1343.98 1532.3 1348.18 1526 Q1352.41 1519.66 1360.4 1519.66 Z\" fill=\"#000000\" fill-rule=\"nonzero\" fill-opacity=\"1\" /><path clip-path=\"url(#clip820)\" d=\"M1389.3 1574.09 L1391.53 1574.09 Q1395.99 1574.09 1397.32 1572.72 Q1398.69 1571.35 1398.69 1566.8 L1398.69 1558.91 Q1398.69 1553.94 1400.13 1551.68 Q1401.56 1549.42 1405.09 1548.56 Q1401.56 1547.77 1400.13 1545.51 Q1398.69 1543.25 1398.69 1538.25 L1398.69 1530.36 Q1398.69 1525.84 1397.32 1524.47 Q1395.99 1523.07 1391.53 1523.07 L1389.3 1523.07 L1389.3 1518.52 L1391.31 1518.52 Q1399.23 1518.52 1401.88 1520.87 Q1404.55 1523.2 1404.55 1530.23 L1404.55 1537.87 Q1404.55 1542.61 1406.27 1544.46 Q1407.99 1546.27 1412.51 1546.27 L1414.48 1546.27 L1414.48 1550.82 L1412.51 1550.82 Q1407.99 1550.82 1406.27 1552.67 Q1404.55 1554.52 1404.55 1559.32 L1404.55 1566.93 Q1404.55 1573.96 1401.88 1576.32 Q1399.23 1578.67 1391.31 1578.67 L1389.3 1578.67 L1389.3 1574.09 Z\" fill=\"#000000\" fill-rule=\"nonzero\" fill-opacity=\"1\" /><path clip-path=\"url(#clip820)\" d=\"M1442.84 1518.58 Q1438.57 1525.9 1436.51 1533.06 Q1434.44 1540.23 1434.44 1547.58 Q1434.44 1554.93 1436.51 1562.16 Q1438.61 1569.35 1442.84 1576.64 L1437.75 1576.64 Q1432.97 1569.16 1430.59 1561.93 Q1428.23 1554.71 1428.23 1547.58 Q1428.23 1540.48 1430.59 1533.29 Q1432.94 1526.09 1437.75 1518.58 L1442.84 1518.58 Z\" fill=\"#000000\" fill-rule=\"nonzero\" fill-opacity=\"1\" /><path clip-path=\"url(#clip820)\" d=\"M1483.83 1546.53 L1483.83 1568.04 L1477.98 1568.04 L1477.98 1546.72 Q1477.98 1541.66 1476 1539.14 Q1474.03 1536.63 1470.08 1536.63 Q1465.34 1536.63 1462.6 1539.65 Q1459.87 1542.68 1459.87 1547.9 L1459.87 1568.04 L1453.98 1568.04 L1453.98 1518.52 L1459.87 1518.52 L1459.87 1537.93 Q1461.97 1534.72 1464.8 1533.13 Q1467.67 1531.54 1471.39 1531.54 Q1477.53 1531.54 1480.68 1535.36 Q1483.83 1539.14 1483.83 1546.53 Z\" fill=\"#000000\" fill-rule=\"nonzero\" fill-opacity=\"1\" /><path clip-path=\"url(#clip820)\" d=\"M1494.59 1518.58 L1499.69 1518.58 Q1504.46 1526.09 1506.81 1533.29 Q1509.2 1540.48 1509.2 1547.58 Q1509.2 1554.71 1506.81 1561.93 Q1504.46 1569.16 1499.69 1576.64 L1494.59 1576.64 Q1498.83 1569.35 1500.89 1562.16 Q1503 1554.93 1503 1547.58 Q1503 1540.23 1500.89 1533.06 Q1498.83 1525.9 1494.59 1518.58 Z\" fill=\"#000000\" fill-rule=\"nonzero\" fill-opacity=\"1\" /><polyline clip-path=\"url(#clip822)\" style=\"stroke:#000000; stroke-linecap:round; stroke-linejoin:round; stroke-width:2; stroke-opacity:0.1; fill:none\" points=\"287.366,1367.63 2352.76,1367.63 \"/>\n",
       "<polyline clip-path=\"url(#clip822)\" style=\"stroke:#000000; stroke-linecap:round; stroke-linejoin:round; stroke-width:2; stroke-opacity:0.1; fill:none\" points=\"287.366,1046.25 2352.76,1046.25 \"/>\n",
       "<polyline clip-path=\"url(#clip822)\" style=\"stroke:#000000; stroke-linecap:round; stroke-linejoin:round; stroke-width:2; stroke-opacity:0.1; fill:none\" points=\"287.366,724.881 2352.76,724.881 \"/>\n",
       "<polyline clip-path=\"url(#clip822)\" style=\"stroke:#000000; stroke-linecap:round; stroke-linejoin:round; stroke-width:2; stroke-opacity:0.1; fill:none\" points=\"287.366,403.508 2352.76,403.508 \"/>\n",
       "<polyline clip-path=\"url(#clip822)\" style=\"stroke:#000000; stroke-linecap:round; stroke-linejoin:round; stroke-width:2; stroke-opacity:0.1; fill:none\" points=\"287.366,82.1342 2352.76,82.1342 \"/>\n",
       "<polyline clip-path=\"url(#clip820)\" style=\"stroke:#000000; stroke-linecap:round; stroke-linejoin:round; stroke-width:4; stroke-opacity:1; fill:none\" points=\"287.366,1423.18 287.366,47.2441 \"/>\n",
       "<polyline clip-path=\"url(#clip820)\" style=\"stroke:#000000; stroke-linecap:round; stroke-linejoin:round; stroke-width:4; stroke-opacity:1; fill:none\" points=\"287.366,1367.63 306.264,1367.63 \"/>\n",
       "<polyline clip-path=\"url(#clip820)\" style=\"stroke:#000000; stroke-linecap:round; stroke-linejoin:round; stroke-width:4; stroke-opacity:1; fill:none\" points=\"287.366,1046.25 306.264,1046.25 \"/>\n",
       "<polyline clip-path=\"url(#clip820)\" style=\"stroke:#000000; stroke-linecap:round; stroke-linejoin:round; stroke-width:4; stroke-opacity:1; fill:none\" points=\"287.366,724.881 306.264,724.881 \"/>\n",
       "<polyline clip-path=\"url(#clip820)\" style=\"stroke:#000000; stroke-linecap:round; stroke-linejoin:round; stroke-width:4; stroke-opacity:1; fill:none\" points=\"287.366,403.508 306.264,403.508 \"/>\n",
       "<polyline clip-path=\"url(#clip820)\" style=\"stroke:#000000; stroke-linecap:round; stroke-linejoin:round; stroke-width:4; stroke-opacity:1; fill:none\" points=\"287.366,82.1342 306.264,82.1342 \"/>\n",
       "<path clip-path=\"url(#clip820)\" d=\"M114.26 1368.08 L143.936 1368.08 L143.936 1372.01 L114.26 1372.01 L114.26 1368.08 Z\" fill=\"#000000\" fill-rule=\"nonzero\" fill-opacity=\"1\" /><path clip-path=\"url(#clip820)\" d=\"M154.839 1380.97 L162.477 1380.97 L162.477 1354.61 L154.167 1356.27 L154.167 1352.02 L162.431 1350.35 L167.107 1350.35 L167.107 1380.97 L174.746 1380.97 L174.746 1384.91 L154.839 1384.91 L154.839 1380.97 Z\" fill=\"#000000\" fill-rule=\"nonzero\" fill-opacity=\"1\" /><path clip-path=\"url(#clip820)\" d=\"M194.19 1353.43 Q190.579 1353.43 188.75 1356.99 Q186.945 1360.53 186.945 1367.66 Q186.945 1374.77 188.75 1378.33 Q190.579 1381.88 194.19 1381.88 Q197.825 1381.88 199.63 1378.33 Q201.459 1374.77 201.459 1367.66 Q201.459 1360.53 199.63 1356.99 Q197.825 1353.43 194.19 1353.43 M194.19 1349.72 Q200 1349.72 203.056 1354.33 Q206.135 1358.91 206.135 1367.66 Q206.135 1376.39 203.056 1381 Q200 1385.58 194.19 1385.58 Q188.38 1385.58 185.301 1381 Q182.246 1376.39 182.246 1367.66 Q182.246 1358.91 185.301 1354.33 Q188.38 1349.72 194.19 1349.72 Z\" fill=\"#000000\" fill-rule=\"nonzero\" fill-opacity=\"1\" /><path clip-path=\"url(#clip820)\" d=\"M214.352 1379.03 L219.236 1379.03 L219.236 1384.91 L214.352 1384.91 L214.352 1379.03 Z\" fill=\"#000000\" fill-rule=\"nonzero\" fill-opacity=\"1\" /><path clip-path=\"url(#clip820)\" d=\"M239.422 1353.43 Q235.81 1353.43 233.982 1356.99 Q232.176 1360.53 232.176 1367.66 Q232.176 1374.77 233.982 1378.33 Q235.81 1381.88 239.422 1381.88 Q243.056 1381.88 244.861 1378.33 Q246.69 1374.77 246.69 1367.66 Q246.69 1360.53 244.861 1356.99 Q243.056 1353.43 239.422 1353.43 M239.422 1349.72 Q245.232 1349.72 248.287 1354.33 Q251.366 1358.91 251.366 1367.66 Q251.366 1376.39 248.287 1381 Q245.232 1385.58 239.422 1385.58 Q233.611 1385.58 230.533 1381 Q227.477 1376.39 227.477 1367.66 Q227.477 1358.91 230.533 1354.33 Q233.611 1349.72 239.422 1349.72 Z\" fill=\"#000000\" fill-rule=\"nonzero\" fill-opacity=\"1\" /><path clip-path=\"url(#clip820)\" d=\"M145.417 1046.71 L175.093 1046.71 L175.093 1050.64 L145.417 1050.64 L145.417 1046.71 Z\" fill=\"#000000\" fill-rule=\"nonzero\" fill-opacity=\"1\" /><path clip-path=\"url(#clip820)\" d=\"M184.005 1028.97 L206.227 1028.97 L206.227 1030.97 L193.681 1063.53 L188.797 1063.53 L200.602 1032.91 L184.005 1032.91 L184.005 1028.97 Z\" fill=\"#000000\" fill-rule=\"nonzero\" fill-opacity=\"1\" /><path clip-path=\"url(#clip820)\" d=\"M215.348 1057.66 L220.232 1057.66 L220.232 1063.53 L215.348 1063.53 L215.348 1057.66 Z\" fill=\"#000000\" fill-rule=\"nonzero\" fill-opacity=\"1\" /><path clip-path=\"url(#clip820)\" d=\"M230.463 1028.97 L248.82 1028.97 L248.82 1032.91 L234.746 1032.91 L234.746 1041.38 Q235.764 1041.03 236.783 1040.87 Q237.801 1040.69 238.82 1040.69 Q244.607 1040.69 247.986 1043.86 Q251.366 1047.03 251.366 1052.45 Q251.366 1058.03 247.894 1061.13 Q244.421 1064.21 238.102 1064.21 Q235.926 1064.21 233.658 1063.84 Q231.412 1063.47 229.005 1062.72 L229.005 1058.03 Q231.088 1059.16 233.31 1059.72 Q235.533 1060.27 238.009 1060.27 Q242.014 1060.27 244.352 1058.16 Q246.69 1056.06 246.69 1052.45 Q246.69 1048.84 244.352 1046.73 Q242.014 1044.62 238.009 1044.62 Q236.135 1044.62 234.26 1045.04 Q232.408 1045.46 230.463 1046.34 L230.463 1028.97 Z\" fill=\"#000000\" fill-rule=\"nonzero\" fill-opacity=\"1\" /><path clip-path=\"url(#clip820)\" d=\"M144.422 725.333 L174.098 725.333 L174.098 729.268 L144.422 729.268 L144.422 725.333 Z\" fill=\"#000000\" fill-rule=\"nonzero\" fill-opacity=\"1\" /><path clip-path=\"url(#clip820)\" d=\"M184.237 707.601 L202.593 707.601 L202.593 711.536 L188.519 711.536 L188.519 720.009 Q189.538 719.661 190.556 719.499 Q191.575 719.314 192.593 719.314 Q198.38 719.314 201.76 722.485 Q205.139 725.657 205.139 731.073 Q205.139 736.652 201.667 739.754 Q198.195 742.833 191.875 742.833 Q189.7 742.833 187.431 742.462 Q185.186 742.092 182.778 741.351 L182.778 736.652 Q184.862 737.786 187.084 738.342 Q189.306 738.897 191.783 738.897 Q195.787 738.897 198.125 736.791 Q200.463 734.684 200.463 731.073 Q200.463 727.462 198.125 725.356 Q195.787 723.249 191.783 723.249 Q189.908 723.249 188.033 723.666 Q186.181 724.083 184.237 724.962 L184.237 707.601 Z\" fill=\"#000000\" fill-rule=\"nonzero\" fill-opacity=\"1\" /><path clip-path=\"url(#clip820)\" d=\"M214.352 736.282 L219.236 736.282 L219.236 742.161 L214.352 742.161 L214.352 736.282 Z\" fill=\"#000000\" fill-rule=\"nonzero\" fill-opacity=\"1\" /><path clip-path=\"url(#clip820)\" d=\"M239.422 710.68 Q235.81 710.68 233.982 714.245 Q232.176 717.786 232.176 724.916 Q232.176 732.022 233.982 735.587 Q235.81 739.129 239.422 739.129 Q243.056 739.129 244.861 735.587 Q246.69 732.022 246.69 724.916 Q246.69 717.786 244.861 714.245 Q243.056 710.68 239.422 710.68 M239.422 706.976 Q245.232 706.976 248.287 711.583 Q251.366 716.166 251.366 724.916 Q251.366 733.643 248.287 738.249 Q245.232 742.833 239.422 742.833 Q233.611 742.833 230.533 738.249 Q227.477 733.643 227.477 724.916 Q227.477 716.166 230.533 711.583 Q233.611 706.976 239.422 706.976 Z\" fill=\"#000000\" fill-rule=\"nonzero\" fill-opacity=\"1\" /><path clip-path=\"url(#clip820)\" d=\"M145.417 403.959 L175.093 403.959 L175.093 407.894 L145.417 407.894 L145.417 403.959 Z\" fill=\"#000000\" fill-rule=\"nonzero\" fill-opacity=\"1\" /><path clip-path=\"url(#clip820)\" d=\"M189.213 416.853 L205.533 416.853 L205.533 420.788 L183.588 420.788 L183.588 416.853 Q186.251 414.098 190.834 409.468 Q195.44 404.816 196.621 403.473 Q198.866 400.95 199.746 399.214 Q200.649 397.455 200.649 395.765 Q200.649 393.01 198.704 391.274 Q196.783 389.538 193.681 389.538 Q191.482 389.538 189.028 390.302 Q186.598 391.066 183.82 392.617 L183.82 387.894 Q186.644 386.76 189.098 386.181 Q191.551 385.603 193.588 385.603 Q198.959 385.603 202.153 388.288 Q205.348 390.973 205.348 395.464 Q205.348 397.593 204.537 399.515 Q203.75 401.413 201.644 404.005 Q201.065 404.677 197.963 407.894 Q194.862 411.089 189.213 416.853 Z\" fill=\"#000000\" fill-rule=\"nonzero\" fill-opacity=\"1\" /><path clip-path=\"url(#clip820)\" d=\"M215.348 414.908 L220.232 414.908 L220.232 420.788 L215.348 420.788 L215.348 414.908 Z\" fill=\"#000000\" fill-rule=\"nonzero\" fill-opacity=\"1\" /><path clip-path=\"url(#clip820)\" d=\"M230.463 386.228 L248.82 386.228 L248.82 390.163 L234.746 390.163 L234.746 398.635 Q235.764 398.288 236.783 398.126 Q237.801 397.941 238.82 397.941 Q244.607 397.941 247.986 401.112 Q251.366 404.283 251.366 409.7 Q251.366 415.278 247.894 418.38 Q244.421 421.459 238.102 421.459 Q235.926 421.459 233.658 421.089 Q231.412 420.718 229.005 419.978 L229.005 415.278 Q231.088 416.413 233.31 416.968 Q235.533 417.524 238.009 417.524 Q242.014 417.524 244.352 415.417 Q246.69 413.311 246.69 409.7 Q246.69 406.089 244.352 403.982 Q242.014 401.876 238.009 401.876 Q236.135 401.876 234.26 402.292 Q232.408 402.709 230.463 403.589 L230.463 386.228 Z\" fill=\"#000000\" fill-rule=\"nonzero\" fill-opacity=\"1\" /><path clip-path=\"url(#clip820)\" d=\"M194.19 67.9329 Q190.579 67.9329 188.75 71.4977 Q186.945 75.0393 186.945 82.1689 Q186.945 89.2753 188.75 92.8401 Q190.579 96.3818 194.19 96.3818 Q197.825 96.3818 199.63 92.8401 Q201.459 89.2753 201.459 82.1689 Q201.459 75.0393 199.63 71.4977 Q197.825 67.9329 194.19 67.9329 M194.19 64.2292 Q200 64.2292 203.056 68.8356 Q206.135 73.4189 206.135 82.1689 Q206.135 90.8957 203.056 95.5022 Q200 100.085 194.19 100.085 Q188.38 100.085 185.301 95.5022 Q182.246 90.8957 182.246 82.1689 Q182.246 73.4189 185.301 68.8356 Q188.38 64.2292 194.19 64.2292 Z\" fill=\"#000000\" fill-rule=\"nonzero\" fill-opacity=\"1\" /><path clip-path=\"url(#clip820)\" d=\"M214.352 93.5346 L219.236 93.5346 L219.236 99.4142 L214.352 99.4142 L214.352 93.5346 Z\" fill=\"#000000\" fill-rule=\"nonzero\" fill-opacity=\"1\" /><path clip-path=\"url(#clip820)\" d=\"M239.422 67.9329 Q235.81 67.9329 233.982 71.4977 Q232.176 75.0393 232.176 82.1689 Q232.176 89.2753 233.982 92.8401 Q235.81 96.3818 239.422 96.3818 Q243.056 96.3818 244.861 92.8401 Q246.69 89.2753 246.69 82.1689 Q246.69 75.0393 244.861 71.4977 Q243.056 67.9329 239.422 67.9329 M239.422 64.2292 Q245.232 64.2292 248.287 68.8356 Q251.366 73.4189 251.366 82.1689 Q251.366 90.8957 248.287 95.5022 Q245.232 100.085 239.422 100.085 Q233.611 100.085 230.533 95.5022 Q227.477 90.8957 227.477 82.1689 Q227.477 73.4189 230.533 68.8356 Q233.611 64.2292 239.422 64.2292 Z\" fill=\"#000000\" fill-rule=\"nonzero\" fill-opacity=\"1\" /><path clip-path=\"url(#clip820)\" d=\"M14.479 1263.65 L14.479 1257.79 L64.0042 1257.79 L64.0042 1263.65 L14.479 1263.65 Z\" fill=\"#000000\" fill-rule=\"nonzero\" fill-opacity=\"1\" /><path clip-path=\"url(#clip820)\" d=\"M32.4621 1231.72 Q32.4621 1236.43 36.1542 1239.17 Q39.8145 1241.91 46.212 1241.91 Q52.6095 1241.91 56.3017 1239.2 Q59.9619 1236.46 59.9619 1231.72 Q59.9619 1227.04 56.2698 1224.31 Q52.5777 1221.57 46.212 1221.57 Q39.8781 1221.57 36.186 1224.31 Q32.4621 1227.04 32.4621 1231.72 M27.4968 1231.72 Q27.4968 1224.08 32.4621 1219.72 Q37.4273 1215.36 46.212 1215.36 Q54.9649 1215.36 59.9619 1219.72 Q64.9272 1224.08 64.9272 1231.72 Q64.9272 1239.39 59.9619 1243.75 Q54.9649 1248.08 46.212 1248.08 Q37.4273 1248.08 32.4621 1243.75 Q27.4968 1239.39 27.4968 1231.72 Z\" fill=\"#000000\" fill-rule=\"nonzero\" fill-opacity=\"1\" /><path clip-path=\"url(#clip820)\" d=\"M45.7664 1182.2 Q39.4007 1182.2 35.8996 1184.84 Q32.3984 1187.45 32.3984 1192.19 Q32.3984 1196.9 35.8996 1199.54 Q39.4007 1202.15 45.7664 1202.15 Q52.1003 1202.15 55.6014 1199.54 Q59.1026 1196.9 59.1026 1192.19 Q59.1026 1187.45 55.6014 1184.84 Q52.1003 1182.2 45.7664 1182.2 M59.58 1176.34 Q68.683 1176.34 73.1071 1180.38 Q77.5631 1184.42 77.5631 1192.76 Q77.5631 1195.85 77.0857 1198.59 Q76.6401 1201.32 75.6852 1203.9 L69.9879 1203.9 Q71.3884 1201.32 72.0568 1198.81 Q72.7252 1196.3 72.7252 1193.69 Q72.7252 1187.93 69.7015 1185.06 Q66.7096 1182.2 60.6303 1182.2 L57.7339 1182.2 Q60.885 1184.01 62.4446 1186.84 Q64.0042 1189.68 64.0042 1193.62 Q64.0042 1200.18 59.0071 1204.19 Q54.01 1208.2 45.7664 1208.2 Q37.491 1208.2 32.4939 1204.19 Q27.4968 1200.18 27.4968 1193.62 Q27.4968 1189.68 29.0564 1186.84 Q30.616 1184.01 33.7671 1182.2 L28.3562 1182.2 L28.3562 1176.34 L59.58 1176.34 Z\" fill=\"#000000\" fill-rule=\"nonzero\" fill-opacity=\"1\" /><path clip-path=\"url(#clip820)\" d=\"M74.8259 1137.19 L79.3773 1137.19 L79.3773 1171.06 L74.8259 1171.06 L74.8259 1137.19 Z\" fill=\"#000000\" fill-rule=\"nonzero\" fill-opacity=\"1\" /><path clip-path=\"url(#clip820)\" d=\"M70.0516 1104.5 L74.6349 1104.5 L74.6349 1106.48 Q74.6349 1114.4 72.2796 1117.11 Q69.9243 1119.78 62.8902 1119.78 L55.2831 1119.78 Q50.477 1119.78 48.631 1121.5 Q46.7849 1123.22 46.7849 1127.74 L46.7849 1129.68 L42.2334 1129.68 L42.2334 1127.74 Q42.2334 1123.19 40.4192 1121.5 Q38.5732 1119.78 33.8307 1119.78 L26.1919 1119.78 Q19.1578 1119.78 16.8343 1117.11 Q14.479 1114.4 14.479 1106.48 L14.479 1104.5 L19.0304 1104.5 L19.0304 1106.67 Q19.0304 1111.15 20.4309 1112.52 Q21.8314 1113.89 26.3192 1113.89 L34.2127 1113.89 Q39.2097 1113.89 41.4696 1115.36 Q43.7294 1116.79 44.5251 1120.29 Q45.3845 1116.76 47.6443 1115.32 Q49.9041 1113.89 54.8694 1113.89 L62.7628 1113.89 Q67.2507 1113.89 68.6511 1112.52 Q70.0516 1111.15 70.0516 1106.67 L70.0516 1104.5 Z\" fill=\"#000000\" fill-rule=\"nonzero\" fill-opacity=\"1\" /><path clip-path=\"url(#clip820)\" d=\"M58.5933 1088.27 L58.5933 1077.77 L22.3406 1077.77 L24.6323 1089.19 L18.7758 1089.19 L16.4842 1077.83 L16.4842 1071.4 L58.5933 1071.4 L58.5933 1060.9 L64.0042 1060.9 L64.0042 1088.27 L58.5933 1088.27 Z\" fill=\"#000000\" fill-rule=\"nonzero\" fill-opacity=\"1\" /><path clip-path=\"url(#clip820)\" d=\"M20.7174 1034.16 Q20.7174 1039.13 25.6189 1041.64 Q30.4887 1044.12 40.2919 1044.12 Q50.0633 1044.12 54.9649 1041.64 Q59.8346 1039.13 59.8346 1034.16 Q59.8346 1029.16 54.9649 1026.68 Q50.0633 1024.17 40.2919 1024.17 Q30.4887 1024.17 25.6189 1026.68 Q20.7174 1029.16 20.7174 1034.16 M15.6248 1034.16 Q15.6248 1026.17 21.9587 1021.97 Q28.2607 1017.74 40.2919 1017.74 Q52.2913 1017.74 58.6251 1021.97 Q64.9272 1026.17 64.9272 1034.16 Q64.9272 1042.15 58.6251 1046.38 Q52.2913 1050.58 40.2919 1050.58 Q28.2607 1050.58 21.9587 1046.38 Q15.6248 1042.15 15.6248 1034.16 Z\" fill=\"#000000\" fill-rule=\"nonzero\" fill-opacity=\"1\" /><path clip-path=\"url(#clip820)\" d=\"M70.0516 1005.26 L70.0516 1003.03 Q70.0516 998.577 68.683 997.24 Q67.3143 995.872 62.7628 995.872 L54.8694 995.872 Q49.9041 995.872 47.6443 994.439 Q45.3845 993.007 44.5251 989.474 Q43.7294 993.007 41.4696 994.439 Q39.2097 995.872 34.2127 995.872 L26.3192 995.872 Q21.7995 995.872 20.4309 997.24 Q19.0304 998.577 19.0304 1003.03 L19.0304 1005.26 L14.479 1005.26 L14.479 1003.26 Q14.479 995.331 16.8343 992.689 Q19.1578 990.015 26.1919 990.015 L33.8307 990.015 Q38.5732 990.015 40.4192 988.297 Q42.2334 986.578 42.2334 982.058 L42.2334 980.085 L46.7849 980.085 L46.7849 982.058 Q46.7849 986.578 48.631 988.297 Q50.477 990.015 55.2831 990.015 L62.8902 990.015 Q69.9243 990.015 72.2796 992.689 Q74.6349 995.331 74.6349 1003.26 L74.6349 1005.26 L70.0516 1005.26 Z\" fill=\"#000000\" fill-rule=\"nonzero\" fill-opacity=\"1\" /><path clip-path=\"url(#clip820)\" d=\"M14.5426 951.726 Q21.8632 955.991 29.0246 958.059 Q36.186 960.128 43.5384 960.128 Q50.8908 960.128 58.1159 958.059 Q65.3091 955.959 72.5979 951.726 L72.5979 956.818 Q65.1182 961.592 57.8931 963.98 Q50.668 966.335 43.5384 966.335 Q36.4406 966.335 29.2474 963.98 Q22.0542 961.624 14.5426 956.818 L14.5426 951.726 Z\" fill=\"#000000\" fill-rule=\"nonzero\" fill-opacity=\"1\" /><path clip-path=\"url(#clip820)\" d=\"M14.1925 932.819 L79.3773 932.819 L79.3773 938.23 L14.1925 938.23 L14.1925 932.819 Z\" fill=\"#000000\" fill-rule=\"nonzero\" fill-opacity=\"1\" /><path clip-path=\"url(#clip820)\" d=\"M14.479 900.354 L19.3487 900.354 L19.3487 905.956 Q19.3487 909.107 20.6219 910.348 Q21.895 911.558 25.2052 911.558 L28.3562 911.558 L28.3562 901.914 L32.9077 901.914 L32.9077 911.558 L64.0042 911.558 L64.0042 917.446 L32.9077 917.446 L32.9077 923.048 L28.3562 923.048 L28.3562 917.446 L25.8736 917.446 Q19.9216 917.446 17.2162 914.677 Q14.479 911.908 14.479 905.892 L14.479 900.354 Z\" fill=\"#000000\" fill-rule=\"nonzero\" fill-opacity=\"1\" /><path clip-path=\"url(#clip820)\" d=\"M16.4842 889.915 L34.149 889.915 L34.149 895.325 L16.4842 895.325 L16.4842 889.915 Z\" fill=\"#000000\" fill-rule=\"nonzero\" fill-opacity=\"1\" /><path clip-path=\"url(#clip820)\" d=\"M14.5426 863.465 Q21.8632 867.73 29.0246 869.799 Q36.186 871.868 43.5384 871.868 Q50.8908 871.868 58.1159 869.799 Q65.3091 867.698 72.5979 863.465 L72.5979 868.558 Q65.1182 873.332 57.8931 875.719 Q50.668 878.074 43.5384 878.074 Q36.4406 878.074 29.2474 875.719 Q22.0542 873.364 14.5426 868.558 L14.5426 863.465 Z\" fill=\"#000000\" fill-rule=\"nonzero\" fill-opacity=\"1\" /><path clip-path=\"url(#clip820)\" d=\"M58.5933 850.161 L58.5933 839.657 L22.3406 839.657 L24.6323 851.084 L18.7758 851.084 L16.4842 839.721 L16.4842 833.292 L58.5933 833.292 L58.5933 822.788 L64.0042 822.788 L64.0042 850.161 L58.5933 850.161 Z\" fill=\"#000000\" fill-rule=\"nonzero\" fill-opacity=\"1\" /><path clip-path=\"url(#clip820)\" d=\"M55.9197 809.802 L55.9197 803.086 L64.0042 803.086 L64.0042 809.802 L55.9197 809.802 Z\" fill=\"#000000\" fill-rule=\"nonzero\" fill-opacity=\"1\" /><path clip-path=\"url(#clip820)\" d=\"M20.7174 775.332 Q20.7174 780.297 25.6189 782.812 Q30.4887 785.294 40.2919 785.294 Q50.0633 785.294 54.9649 782.812 Q59.8346 780.297 59.8346 775.332 Q59.8346 770.335 54.9649 767.852 Q50.0633 765.338 40.2919 765.338 Q30.4887 765.338 25.6189 767.852 Q20.7174 770.335 20.7174 775.332 M15.6248 775.332 Q15.6248 767.343 21.9587 763.142 Q28.2607 758.908 40.2919 758.908 Q52.2913 758.908 58.6251 763.142 Q64.9272 767.343 64.9272 775.332 Q64.9272 783.321 58.6251 787.554 Q52.2913 791.755 40.2919 791.755 Q28.2607 791.755 21.9587 787.554 Q15.6248 783.321 15.6248 775.332 Z\" fill=\"#000000\" fill-rule=\"nonzero\" fill-opacity=\"1\" /><path clip-path=\"url(#clip820)\" d=\"M14.5426 749.36 L14.5426 744.267 Q22.0542 739.493 29.2474 737.138 Q36.4406 734.75 43.5384 734.75 Q50.668 734.75 57.8931 737.138 Q65.1182 739.493 72.5979 744.267 L72.5979 749.36 Q65.3091 745.127 58.1159 743.058 Q50.8908 740.957 43.5384 740.957 Q36.186 740.957 29.0246 743.058 Q21.8632 745.127 14.5426 749.36 Z\" fill=\"#000000\" fill-rule=\"nonzero\" fill-opacity=\"1\" /><path clip-path=\"url(#clip820)\" d=\"M43.5384 725.966 L43.5384 708.81 L48.7583 708.81 L48.7583 725.966 L43.5384 725.966 Z\" fill=\"#000000\" fill-rule=\"nonzero\" fill-opacity=\"1\" /><path clip-path=\"url(#clip820)\" d=\"M14.479 681.438 L19.3487 681.438 L19.3487 687.039 Q19.3487 690.191 20.6219 691.432 Q21.895 692.641 25.2052 692.641 L28.3562 692.641 L28.3562 682.997 L32.9077 682.997 L32.9077 692.641 L64.0042 692.641 L64.0042 698.53 L32.9077 698.53 L32.9077 704.131 L28.3562 704.131 L28.3562 698.53 L25.8736 698.53 Q19.9216 698.53 17.2162 695.761 Q14.479 692.991 14.479 686.976 L14.479 681.438 Z\" fill=\"#000000\" fill-rule=\"nonzero\" fill-opacity=\"1\" /><path clip-path=\"url(#clip820)\" d=\"M16.4842 670.998 L34.149 670.998 L34.149 676.409 L16.4842 676.409 L16.4842 670.998 Z\" fill=\"#000000\" fill-rule=\"nonzero\" fill-opacity=\"1\" /><path clip-path=\"url(#clip820)\" d=\"M74.8259 631.531 L79.3773 631.531 L79.3773 665.396 L74.8259 665.396 L74.8259 631.531 Z\" fill=\"#000000\" fill-rule=\"nonzero\" fill-opacity=\"1\" /><path clip-path=\"url(#clip820)\" d=\"M70.0516 598.843 L74.6349 598.843 L74.6349 600.816 Q74.6349 608.741 72.2796 611.447 Q69.9243 614.12 62.8902 614.12 L55.2831 614.12 Q50.477 614.12 48.631 615.839 Q46.7849 617.558 46.7849 622.077 L46.7849 624.019 L42.2334 624.019 L42.2334 622.077 Q42.2334 617.526 40.4192 615.839 Q38.5732 614.12 33.8307 614.12 L26.1919 614.12 Q19.1578 614.12 16.8343 611.447 Q14.479 608.741 14.479 600.816 L14.479 598.843 L19.0304 598.843 L19.0304 601.007 Q19.0304 605.495 20.4309 606.863 Q21.8314 608.232 26.3192 608.232 L34.2127 608.232 Q39.2097 608.232 41.4696 609.696 Q43.7294 611.128 44.5251 614.63 Q45.3845 611.097 47.6443 609.664 Q49.9041 608.232 54.8694 608.232 L62.7628 608.232 Q67.2507 608.232 68.6511 606.863 Q70.0516 605.495 70.0516 601.007 L70.0516 598.843 Z\" fill=\"#000000\" fill-rule=\"nonzero\" fill-opacity=\"1\" /><path clip-path=\"url(#clip820)\" d=\"M42.4881 554.919 L64.0042 554.919 L64.0042 560.776 L42.679 560.776 Q37.6183 560.776 35.1038 562.749 Q32.5894 564.722 32.5894 568.669 Q32.5894 573.412 35.6131 576.149 Q38.6368 578.886 43.8567 578.886 L64.0042 578.886 L64.0042 584.774 L28.3562 584.774 L28.3562 578.886 L33.8944 578.886 Q30.6797 576.785 29.0883 573.953 Q27.4968 571.088 27.4968 567.364 Q27.4968 561.221 31.3163 558.07 Q35.1038 554.919 42.4881 554.919 Z\" fill=\"#000000\" fill-rule=\"nonzero\" fill-opacity=\"1\" /><path clip-path=\"url(#clip820)\" d=\"M49.9359 543.843 L28.3562 543.843 L28.3562 537.986 L49.7131 537.986 Q54.7739 537.986 57.3202 536.013 Q59.8346 534.04 59.8346 530.093 Q59.8346 525.351 56.8109 522.613 Q53.7872 519.844 48.5673 519.844 L28.3562 519.844 L28.3562 513.988 L64.0042 513.988 L64.0042 519.844 L58.5296 519.844 Q61.7762 521.977 63.3676 524.809 Q64.9272 527.61 64.9272 531.334 Q64.9272 537.477 61.1078 540.66 Q57.2883 543.843 49.9359 543.843 M27.4968 529.106 L27.4968 529.106 Z\" fill=\"#000000\" fill-rule=\"nonzero\" fill-opacity=\"1\" /><path clip-path=\"url(#clip820)\" d=\"M35.1993 474.17 Q31.2526 471.974 29.3747 468.919 Q27.4968 465.863 27.4968 461.725 Q27.4968 456.155 31.4117 453.132 Q35.2948 450.108 42.4881 450.108 L64.0042 450.108 L64.0042 455.996 L42.679 455.996 Q37.5546 455.996 35.072 457.81 Q32.5894 459.625 32.5894 463.349 Q32.5894 467.9 35.6131 470.542 Q38.6368 473.184 43.8567 473.184 L64.0042 473.184 L64.0042 479.072 L42.679 479.072 Q37.5228 479.072 35.072 480.886 Q32.5894 482.7 32.5894 486.488 Q32.5894 490.976 35.6449 493.617 Q38.6686 496.259 43.8567 496.259 L64.0042 496.259 L64.0042 502.148 L28.3562 502.148 L28.3562 496.259 L33.8944 496.259 Q30.616 494.254 29.0564 491.453 Q27.4968 488.652 27.4968 484.801 Q27.4968 480.918 29.4702 478.212 Q31.4436 475.475 35.1993 474.17 Z\" fill=\"#000000\" fill-rule=\"nonzero\" fill-opacity=\"1\" /><path clip-path=\"url(#clip820)\" d=\"M70.0516 436.422 L70.0516 434.194 Q70.0516 429.738 68.683 428.401 Q67.3143 427.032 62.7628 427.032 L54.8694 427.032 Q49.9041 427.032 47.6443 425.6 Q45.3845 424.168 44.5251 420.635 Q43.7294 424.168 41.4696 425.6 Q39.2097 427.032 34.2127 427.032 L26.3192 427.032 Q21.7995 427.032 20.4309 428.401 Q19.0304 429.738 19.0304 434.194 L19.0304 436.422 L14.479 436.422 L14.479 434.416 Q14.479 426.491 16.8343 423.849 Q19.1578 421.176 26.1919 421.176 L33.8307 421.176 Q38.5732 421.176 40.4192 419.457 Q42.2334 417.738 42.2334 413.219 L42.2334 411.245 L46.7849 411.245 L46.7849 413.219 Q46.7849 417.738 48.631 419.457 Q50.477 421.176 55.2831 421.176 L62.8902 421.176 Q69.9243 421.176 72.2796 423.849 Q74.6349 426.491 74.6349 434.416 L74.6349 436.422 L70.0516 436.422 Z\" fill=\"#000000\" fill-rule=\"nonzero\" fill-opacity=\"1\" /><path clip-path=\"url(#clip820)\" d=\"M14.5426 382.886 Q21.8632 387.151 29.0246 389.22 Q36.186 391.289 43.5384 391.289 Q50.8908 391.289 58.1159 389.22 Q65.3091 387.119 72.5979 382.886 L72.5979 387.979 Q65.1182 392.753 57.8931 395.14 Q50.668 397.495 43.5384 397.495 Q36.4406 397.495 29.2474 395.14 Q22.0542 392.785 14.5426 387.979 L14.5426 382.886 Z\" fill=\"#000000\" fill-rule=\"nonzero\" fill-opacity=\"1\" /><path clip-path=\"url(#clip820)\" d=\"M58.5933 369.582 L58.5933 359.078 L22.3406 359.078 L24.6323 370.505 L18.7758 370.505 L16.4842 359.142 L16.4842 352.713 L58.5933 352.713 L58.5933 342.209 L64.0042 342.209 L64.0042 369.582 L58.5933 369.582 Z\" fill=\"#000000\" fill-rule=\"nonzero\" fill-opacity=\"1\" /><path clip-path=\"url(#clip820)\" d=\"M55.9197 329.223 L55.9197 322.507 L64.0042 322.507 L64.0042 329.223 L55.9197 329.223 Z\" fill=\"#000000\" fill-rule=\"nonzero\" fill-opacity=\"1\" /><path clip-path=\"url(#clip820)\" d=\"M20.7174 294.753 Q20.7174 299.718 25.6189 302.233 Q30.4887 304.715 40.2919 304.715 Q50.0633 304.715 54.9649 302.233 Q59.8346 299.718 59.8346 294.753 Q59.8346 289.756 54.9649 287.273 Q50.0633 284.759 40.2919 284.759 Q30.4887 284.759 25.6189 287.273 Q20.7174 289.756 20.7174 294.753 M15.6248 294.753 Q15.6248 286.764 21.9587 282.562 Q28.2607 278.329 40.2919 278.329 Q52.2913 278.329 58.6251 282.562 Q64.9272 286.764 64.9272 294.753 Q64.9272 302.742 58.6251 306.975 Q52.2913 311.176 40.2919 311.176 Q28.2607 311.176 21.9587 306.975 Q15.6248 302.742 15.6248 294.753 Z\" fill=\"#000000\" fill-rule=\"nonzero\" fill-opacity=\"1\" /><path clip-path=\"url(#clip820)\" d=\"M14.5426 268.781 L14.5426 263.688 Q22.0542 258.914 29.2474 256.559 Q36.4406 254.171 43.5384 254.171 Q50.668 254.171 57.8931 256.559 Q65.1182 258.914 72.5979 263.688 L72.5979 268.781 Q65.3091 264.548 58.1159 262.479 Q50.8908 260.378 43.5384 260.378 Q36.186 260.378 29.0246 262.479 Q21.8632 264.548 14.5426 268.781 Z\" fill=\"#000000\" fill-rule=\"nonzero\" fill-opacity=\"1\" /><path clip-path=\"url(#clip820)\" d=\"M14.1925 234.883 L79.3773 234.883 L79.3773 240.294 L14.1925 240.294 L14.1925 234.883 Z\" fill=\"#000000\" fill-rule=\"nonzero\" fill-opacity=\"1\" /><path clip-path=\"url(#clip820)\" d=\"M14.5426 221.388 L14.5426 216.295 Q22.0542 211.521 29.2474 209.166 Q36.4406 206.779 43.5384 206.779 Q50.668 206.779 57.8931 209.166 Q65.1182 211.521 72.5979 216.295 L72.5979 221.388 Q65.3091 217.155 58.1159 215.086 Q50.8908 212.985 43.5384 212.985 Q36.186 212.985 29.0246 215.086 Q21.8632 217.155 14.5426 221.388 Z\" fill=\"#000000\" fill-rule=\"nonzero\" fill-opacity=\"1\" /><polyline clip-path=\"url(#clip822)\" style=\"stroke:#009af9; stroke-linecap:round; stroke-linejoin:round; stroke-width:4; stroke-opacity:1; fill:none\" points=\"2294.3,86.1857 2155.12,216.38 2015.95,345.097 1876.77,473.663 1737.59,602.214 1598.42,730.767 1459.24,859.032 1320.06,1042.01 1180.88,869.89 1041.71,869.89 902.529,869.89 763.352,480.233 624.175,357.623 484.998,279.031 345.82,96.7284 \"/>\n",
       "<polyline clip-path=\"url(#clip822)\" style=\"stroke:#e26f46; stroke-linecap:round; stroke-linejoin:round; stroke-width:4; stroke-opacity:1; fill:none\" points=\"2294.3,277.899 2155.12,534.998 2015.95,792.097 1876.77,1049.21 1737.59,1305.7 1598.42,1384.24 1459.24,1250.57 1320.06,1108.94 1180.88,920.54 1041.71,869.89 902.529,869.89 763.352,525.441 624.175,411.254 484.998,279.031 345.82,144.731 \"/>\n",
       "<path clip-path=\"url(#clip820)\" d=\"M2024.94 1377.32 L2283.91 1377.32 L2283.91 1221.8 L2024.94 1221.8  Z\" fill=\"#ffffff\" fill-rule=\"evenodd\" fill-opacity=\"1\"/>\n",
       "<polyline clip-path=\"url(#clip820)\" style=\"stroke:#000000; stroke-linecap:round; stroke-linejoin:round; stroke-width:4; stroke-opacity:1; fill:none\" points=\"2024.94,1377.32 2283.91,1377.32 2283.91,1221.8 2024.94,1221.8 2024.94,1377.32 \"/>\n",
       "<polyline clip-path=\"url(#clip820)\" style=\"stroke:#009af9; stroke-linecap:round; stroke-linejoin:round; stroke-width:4; stroke-opacity:1; fill:none\" points=\"2047.89,1273.64 2185.58,1273.64 \"/>\n",
       "<path clip-path=\"url(#clip820)\" d=\"M2222.37 1293.32 Q2220.57 1297.95 2218.85 1299.36 Q2217.14 1300.78 2214.27 1300.78 L2210.87 1300.78 L2210.87 1297.21 L2213.37 1297.21 Q2215.13 1297.21 2216.1 1296.38 Q2217.07 1295.54 2218.25 1292.44 L2219.02 1290.5 L2208.53 1264.99 L2213.04 1264.99 L2221.15 1285.27 L2229.25 1264.99 L2233.76 1264.99 L2222.37 1293.32 Z\" fill=\"#000000\" fill-rule=\"nonzero\" fill-opacity=\"1\" /><path clip-path=\"url(#clip820)\" d=\"M2241.05 1286.98 L2248.69 1286.98 L2248.69 1260.61 L2240.38 1262.28 L2240.38 1258.02 L2248.65 1256.36 L2253.32 1256.36 L2253.32 1286.98 L2260.96 1286.98 L2260.96 1290.92 L2241.05 1290.92 L2241.05 1286.98 Z\" fill=\"#000000\" fill-rule=\"nonzero\" fill-opacity=\"1\" /><polyline clip-path=\"url(#clip820)\" style=\"stroke:#e26f46; stroke-linecap:round; stroke-linejoin:round; stroke-width:4; stroke-opacity:1; fill:none\" points=\"2047.89,1325.48 2185.58,1325.48 \"/>\n",
       "<path clip-path=\"url(#clip820)\" d=\"M2222.37 1345.16 Q2220.57 1349.79 2218.85 1351.2 Q2217.14 1352.62 2214.27 1352.62 L2210.87 1352.62 L2210.87 1349.05 L2213.37 1349.05 Q2215.13 1349.05 2216.1 1348.22 Q2217.07 1347.38 2218.25 1344.28 L2219.02 1342.34 L2208.53 1316.83 L2213.04 1316.83 L2221.15 1337.11 L2229.25 1316.83 L2233.76 1316.83 L2222.37 1345.16 Z\" fill=\"#000000\" fill-rule=\"nonzero\" fill-opacity=\"1\" /><path clip-path=\"url(#clip820)\" d=\"M2244.27 1338.82 L2260.59 1338.82 L2260.59 1342.76 L2238.65 1342.76 L2238.65 1338.82 Q2241.31 1336.07 2245.89 1331.44 Q2250.5 1326.78 2251.68 1325.44 Q2253.92 1322.92 2254.8 1321.18 Q2255.71 1319.42 2255.71 1317.73 Q2255.71 1314.98 2253.76 1313.24 Q2251.84 1311.51 2248.74 1311.51 Q2246.54 1311.51 2244.09 1312.27 Q2241.66 1313.03 2238.88 1314.58 L2238.88 1309.86 Q2241.7 1308.73 2244.16 1308.15 Q2246.61 1307.57 2248.65 1307.57 Q2254.02 1307.57 2257.21 1310.26 Q2260.41 1312.94 2260.41 1317.43 Q2260.41 1319.56 2259.6 1321.48 Q2258.81 1323.38 2256.7 1325.97 Q2256.12 1326.64 2253.02 1329.86 Q2249.92 1333.06 2244.27 1338.82 Z\" fill=\"#000000\" fill-rule=\"nonzero\" fill-opacity=\"1\" /></svg>\n"
      ]
     },
     "metadata": {},
     "execution_count": 16
    }
   ],
   "cell_type": "code",
   "source": [
    "using Plots\n",
    "plot([ -i for i=1:15 ], log10.(errs_dd) )\n",
    "plot!([ -i for i=1:15 ], log10.(errs_ds) )\n",
    "xlabel!(\"log_{10}(h)\")\n",
    "ylabel!(\"log_{10}(|f'(1.0)-f'_{num}(1.0)|)\")"
   ],
   "metadata": {},
   "execution_count": 16
  },
  {
   "cell_type": "markdown",
   "source": [
    "De la figura se ve que, aproximadamente, el error de la derivada derecha\n",
    "decae hasta cierto valor de $h$. Esto también se observa en la derivada simétrica,\n",
    "pero la pendiente del decaimiento del error es 2 para la derivada simétrica,\n",
    "y sólo 1 para la derecha. Es decir, para la derivada derecha el cálculo\n",
    "da un error $\\cal{O}(h)$ mientras que para la simétrica es $\\cal{O}(h^2)$.\n",
    "Para ambos casos, al reducir más el valor de $h$ (más allá del valor *óptimo*),\n",
    "¡el error aumenta como $\\cal{O}(h)$!."
   ],
   "metadata": {}
  },
  {
   "cell_type": "markdown",
   "source": [
    "Los resultados anteriores sobre la convergencia se pueden entender analíticamente\n",
    "de la siguiente manera: si\n",
    "usamos el desarrollo en series de Taylor de $f(x_0+h)$ y $f(x_0-h)$ tenemos\n",
    "\n",
    "$$\n",
    "\\begin{align*}\n",
    "f(x_0+h) & = f(x_0) + h f^\\prime(x_0) + \\frac{h^2}{2}f^{\\prime\\prime}(x_0) + \\mathcal{O}(h^3),\\\\\n",
    "f(x_0-h) & = f(x_0) - h f^\\prime(x_0) + \\frac{h^2}{2}f^{\\prime\\prime}(x_0) + \\mathcal{O}(h^3),\\\\\n",
    "\\end{align*}\n",
    "$$\n",
    "de donde obtenemos, para cada aproximación de la derivada,\n",
    "$$\n",
    "\\begin{align*}\n",
    "\\frac{\\Delta f_+}{\\Delta x} & = f^\\prime(x_0) + \\mathcal{O}(h),\\\\\n",
    "\\frac{\\Delta f_\\textrm{sym}}{\\Delta x} & = f^\\prime(x_0) + \\mathcal{O}(h^2).\\\\\n",
    "\\end{align*}\n",
    "$$"
   ],
   "metadata": {}
  },
  {
   "cell_type": "markdown",
   "source": [
    "Como mencionamos antes, la derivada derecha tiene un error\n",
    "de orden $h$ para la derivada, mientras que la aproximación de la derivada simétrica\n",
    "tiene un error que es proporcional a $h^2$. Esto muestra que en general, la aproximación de\n",
    "la derivada simétrica puede ser mejor."
   ],
   "metadata": {}
  },
  {
   "cell_type": "markdown",
   "source": [
    "El hecho de que el *límite* no pueda ser simulado como uno quisiera no está relacionado\n",
    "con las propiedades de convergencia (en términos de $h$), sino está relacionado con que\n",
    "el cálculo *numérico* involucra números de punto flotante (y no números en $\\mathbb{R}$),\n",
    "y que las diferencias de números de punto flotante muy cercanos (como las que definen\n",
    "los numeradores), o las divisiones con números muy pequeños, conllevan la pérdida de precisión.\n",
    "Esto se conoce como\n",
    "[cancelación catastrófica](https://en.wikipedia.org/wiki/Catastrophic_cancellation)."
   ],
   "metadata": {}
  },
  {
   "cell_type": "markdown",
   "source": [
    "### Derivada de *paso complejo*\n",
    "\n",
    "Ahora, por divertimento, consideraremos la siguiente definición de la derivada,\n",
    "que podemos llamar  *derivada de paso complejo*\n",
    "\n",
    "$$\n",
    "f^\\prime(x_0) \\equiv \\lim_{h\\to 0} \\textrm{Im}\\left(\\frac{f(x_0+i h)}{h}\\right),\n",
    "$$\n",
    "\n",
    "donde $i^2 = -1$, e $\\textrm{Im}(x)$ es la parte imaginaria de $x$, y reharemos los\n",
    "ejercicios que hemos hecho hasta ahora."
   ],
   "metadata": {}
  },
  {
   "outputs": [
    {
     "output_type": "execute_result",
     "data": {
      "text/plain": "Main.var\"##292\".derivada_pasocomplejo"
     },
     "metadata": {},
     "execution_count": 17
    }
   ],
   "cell_type": "code",
   "source": [
    "\"\"\"\n",
    "    derivada_pasocomplejo(f, x0,h)\n",
    "\n",
    "Evalúa la derivada de `f` en `x0` usando la definición basada en una evaluación\n",
    "compleja.\n",
    "\"\"\"\n",
    "derivada_pasocomplejo(f, x0, h) = imag( f( complex(x0, h) )/h )"
   ],
   "metadata": {},
   "execution_count": 17
  },
  {
   "outputs": [
    {
     "output_type": "execute_result",
     "data": {
      "text/plain": "errorabs_dc (generic function with 1 method)"
     },
     "metadata": {},
     "execution_count": 18
    }
   ],
   "cell_type": "code",
   "source": [
    "errorabs_dc(f, f′, x0, h) = abs(f′(x0) - derivada_pasocomplejo(f, x0, h))"
   ],
   "metadata": {},
   "execution_count": 18
  },
  {
   "outputs": [
    {
     "output_type": "execute_result",
     "data": {
      "text/plain": "15-element Vector{Float64}:\n 0.02999999999999936\n 0.0002999999999993008\n 3.0000000013075123e-6\n 2.999999892949745e-8\n 3.000000248221113e-10\n 3.000266701747023e-12\n 3.019806626980426e-14\n 1.7763568394002505e-15\n 0.0\n 0.0\n 0.0\n 1.7763568394002505e-15\n 0.0\n 0.0\n 0.0"
     },
     "metadata": {},
     "execution_count": 19
    }
   ],
   "cell_type": "code",
   "source": [
    "errs_dc = [errorabs_dc(f, f′, 1.0, 1/10^i) for i=1:15]"
   ],
   "metadata": {},
   "execution_count": 19
  },
  {
   "outputs": [
    {
     "output_type": "execute_result",
     "data": {
      "text/plain": "(0.0, 9)"
     },
     "metadata": {},
     "execution_count": 20
    }
   ],
   "cell_type": "code",
   "source": [
    "findmin(errs_dc)"
   ],
   "metadata": {},
   "execution_count": 20
  },
  {
   "outputs": [
    {
     "output_type": "execute_result",
     "data": {
      "text/plain": "9.0"
     },
     "metadata": {},
     "execution_count": 21
    }
   ],
   "cell_type": "code",
   "source": [
    "derivada_pasocomplejo(f, 1.0, 1.0e-9)"
   ],
   "metadata": {},
   "execution_count": 21
  },
  {
   "cell_type": "markdown",
   "source": [
    "En este caso, observamos que obtenemos el resultado *numéricamente* exacto, incluso\n",
    "para un valor de $h$ finito."
   ],
   "metadata": {}
  },
  {
   "cell_type": "markdown",
   "source": [
    "Repitiendo el análisis que hicimos antes, en este caso tenemos\n",
    "$$\n",
    "f(x_0+i h) = f(x_0) + i h f^\\prime(x_0) - \\frac{h^2}{2}f^{\\prime\\prime}(x_0) + \\mathcal{O}(h^3),\n",
    "$$\n",
    "de donde tenemos\n",
    "$$\n",
    "\\textrm{Im}\\left(\\frac{f(x_0+i h)}{h}\\right) = f^\\prime(x_0) + \\mathcal{O}(h^2),\n",
    "$$\n",
    "de donde vemos que la aproximación tiene un error proporcional a $h^2$. Sin embargo, y\n",
    "a diferencia de la derivada simétrica, la implementación de la derivada compleja no\n",
    "incluye cancelaciones catastróficas (en la diferencia), por lo que para valores de $h$\n",
    "suficientemente pequeños, el error de la aproximación queda escondida en el error\n",
    "de redondeo."
   ],
   "metadata": {}
  },
  {
   "cell_type": "markdown",
   "source": [
    "Para más información sobre estos detalles ver\n",
    "[esta liga](https://nhigham.com/2020/10/06/what-is-the-complex-step-approximation/)\n",
    "y/o [este artículo](https://epubs.siam.org/doi/epdf/10.1137/S003614459631241X)."
   ],
   "metadata": {}
  },
  {
   "cell_type": "markdown",
   "source": [
    "---\n",
    "\n",
    "*This notebook was generated using [Literate.jl](https://github.com/fredrikekre/Literate.jl).*"
   ],
   "metadata": {}
  }
 ],
 "nbformat_minor": 3,
 "metadata": {
  "language_info": {
   "file_extension": ".jl",
   "mimetype": "application/julia",
   "name": "julia",
   "version": "1.9.3"
  },
  "kernelspec": {
   "name": "julia-1.9",
   "display_name": "Julia 1.9.3",
   "language": "julia"
  }
 },
 "nbformat": 4
}
